{
 "cells": [
  {
   "cell_type": "markdown",
   "id": "14895a14-674f-4421-af09-68ad1f61c0c2",
   "metadata": {},
   "source": [
    "## Final Project - Haejin Cho(hcho435)"
   ]
  },
  {
   "cell_type": "code",
   "execution_count": null,
   "id": "4f1fd467-da60-4075-a4a8-d6a5b4be2359",
   "metadata": {},
   "outputs": [],
   "source": []
  }
 ],
 "metadata": {
  "kernelspec": {
   "display_name": "Python 3 (ipykernel)",
   "language": "python",
   "name": "python3"
  },
  "language_info": {
   "codemirror_mode": {
    "name": "ipython",
    "version": 3
   },
   "file_extension": ".py",
   "mimetype": "text/x-python",
   "name": "python",
   "nbconvert_exporter": "python",
   "pygments_lexer": "ipython3",
   "version": "3.12.9"
  }
 },
 "nbformat": 4,
 "nbformat_minor": 5
}
