{
 "cells": [
  {
   "cell_type": "markdown",
   "id": "6445c0c2-7e9a-4b05-a644-e6c6b049e508",
   "metadata": {},
   "source": [
    "### References\n",
    "* [Whale Watching Logs 2: The Blue Whale](https://www.reddit.com/r/Genshin_Impact/comments/jod9o4/whale_watching_logs_2_the_blue_whale/)\n",
    "* [The 5* Rate Is Not Uniform 0.6%, There Is A Soft Pity](https://www.reddit.com/r/Genshin_Impact/comments/jo9d9d/the_5_rate_is_not_uniform_06_there_is_a_soft_pity/)\n",
    "* [Pity System Explained](https://www.mistermenplays.com/honkaistarrail/news/pity-system-explained-5-star-guaranteed)\n",
    "* [Honkai: Star Rail Warp Drop Rates & Pity System Explained](https://screenrant.com/honkai-star-rail-warp-drop-rates-pity-system/)"
   ]
  },
  {
   "cell_type": "markdown",
   "id": "57a86572-5a96-494a-a941-b9ea2ec9c8ad",
   "metadata": {},
   "source": [
    "### Contents\n",
    "Topic: Gacha Mechanics Analysis using Bayesian inference from observed roll outcomes in Honkai: Star Rail\n",
    "\n",
    "0. Abstract: Add a one-line summary of preliminary findings.\n",
    "1. Introduction: introduce the purpose of the analysis\n",
    "   - What is the pity system?\n",
    "   - What is the known probabilty based on the developer's description?\n",
    "   - “This project investigates whether the observed gacha roll outcomes align with the official stated probabilities, and whether Bayesian inference can uncover hidden patterns or validate game mechanics.”\n",
    "   - To define clear:\n",
    "       - The known rates (\"0.6% base chance for 5★, increasing after 75 pulls\").\n",
    "       - Explain the “soft pity” mechanism and “hard pity” ceiling (i.e. guaranteed 5★ by 90).\n",
    "       - Define what a \"pull\" is for the reader.\n",
    "2. Related Work: introduce the previous reddit posts\n",
    "3. Dataset: personal pull history of the last 6 months\n",
    "   - How many total pulls?\n",
    "   - Did you separate by banner type? (limited vs. standard)\n",
    "   - Did you reset pity between events?\n",
    "   - How do you handle time-based dependencies or streaks?\n",
    "   - Exploratory Data Analysis: Data Visualization\n",
    "       - Show empirical CDF of pulls until 5★.\n",
    "\n",
    "4. Bayesian Data Analysis\n",
    "   - 4.1 Model Setup\n",
    "       - Model for pulling a 5 star character.\n",
    "       - Pity-based modeling: is pull probability conditional on previous failed attempts?\n",
    "   - 4.2 Priors\n",
    "       - Known prior: based on developer’s official pity curve.\n",
    "       - Non-informative: flat prior.\n",
    "       - (Bonus) Empirical: learned prior from your pull history or reddit datasets.\n",
    "   - 4.3 Model Fitting\n",
    "       - Describe the likelihood structure.\n",
    "       - What are your observations (Bernoulli trials for success/failure)?\n",
    "       - Visualize posterior distributions.\n",
    "       - Overlay observed vs. expected soft pity curves.\n",
    "   - 4.4 Model Comparison\n",
    "       - LOO or WAIC comparison.\n",
    "       - Posterior predictive checks to validate model fit.\n",
    "   - 4.5 (optional) Exploration of Alternative Distributions\n",
    "       - Fit metalog or other flexible models.\n",
    "       - Compare shape with classical distributions (e.g. Geometric, Weibull, etc.).\n",
    "   - 4.6 Hierarchical Modeling\n",
    "       - Separate models for 4★ and 5★.\n",
    "       - Consider a shared structure where they both depend on pulls-since-last-hit.\n",
    "   - 4.7 Observations\n",
    "       - Any empirical curve that diverges from the known one?\n",
    "       - Estimate of hidden parameters (e.g., actual rate vs. stated rate)?\n",
    "5. Conclusion\n",
    "   - Summarize results and implications.\n",
    "   - Address: “Does the data support the official pity claims?”\n",
    "   - Mention limitations:\n",
    "       - Personal data only (sampling bias).\n",
    "       - Limited temporal coverage.\n",
    "   - Future work ideas:\n",
    "       - Larger sample size (community data).\n",
    "       - Compare across accounts."
   ]
  },
  {
   "cell_type": "markdown",
   "id": "f0c98de4-3910-4e61-a3ab-0d836c2f2d14",
   "metadata": {},
   "source": [
    "### The description from the developer"
   ]
  },
  {
   "cell_type": "markdown",
   "id": "b0140a23",
   "metadata": {},
   "source": [
    "1. Warp Rate\n",
    "    - For this Character Event Warp, the chances of obtaining 5-star characcters and 4-star characters are as follows:\n",
    "        - During the event, the base chance of obtaining 5-star characters is 0.600%, and the consolidated chance including the guarantee is 1.600%.\n",
    "        - Within 90 Warps, at least one 5-star character is guaranteed.\n",
    "2. Boosted Rate\n",
    "    - When you obtain a 5-star character during the Warp, there is a 50% chance that it will be the featured 5-star character.\n",
    "    - And there is a 50% chance that it will be any of the obtainable 5-star characters of the current Warp phase, with equal chance among them.\n",
    "    - If the 5-star character you obtain in this Warp is not the featured 5-star character, then the next 5-star character you obtain from Warp is guaranteed to be the featured 5-star character."
   ]
  },
  {
   "cell_type": "markdown",
   "id": "5d6bfe42",
   "metadata": {},
   "source": []
  }
 ],
 "metadata": {
  "kernelspec": {
   "display_name": "Python 3 (ipykernel)",
   "language": "python",
   "name": "python3"
  },
  "language_info": {
   "codemirror_mode": {
    "name": "ipython",
    "version": 3
   },
   "file_extension": ".py",
   "mimetype": "text/x-python",
   "name": "python",
   "nbconvert_exporter": "python",
   "pygments_lexer": "ipython3",
   "version": "3.12.9"
  }
 },
 "nbformat": 4,
 "nbformat_minor": 5
}
