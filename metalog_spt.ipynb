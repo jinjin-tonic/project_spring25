{
 "cells": [
  {
   "cell_type": "code",
   "execution_count": 2,
   "id": "856d0d08",
   "metadata": {},
   "outputs": [],
   "source": [
    "import numpy as np\n",
    "import pymc as pm\n",
    "import pytensor.tensor as pt"
   ]
  },
  {
   "cell_type": "code",
   "execution_count": 7,
   "id": "8d1409d5",
   "metadata": {},
   "outputs": [],
   "source": [
    "import numpy as np\n",
    "\n",
    "# Metalog SPT-parametrized bounded distribution implementation\n",
    "\n",
    "def check_feasibility(q05, q_alpha, q_1_alpha, alpha, bl, bu):\n",
    "    # Compute gamma values\n",
    "    gamma_alpha = (q_alpha - bl) / (bu - q_alpha)\n",
    "    gamma_1_alpha = (q_1_alpha - bl) / (bu - q_1_alpha)\n",
    "\n",
    "    # Compute k_alpha\n",
    "    k_alpha = 0.5 * (1 - 1.66711 * (0.5 - alpha))\n",
    "\n",
    "    # Compute feasibility bounds\n",
    "    left = (bl + bu * gamma_alpha**(1 - k_alpha) * gamma_1_alpha**k_alpha) / \\\n",
    "           (1 + gamma_alpha**(1 - k_alpha) * gamma_1_alpha**k_alpha)\n",
    "\n",
    "    right = (bl + bu * gamma_alpha**k_alpha * gamma_1_alpha**(1 - k_alpha)) / \\\n",
    "            (1 + gamma_alpha**k_alpha * gamma_1_alpha**(1 - k_alpha))\n",
    "    \n",
    "    print(\"left: \", left)\n",
    "    print(\"q05: \", q05)\n",
    "    print(\"right: \", right)\n",
    "\n",
    "\n",
    "    return left < q05 < right\n",
    "\n",
    "\n",
    "def compute_constants(q05, q_alpha, q_1_alpha, alpha, bl, bu):\n",
    "    # Compute gamma values\n",
    "    gamma_alpha = (q_alpha - bl) / (bu - q_alpha)\n",
    "    gamma_05 = (q05 - bl) / (bu - q05)\n",
    "    gamma_1_alpha = (q_1_alpha - bl) / (bu - q_1_alpha)\n",
    "\n",
    "    print(\"gamma_alpha: \", gamma_alpha)\n",
    "    print(\"gamma_05: \", gamma_05)\n",
    "    print(\"gamma_1_alpha: \", gamma_1_alpha)\n",
    "\n",
    "    if not check_feasibility(q05, q_alpha, q_1_alpha, alpha, bl, bu):\n",
    "        raise ValueError(\"Feasibility condition not satisfied for the given inputs.\")\n",
    "\n",
    "    # Compute constants\n",
    "    a1 = np.log(gamma_05)\n",
    "    a2 = 0.5 * (np.log((1 - alpha) / alpha))**(-1) * np.log(gamma_1_alpha / gamma_alpha)\n",
    "    a3 = ((1 - 2 * alpha) * np.log((1 - alpha) / alpha))**(-1) * \\\n",
    "         np.log((gamma_1_alpha**alpha / gamma_05**2) * (gamma_alpha**(1 - alpha)))\n",
    "\n",
    "    return a1, a2, a3\n",
    "\n",
    "def M_y(y, a1, a2, a3):\n",
    "    return a1 + a2 * np.log(y / (1 - y)) + a3 * (y - 0.5) * np.log(y / (1 - y))\n",
    "\n",
    "def m_y(y, a2, a3):\n",
    "    return 1 / (a2 / (y * (1 - y)) + a3 * ((y - 0.5) / (y * (1 - y)) + np.log(y / (1 - y))))\n",
    "\n",
    "def Mlogit_y(y, bl, bu, a1, a2, a3):\n",
    "    if y == 0:\n",
    "        return bl\n",
    "    elif y == 1:\n",
    "        return bu\n",
    "    else:\n",
    "        My = M_y(y, a1, a2, a3)\n",
    "        return (bl + bu * np.exp(My)) / (1 + np.exp(My))\n",
    "\n",
    "def mlogit_y(y, bl, bu, a1, a2, a3):\n",
    "    if y == 0 or y == 1:\n",
    "        return 0\n",
    "    else:\n",
    "        My = M_y(y, a1, a2, a3)\n",
    "        my = m_y(y, a2, a3)\n",
    "        return my * (1 + np.exp(My))**2 / ((bu - bl) * np.exp(My))"
   ]
  },
  {
   "cell_type": "code",
   "execution_count": 15,
   "id": "155d5964",
   "metadata": {},
   "outputs": [
    {
     "name": "stdout",
     "output_type": "stream",
     "text": [
      "gamma_alpha:  0.16883116883116883\n",
      "gamma_05:  3.5\n",
      "gamma_1_alpha:  7.181818181818182\n",
      "left:  21.57635368075394\n",
      "q05:  70\n",
      "right:  71.42478847648395\n"
     ]
    },
    {
     "data": {
      "text/plain": [
       "(1.252762968495368, 0.8534422659261266, -2.2240222832139036)"
      ]
     },
     "execution_count": 15,
     "metadata": {},
     "output_type": "execute_result"
    }
   ],
   "source": [
    "#a = calculate_constants(13, 75, 79, bl=0, bu=90)\n",
    "compute_constants(q05=70, q_alpha=13, q_1_alpha=79, alpha=0.1, bl=0, bu=90)"
   ]
  },
  {
   "cell_type": "code",
   "execution_count": null,
   "id": "63d7ad89",
   "metadata": {},
   "outputs": [],
   "source": []
  }
 ],
 "metadata": {
  "kernelspec": {
   "display_name": "pymc_env",
   "language": "python",
   "name": "python3"
  },
  "language_info": {
   "codemirror_mode": {
    "name": "ipython",
    "version": 3
   },
   "file_extension": ".py",
   "mimetype": "text/x-python",
   "name": "python",
   "nbconvert_exporter": "python",
   "pygments_lexer": "ipython3",
   "version": "3.12.9"
  }
 },
 "nbformat": 4,
 "nbformat_minor": 5
}
