{
 "cells": [
  {
   "cell_type": "markdown",
   "id": "fe341dbd",
   "metadata": {},
   "source": [
    "## Final Project - Haejin Cho(hcho435)"
   ]
  },
  {
   "cell_type": "code",
   "execution_count": 1,
   "id": "a3285fad",
   "metadata": {},
   "outputs": [],
   "source": [
    "import pandas as pd\n",
    "import numpy as np\n",
    "import pymc as pm\n",
    "import arviz as az\n",
    "import matplotlib.pyplot as plt\n",
    "import pytensor.tensor as pt\n",
    "\n",
    "import os\n",
    "import sys\n",
    "\n",
    "module_path = os.path.abspath(os.path.join('..', 'pymetalog'))\n",
    "\n",
    "if module_path not in sys.path:\n",
    "    sys.path.append(module_path)\n",
    "\n",
    "import pymetalog as mt"
   ]
  },
  {
   "cell_type": "markdown",
   "id": "088cef4d",
   "metadata": {},
   "source": [
    "### 1. Data Exploration"
   ]
  },
  {
   "cell_type": "code",
   "execution_count": 2,
   "id": "39d9fc09",
   "metadata": {},
   "outputs": [],
   "source": [
    "# Load the dataset\n",
    "user1_df = pd.read_csv(\"./data/warp_data_user1.csv\")\n",
    "user2_df = pd.read_csv(\"./data/warp_data_user2.csv\")\n",
    "user3_df = pd.read_csv(\"./data/warp_data_user3_whale.csv\", skiprows=1)"
   ]
  },
  {
   "cell_type": "code",
   "execution_count": 3,
   "id": "9cf88ea4",
   "metadata": {},
   "outputs": [],
   "source": [
    "# we are only interested in type 11; user3 data only contains type 11\n",
    "user1_df_11 = user1_df[user1_df[\"type\"] == 11]\n",
    "user2_df_11 = user2_df[user2_df[\"type\"] == 11]"
   ]
  },
  {
   "cell_type": "code",
   "execution_count": 4,
   "id": "53b40057",
   "metadata": {},
   "outputs": [
    {
     "data": {
      "text/html": [
       "<div>\n",
       "<style scoped>\n",
       "    .dataframe tbody tr th:only-of-type {\n",
       "        vertical-align: middle;\n",
       "    }\n",
       "\n",
       "    .dataframe tbody tr th {\n",
       "        vertical-align: top;\n",
       "    }\n",
       "\n",
       "    .dataframe thead th {\n",
       "        text-align: right;\n",
       "    }\n",
       "</style>\n",
       "<table border=\"1\" class=\"dataframe\">\n",
       "  <thead>\n",
       "    <tr style=\"text-align: right;\">\n",
       "      <th></th>\n",
       "      <th>uid</th>\n",
       "      <th>id</th>\n",
       "      <th>rarity</th>\n",
       "      <th>time</th>\n",
       "      <th>banner</th>\n",
       "      <th>type</th>\n",
       "      <th>manual</th>\n",
       "    </tr>\n",
       "  </thead>\n",
       "  <tbody>\n",
       "    <tr>\n",
       "      <th>47</th>\n",
       "      <td>1731615000000035973</td>\n",
       "      <td>20007</td>\n",
       "      <td>3</td>\n",
       "      <td>2024-11-14T20:14:29.000Z</td>\n",
       "      <td>2049</td>\n",
       "      <td>11</td>\n",
       "      <td>False</td>\n",
       "    </tr>\n",
       "    <tr>\n",
       "      <th>48</th>\n",
       "      <td>1731615000000036073</td>\n",
       "      <td>20008</td>\n",
       "      <td>3</td>\n",
       "      <td>2024-11-14T20:14:29.000Z</td>\n",
       "      <td>2049</td>\n",
       "      <td>11</td>\n",
       "      <td>False</td>\n",
       "    </tr>\n",
       "    <tr>\n",
       "      <th>49</th>\n",
       "      <td>1731615000000036173</td>\n",
       "      <td>21046</td>\n",
       "      <td>4</td>\n",
       "      <td>2024-11-14T20:14:29.000Z</td>\n",
       "      <td>2049</td>\n",
       "      <td>11</td>\n",
       "      <td>False</td>\n",
       "    </tr>\n",
       "    <tr>\n",
       "      <th>50</th>\n",
       "      <td>1731615000000036273</td>\n",
       "      <td>1108</td>\n",
       "      <td>4</td>\n",
       "      <td>2024-11-14T20:14:29.000Z</td>\n",
       "      <td>2049</td>\n",
       "      <td>11</td>\n",
       "      <td>False</td>\n",
       "    </tr>\n",
       "    <tr>\n",
       "      <th>51</th>\n",
       "      <td>1731615000000036373</td>\n",
       "      <td>20019</td>\n",
       "      <td>3</td>\n",
       "      <td>2024-11-14T20:14:29.000Z</td>\n",
       "      <td>2049</td>\n",
       "      <td>11</td>\n",
       "      <td>False</td>\n",
       "    </tr>\n",
       "  </tbody>\n",
       "</table>\n",
       "</div>"
      ],
      "text/plain": [
       "                    uid     id  rarity                      time  banner  \\\n",
       "47  1731615000000035973  20007       3  2024-11-14T20:14:29.000Z    2049   \n",
       "48  1731615000000036073  20008       3  2024-11-14T20:14:29.000Z    2049   \n",
       "49  1731615000000036173  21046       4  2024-11-14T20:14:29.000Z    2049   \n",
       "50  1731615000000036273   1108       4  2024-11-14T20:14:29.000Z    2049   \n",
       "51  1731615000000036373  20019       3  2024-11-14T20:14:29.000Z    2049   \n",
       "\n",
       "    type  manual  \n",
       "47    11   False  \n",
       "48    11   False  \n",
       "49    11   False  \n",
       "50    11   False  \n",
       "51    11   False  "
      ]
     },
     "execution_count": 4,
     "metadata": {},
     "output_type": "execute_result"
    }
   ],
   "source": [
    "user1_df_11.head()"
   ]
  },
  {
   "cell_type": "code",
   "execution_count": 5,
   "id": "37b9de23",
   "metadata": {},
   "outputs": [
    {
     "data": {
      "text/html": [
       "<div>\n",
       "<style scoped>\n",
       "    .dataframe tbody tr th:only-of-type {\n",
       "        vertical-align: middle;\n",
       "    }\n",
       "\n",
       "    .dataframe tbody tr th {\n",
       "        vertical-align: top;\n",
       "    }\n",
       "\n",
       "    .dataframe thead th {\n",
       "        text-align: right;\n",
       "    }\n",
       "</style>\n",
       "<table border=\"1\" class=\"dataframe\">\n",
       "  <thead>\n",
       "    <tr style=\"text-align: right;\">\n",
       "      <th></th>\n",
       "      <th>uid</th>\n",
       "      <th>id</th>\n",
       "      <th>rarity</th>\n",
       "      <th>time</th>\n",
       "      <th>banner</th>\n",
       "      <th>type</th>\n",
       "      <th>manual</th>\n",
       "    </tr>\n",
       "  </thead>\n",
       "  <tbody>\n",
       "    <tr>\n",
       "      <th>92</th>\n",
       "      <td>1731550200000153622</td>\n",
       "      <td>20018</td>\n",
       "      <td>3</td>\n",
       "      <td>2024-11-14T02:15:35.000Z</td>\n",
       "      <td>2050</td>\n",
       "      <td>11</td>\n",
       "      <td>False</td>\n",
       "    </tr>\n",
       "    <tr>\n",
       "      <th>93</th>\n",
       "      <td>1731550200000153722</td>\n",
       "      <td>20009</td>\n",
       "      <td>3</td>\n",
       "      <td>2024-11-14T02:15:35.000Z</td>\n",
       "      <td>2050</td>\n",
       "      <td>11</td>\n",
       "      <td>False</td>\n",
       "    </tr>\n",
       "    <tr>\n",
       "      <th>94</th>\n",
       "      <td>1731550200000153822</td>\n",
       "      <td>20018</td>\n",
       "      <td>3</td>\n",
       "      <td>2024-11-14T02:15:35.000Z</td>\n",
       "      <td>2050</td>\n",
       "      <td>11</td>\n",
       "      <td>False</td>\n",
       "    </tr>\n",
       "    <tr>\n",
       "      <th>95</th>\n",
       "      <td>1731550200000153922</td>\n",
       "      <td>20019</td>\n",
       "      <td>3</td>\n",
       "      <td>2024-11-14T02:15:35.000Z</td>\n",
       "      <td>2050</td>\n",
       "      <td>11</td>\n",
       "      <td>False</td>\n",
       "    </tr>\n",
       "    <tr>\n",
       "      <th>96</th>\n",
       "      <td>1731550200000154022</td>\n",
       "      <td>20001</td>\n",
       "      <td>3</td>\n",
       "      <td>2024-11-14T02:15:35.000Z</td>\n",
       "      <td>2050</td>\n",
       "      <td>11</td>\n",
       "      <td>False</td>\n",
       "    </tr>\n",
       "  </tbody>\n",
       "</table>\n",
       "</div>"
      ],
      "text/plain": [
       "                    uid     id  rarity                      time  banner  \\\n",
       "92  1731550200000153622  20018       3  2024-11-14T02:15:35.000Z    2050   \n",
       "93  1731550200000153722  20009       3  2024-11-14T02:15:35.000Z    2050   \n",
       "94  1731550200000153822  20018       3  2024-11-14T02:15:35.000Z    2050   \n",
       "95  1731550200000153922  20019       3  2024-11-14T02:15:35.000Z    2050   \n",
       "96  1731550200000154022  20001       3  2024-11-14T02:15:35.000Z    2050   \n",
       "\n",
       "    type  manual  \n",
       "92    11   False  \n",
       "93    11   False  \n",
       "94    11   False  \n",
       "95    11   False  \n",
       "96    11   False  "
      ]
     },
     "execution_count": 5,
     "metadata": {},
     "output_type": "execute_result"
    }
   ],
   "source": [
    "user2_df_11.head()"
   ]
  },
  {
   "cell_type": "code",
   "execution_count": 6,
   "id": "61ad077a",
   "metadata": {},
   "outputs": [
    {
     "data": {
      "text/html": [
       "<div>\n",
       "<style scoped>\n",
       "    .dataframe tbody tr th:only-of-type {\n",
       "        vertical-align: middle;\n",
       "    }\n",
       "\n",
       "    .dataframe tbody tr th {\n",
       "        vertical-align: top;\n",
       "    }\n",
       "\n",
       "    .dataframe thead th {\n",
       "        text-align: right;\n",
       "    }\n",
       "</style>\n",
       "<table border=\"1\" class=\"dataframe\">\n",
       "  <thead>\n",
       "    <tr style=\"text-align: right;\">\n",
       "      <th></th>\n",
       "      <th>uid</th>\n",
       "      <th>pull_number</th>\n",
       "      <th>rarity</th>\n",
       "      <th>type</th>\n",
       "      <th>did_win_featured</th>\n",
       "      <th>eidolon</th>\n",
       "      <th>pity_counter</th>\n",
       "      <th>pity_counter_featured</th>\n",
       "    </tr>\n",
       "  </thead>\n",
       "  <tbody>\n",
       "    <tr>\n",
       "      <th>0</th>\n",
       "      <td>user3_pull1</td>\n",
       "      <td>1</td>\n",
       "      <td>3</td>\n",
       "      <td>11</td>\n",
       "      <td>NaN</td>\n",
       "      <td>NaN</td>\n",
       "      <td>1</td>\n",
       "      <td>1</td>\n",
       "    </tr>\n",
       "    <tr>\n",
       "      <th>1</th>\n",
       "      <td>user3_pull2</td>\n",
       "      <td>2</td>\n",
       "      <td>4</td>\n",
       "      <td>11</td>\n",
       "      <td>NaN</td>\n",
       "      <td>NaN</td>\n",
       "      <td>2</td>\n",
       "      <td>2</td>\n",
       "    </tr>\n",
       "    <tr>\n",
       "      <th>2</th>\n",
       "      <td>user3_pull3</td>\n",
       "      <td>3</td>\n",
       "      <td>3</td>\n",
       "      <td>11</td>\n",
       "      <td>NaN</td>\n",
       "      <td>NaN</td>\n",
       "      <td>3</td>\n",
       "      <td>3</td>\n",
       "    </tr>\n",
       "    <tr>\n",
       "      <th>3</th>\n",
       "      <td>user3_pull4</td>\n",
       "      <td>4</td>\n",
       "      <td>3</td>\n",
       "      <td>11</td>\n",
       "      <td>NaN</td>\n",
       "      <td>NaN</td>\n",
       "      <td>4</td>\n",
       "      <td>4</td>\n",
       "    </tr>\n",
       "    <tr>\n",
       "      <th>4</th>\n",
       "      <td>user3_pull5</td>\n",
       "      <td>5</td>\n",
       "      <td>3</td>\n",
       "      <td>11</td>\n",
       "      <td>NaN</td>\n",
       "      <td>NaN</td>\n",
       "      <td>5</td>\n",
       "      <td>5</td>\n",
       "    </tr>\n",
       "  </tbody>\n",
       "</table>\n",
       "</div>"
      ],
      "text/plain": [
       "           uid  pull_number  rarity  type did_win_featured eidolon  \\\n",
       "0  user3_pull1            1       3    11              NaN     NaN   \n",
       "1  user3_pull2            2       4    11              NaN     NaN   \n",
       "2  user3_pull3            3       3    11              NaN     NaN   \n",
       "3  user3_pull4            4       3    11              NaN     NaN   \n",
       "4  user3_pull5            5       3    11              NaN     NaN   \n",
       "\n",
       "   pity_counter  pity_counter_featured  \n",
       "0             1                      1  \n",
       "1             2                      2  \n",
       "2             3                      3  \n",
       "3             4                      4  \n",
       "4             5                      5  "
      ]
     },
     "execution_count": 6,
     "metadata": {},
     "output_type": "execute_result"
    }
   ],
   "source": [
    "user3_df.head()"
   ]
  },
  {
   "cell_type": "code",
   "execution_count": 7,
   "id": "2d9c79df",
   "metadata": {},
   "outputs": [
    {
     "name": "stdout",
     "output_type": "stream",
     "text": [
      "User1's total number of character pulls: 271\n",
      "User2's total number of character pulls: 522\n",
      "User3's total number of character pulls: 580\n"
     ]
    }
   ],
   "source": [
    "# basic statistics\n",
    "print(f\"User1's total number of character pulls: {len(user1_df)}\")\n",
    "print(f\"User2's total number of character pulls: {len(user2_df)}\")\n",
    "print(f\"User3's total number of character pulls: {len(user3_df)}\")"
   ]
  },
  {
   "cell_type": "code",
   "execution_count": 20,
   "id": "49279916",
   "metadata": {},
   "outputs": [
    {
     "data": {
      "text/html": [
       "<div>\n",
       "<style scoped>\n",
       "    .dataframe tbody tr th:only-of-type {\n",
       "        vertical-align: middle;\n",
       "    }\n",
       "\n",
       "    .dataframe tbody tr th {\n",
       "        vertical-align: top;\n",
       "    }\n",
       "\n",
       "    .dataframe thead th {\n",
       "        text-align: right;\n",
       "    }\n",
       "</style>\n",
       "<table border=\"1\" class=\"dataframe\">\n",
       "  <thead>\n",
       "    <tr style=\"text-align: right;\">\n",
       "      <th></th>\n",
       "      <th>rarity</th>\n",
       "      <th>raw_count</th>\n",
       "      <th>proportion</th>\n",
       "    </tr>\n",
       "  </thead>\n",
       "  <tbody>\n",
       "    <tr>\n",
       "      <th>0</th>\n",
       "      <td>3</td>\n",
       "      <td>162</td>\n",
       "      <td>0.852632</td>\n",
       "    </tr>\n",
       "    <tr>\n",
       "      <th>1</th>\n",
       "      <td>4</td>\n",
       "      <td>25</td>\n",
       "      <td>0.131579</td>\n",
       "    </tr>\n",
       "    <tr>\n",
       "      <th>2</th>\n",
       "      <td>5</td>\n",
       "      <td>3</td>\n",
       "      <td>0.015789</td>\n",
       "    </tr>\n",
       "  </tbody>\n",
       "</table>\n",
       "</div>"
      ],
      "text/plain": [
       "   rarity  raw_count  proportion\n",
       "0       3        162    0.852632\n",
       "1       4         25    0.131579\n",
       "2       5          3    0.015789"
      ]
     },
     "execution_count": 20,
     "metadata": {},
     "output_type": "execute_result"
    }
   ],
   "source": [
    "# the number of pulls results for each rarity\n",
    "prop = pd.DataFrame(user1_df_11[[\"rarity\"]].value_counts(normalize=True)).reset_index()\n",
    "raw = user1_df_11[[\"rarity\", \"uid\"]].groupby([\"rarity\"]).count().reset_index()\n",
    "\n",
    "prop[\"raw_count\"] = raw[\"uid\"]\n",
    "prop[[\"rarity\", \"raw_count\", \"proportion\"]]"
   ]
  },
  {
   "cell_type": "code",
   "execution_count": 21,
   "id": "205d0bd4",
   "metadata": {},
   "outputs": [
    {
     "data": {
      "text/html": [
       "<div>\n",
       "<style scoped>\n",
       "    .dataframe tbody tr th:only-of-type {\n",
       "        vertical-align: middle;\n",
       "    }\n",
       "\n",
       "    .dataframe tbody tr th {\n",
       "        vertical-align: top;\n",
       "    }\n",
       "\n",
       "    .dataframe thead th {\n",
       "        text-align: right;\n",
       "    }\n",
       "</style>\n",
       "<table border=\"1\" class=\"dataframe\">\n",
       "  <thead>\n",
       "    <tr style=\"text-align: right;\">\n",
       "      <th></th>\n",
       "      <th>rarity</th>\n",
       "      <th>raw_count</th>\n",
       "      <th>proportion</th>\n",
       "    </tr>\n",
       "  </thead>\n",
       "  <tbody>\n",
       "    <tr>\n",
       "      <th>0</th>\n",
       "      <td>3</td>\n",
       "      <td>315</td>\n",
       "      <td>0.855978</td>\n",
       "    </tr>\n",
       "    <tr>\n",
       "      <th>1</th>\n",
       "      <td>4</td>\n",
       "      <td>47</td>\n",
       "      <td>0.127717</td>\n",
       "    </tr>\n",
       "    <tr>\n",
       "      <th>2</th>\n",
       "      <td>5</td>\n",
       "      <td>6</td>\n",
       "      <td>0.016304</td>\n",
       "    </tr>\n",
       "  </tbody>\n",
       "</table>\n",
       "</div>"
      ],
      "text/plain": [
       "   rarity  raw_count  proportion\n",
       "0       3        315    0.855978\n",
       "1       4         47    0.127717\n",
       "2       5          6    0.016304"
      ]
     },
     "execution_count": 21,
     "metadata": {},
     "output_type": "execute_result"
    }
   ],
   "source": [
    "# the number of pulls results for each rarity\n",
    "prop = pd.DataFrame(user2_df_11[[\"rarity\"]].value_counts(normalize=True)).reset_index()\n",
    "raw = user2_df_11[[\"rarity\", \"uid\"]].groupby([\"rarity\"]).count().reset_index()\n",
    "\n",
    "prop[\"raw_count\"] = raw[\"uid\"]\n",
    "prop[[\"rarity\", \"raw_count\", \"proportion\"]]"
   ]
  },
  {
   "cell_type": "code",
   "execution_count": 22,
   "id": "f4eacb3d",
   "metadata": {},
   "outputs": [
    {
     "data": {
      "text/html": [
       "<div>\n",
       "<style scoped>\n",
       "    .dataframe tbody tr th:only-of-type {\n",
       "        vertical-align: middle;\n",
       "    }\n",
       "\n",
       "    .dataframe tbody tr th {\n",
       "        vertical-align: top;\n",
       "    }\n",
       "\n",
       "    .dataframe thead th {\n",
       "        text-align: right;\n",
       "    }\n",
       "</style>\n",
       "<table border=\"1\" class=\"dataframe\">\n",
       "  <thead>\n",
       "    <tr style=\"text-align: right;\">\n",
       "      <th></th>\n",
       "      <th>rarity</th>\n",
       "      <th>raw_count</th>\n",
       "      <th>proportion</th>\n",
       "    </tr>\n",
       "  </thead>\n",
       "  <tbody>\n",
       "    <tr>\n",
       "      <th>0</th>\n",
       "      <td>3</td>\n",
       "      <td>488</td>\n",
       "      <td>0.841379</td>\n",
       "    </tr>\n",
       "    <tr>\n",
       "      <th>1</th>\n",
       "      <td>4</td>\n",
       "      <td>82</td>\n",
       "      <td>0.141379</td>\n",
       "    </tr>\n",
       "    <tr>\n",
       "      <th>2</th>\n",
       "      <td>5</td>\n",
       "      <td>10</td>\n",
       "      <td>0.017241</td>\n",
       "    </tr>\n",
       "  </tbody>\n",
       "</table>\n",
       "</div>"
      ],
      "text/plain": [
       "   rarity  raw_count  proportion\n",
       "0       3        488    0.841379\n",
       "1       4         82    0.141379\n",
       "2       5         10    0.017241"
      ]
     },
     "execution_count": 22,
     "metadata": {},
     "output_type": "execute_result"
    }
   ],
   "source": [
    "prop = pd.DataFrame(user3_df[[\"rarity\"]].value_counts(normalize=True)).reset_index()\n",
    "raw = user3_df[[\"rarity\", \"uid\"]].groupby([\"rarity\"]).count().reset_index()\n",
    "\n",
    "prop[\"raw_count\"] = raw[\"uid\"]\n",
    "prop[[\"rarity\", \"raw_count\", \"proportion\"]]"
   ]
  },
  {
   "cell_type": "code",
   "execution_count": 12,
   "id": "3079a028",
   "metadata": {},
   "outputs": [
    {
     "data": {
      "image/png": "[encoded data removed]",
      "text/plain": [
       "<Figure size 640x480 with 1 Axes>"
      ]
     },
     "metadata": {},
     "output_type": "display_data"
    }
   ],
   "source": [
    "# distribution of the observed data\n",
    "user1_df_11[\"rarity\"].value_counts().plot(\n",
    "    kind=\"bar\",\n",
    "    title=\"User 1 - Type 11 (Character) Pulls\",\n",
    "    xlabel=\"Rarity\",\n",
    "    ylabel=\"Count\",\n",
    ")\n",
    "plt.show()"
   ]
  },
  {
   "cell_type": "code",
   "execution_count": 23,
   "id": "1649a200",
   "metadata": {},
   "outputs": [
    {
     "data": {
      "image/png": "[encoded data removed]",
      "text/plain": [
       "<Figure size 640x480 with 1 Axes>"
      ]
     },
     "metadata": {},
     "output_type": "display_data"
    }
   ],
   "source": [
    "user2_df_11[\"rarity\"].value_counts().plot(\n",
    "    kind=\"bar\",\n",
    "    title=\"User 2 - Type 11 (Character) Pulls\",\n",
    "    xlabel=\"Rarity\",\n",
    "    ylabel=\"Count\",\n",
    ")\n",
    "plt.show()"
   ]
  },
  {
   "cell_type": "code",
   "execution_count": 24,
   "id": "e7de85a9",
   "metadata": {},
   "outputs": [
    {
     "data": {
      "image/png": "[encoded data removed]",
      "text/plain": [
       "<Figure size 640x480 with 1 Axes>"
      ]
     },
     "metadata": {},
     "output_type": "display_data"
    }
   ],
   "source": [
    "user3_df[\"rarity\"].value_counts().plot(\n",
    "    kind=\"bar\",\n",
    "    title=\"User 3 - Type 11 (Character) Pulls\",\n",
    "    xlabel=\"Rarity\",\n",
    "    ylabel=\"Count\",\n",
    ")\n",
    "plt.show()"
   ]
  },
  {
   "cell_type": "markdown",
   "id": "81222805",
   "metadata": {},
   "source": [
    "Pity count visualization for user3's 5 star pulls"
   ]
  },
  {
   "cell_type": "code",
   "execution_count": 25,
   "id": "fe6dd9b9",
   "metadata": {},
   "outputs": [
    {
     "data": {
      "image/png": "[encoded data removed]",
      "text/plain": [
       "<Figure size 1000x500 with 1 Axes>"
      ]
     },
     "metadata": {},
     "output_type": "display_data"
    }
   ],
   "source": [
    "# pity count for rarity 5\n",
    "user3_df[user3_df.rarity == 5].pity_counter.plot(\n",
    "    kind=\"hist\",\n",
    "    title=\"User 3 - Type 11 (Character) Pulls - Pity Counter\",\n",
    "    xlabel=\"Pity Counter\",\n",
    "    ylabel=\"Count\",\n",
    "    bins=50,\n",
    "    xticks=np.arange(0, 90, 5),\n",
    "    figsize=(10, 5),\n",
    ")\n",
    "plt.show()"
   ]
  },
  {
   "cell_type": "code",
   "execution_count": null,
   "id": "e0e40350",
   "metadata": {},
   "outputs": [
    {
     "data": {
      "image/png": "[encoded data removed]",
      "text/plain": [
       "<Figure size 900x500 with 1 Axes>"
      ]
     },
     "metadata": {},
     "output_type": "display_data"
    }
   ],
   "source": [
    "# observed cumulative probability of 5 star pulls for user3\n",
    "five_star_df = user3_df[user3_df[\"rarity\"] == 5]\n",
    "pity_counts = five_star_df[\"pity_counter\"].sort_values().reset_index(drop=True)\n",
    "percentiles = np.linspace(0, 1, len(pity_counts), endpoint=True)\n",
    "\n",
    "plt.figure(figsize=(9, 5))\n",
    "plt.step(pity_counts, percentiles, where=\"post\", label=\"Observed CDF\", color=\"blue\")\n",
    "\n",
    "# add vertical lines for the soft pity and hard pity\n",
    "plt.axvline(x=75, color='green', linestyle='--', label='Soft Pity', alpha=0.5)\n",
    "plt.axvline(x=90, color='orange', linestyle='--', label='Hard Pity', alpha=0.5)\n",
    "\n",
    "plt.xlabel(\"Pull number\")\n",
    "plt.ylabel(\"Cumulative Probability\")\n",
    "plt.title(\"Observed Cumulative Probability of 5-star Pulls for User 3\")\n",
    "plt.legend()\n",
    "plt.grid(True)\n",
    "plt.tight_layout()\n",
    "plt.show()"
   ]
  },
  {
   "cell_type": "markdown",
   "id": "1d08fdc7",
   "metadata": {},
   "source": [
    "### 2. Bayesian Data Analysis - Simple Models"
   ]
  },
  {
   "cell_type": "code",
   "execution_count": 27,
   "id": "0da4428d",
   "metadata": {},
   "outputs": [
    {
     "data": {
      "text/html": [
       "<div>\n",
       "<style scoped>\n",
       "    .dataframe tbody tr th:only-of-type {\n",
       "        vertical-align: middle;\n",
       "    }\n",
       "\n",
       "    .dataframe tbody tr th {\n",
       "        vertical-align: top;\n",
       "    }\n",
       "\n",
       "    .dataframe thead th {\n",
       "        text-align: right;\n",
       "    }\n",
       "</style>\n",
       "<table border=\"1\" class=\"dataframe\">\n",
       "  <thead>\n",
       "    <tr style=\"text-align: right;\">\n",
       "      <th></th>\n",
       "      <th>pull_number</th>\n",
       "      <th>rarity</th>\n",
       "      <th>is_win</th>\n",
       "      <th>pity_counter</th>\n",
       "    </tr>\n",
       "  </thead>\n",
       "  <tbody>\n",
       "    <tr>\n",
       "      <th>0</th>\n",
       "      <td>1</td>\n",
       "      <td>3</td>\n",
       "      <td>0</td>\n",
       "      <td>1</td>\n",
       "    </tr>\n",
       "    <tr>\n",
       "      <th>1</th>\n",
       "      <td>2</td>\n",
       "      <td>4</td>\n",
       "      <td>0</td>\n",
       "      <td>2</td>\n",
       "    </tr>\n",
       "    <tr>\n",
       "      <th>2</th>\n",
       "      <td>3</td>\n",
       "      <td>3</td>\n",
       "      <td>0</td>\n",
       "      <td>3</td>\n",
       "    </tr>\n",
       "    <tr>\n",
       "      <th>3</th>\n",
       "      <td>4</td>\n",
       "      <td>3</td>\n",
       "      <td>0</td>\n",
       "      <td>4</td>\n",
       "    </tr>\n",
       "    <tr>\n",
       "      <th>4</th>\n",
       "      <td>5</td>\n",
       "      <td>3</td>\n",
       "      <td>0</td>\n",
       "      <td>5</td>\n",
       "    </tr>\n",
       "  </tbody>\n",
       "</table>\n",
       "</div>"
      ],
      "text/plain": [
       "   pull_number  rarity  is_win  pity_counter\n",
       "0            1       3       0             1\n",
       "1            2       4       0             2\n",
       "2            3       3       0             3\n",
       "3            4       3       0             4\n",
       "4            5       3       0             5"
      ]
     },
     "execution_count": 27,
     "metadata": {},
     "output_type": "execute_result"
    }
   ],
   "source": [
    "# create a new dataframe for user3\n",
    "cleaned_df = user3_df.copy()\n",
    "cleaned_df[\"is_win\"] = (cleaned_df[\"rarity\"] == 5).astype(int)\n",
    "cleaned_df = cleaned_df[[\"pull_number\", \"rarity\", \"is_win\", \"pity_counter\"]]\n",
    "cleaned_df.head()"
   ]
  },
  {
   "cell_type": "code",
   "execution_count": 28,
   "id": "fa6bdc01",
   "metadata": {},
   "outputs": [],
   "source": [
    "# for comparison\n",
    "loo_scores = {}"
   ]
  },
  {
   "cell_type": "markdown",
   "id": "14693a41",
   "metadata": {},
   "source": [
    "#### 2.1 Beta-Bernoulli"
   ]
  },
  {
   "cell_type": "code",
   "execution_count": 29,
   "id": "3c97962b",
   "metadata": {},
   "outputs": [
    {
     "name": "stderr",
     "output_type": "stream",
     "text": [
      "Initializing NUTS using jitter+adapt_diag...\n",
      "Multiprocess sampling (4 chains in 4 jobs)\n",
      "NUTS: [p]\n"
     ]
    },
    {
     "data": {
      "application/vnd.jupyter.widget-view+json": {
       "model_id": "c17f23251d0b4ad7ad6690158da48498",
       "version_major": 2,
       "version_minor": 0
      },
      "text/plain": [
       "Output()"
      ]
     },
     "metadata": {},
     "output_type": "display_data"
    },
    {
     "data": {
      "text/html": [
       "<pre style=\"white-space:pre;overflow-x:auto;line-height:normal;font-family:Menlo,'DejaVu Sans Mono',consolas,'Courier New',monospace\"></pre>\n"
      ],
      "text/plain": []
     },
     "metadata": {},
     "output_type": "display_data"
    },
    {
     "name": "stderr",
     "output_type": "stream",
     "text": [
      "Sampling 4 chains for 1_000 tune and 10_000 draw iterations (4_000 + 40_000 draws total) took 2 seconds.\n"
     ]
    }
   ],
   "source": [
    "with pm.Model() as m:\n",
    "    # non-informative beta prior\n",
    "    p = pm.Beta(\"p\", alpha=1, beta=1)\n",
    "\n",
    "    # Bernoulli likelihood for pulls\n",
    "    y = pm.Bernoulli(\"y\", p=p, observed=cleaned_df[\"is_win\"])\n",
    "\n",
    "    # sample from the posterior\n",
    "    trace = pm.sample(10000, tune=1000, return_inferencedata=True, idata_kwargs={\"log_likelihood\": True})\n",
    "    loo_scores[\"beta_bernoulli\"] = az.loo(trace)"
   ]
  },
  {
   "cell_type": "code",
   "execution_count": 36,
   "id": "00869eb5",
   "metadata": {},
   "outputs": [
    {
     "data": {
      "image/png": "[encoded data removed]",
      "text/plain": [
       "<Figure size 1000x400 with 2 Axes>"
      ]
     },
     "metadata": {},
     "output_type": "display_data"
    }
   ],
   "source": [
    "az.plot_trace(trace, var_names=[\"p\"], figsize=(10, 4))\n",
    "plt.show()"
   ]
  },
  {
   "cell_type": "code",
   "execution_count": 39,
   "id": "b0ebd55e",
   "metadata": {},
   "outputs": [
    {
     "data": {
      "text/html": [
       "<div>\n",
       "<style scoped>\n",
       "    .dataframe tbody tr th:only-of-type {\n",
       "        vertical-align: middle;\n",
       "    }\n",
       "\n",
       "    .dataframe tbody tr th {\n",
       "        vertical-align: top;\n",
       "    }\n",
       "\n",
       "    .dataframe thead th {\n",
       "        text-align: right;\n",
       "    }\n",
       "</style>\n",
       "<table border=\"1\" class=\"dataframe\">\n",
       "  <thead>\n",
       "    <tr style=\"text-align: right;\">\n",
       "      <th></th>\n",
       "      <th>mean</th>\n",
       "      <th>sd</th>\n",
       "      <th>hdi_2.5%</th>\n",
       "      <th>hdi_97.5%</th>\n",
       "    </tr>\n",
       "  </thead>\n",
       "  <tbody>\n",
       "    <tr>\n",
       "      <th>p</th>\n",
       "      <td>0.019</td>\n",
       "      <td>0.006</td>\n",
       "      <td>0.009</td>\n",
       "      <td>0.03</td>\n",
       "    </tr>\n",
       "  </tbody>\n",
       "</table>\n",
       "</div>"
      ],
      "text/plain": [
       "    mean     sd  hdi_2.5%  hdi_97.5%\n",
       "p  0.019  0.006     0.009       0.03"
      ]
     },
     "execution_count": 39,
     "metadata": {},
     "output_type": "execute_result"
    }
   ],
   "source": [
    "az.summary(trace, kind=\"stats\", hdi_prob=0.95)"
   ]
  },
  {
   "cell_type": "markdown",
   "id": "99e952ad",
   "metadata": {},
   "source": [
    "This is above the advertised rate of 1.6%."
   ]
  },
  {
   "cell_type": "markdown",
   "id": "67e8d8a8",
   "metadata": {},
   "source": [
    "#### 2.2 Normal-Student's T"
   ]
  },
  {
   "cell_type": "code",
   "execution_count": 46,
   "id": "33a691c1",
   "metadata": {},
   "outputs": [
    {
     "name": "stderr",
     "output_type": "stream",
     "text": [
      "Initializing NUTS using jitter+adapt_diag...\n",
      "Sequential sampling (2 chains in 1 job)\n",
      "NUTS: [mu, sigma]\n"
     ]
    },
    {
     "data": {
      "application/vnd.jupyter.widget-view+json": {
       "model_id": "28d060e9a41f456e98490160d8a6fe16",
       "version_major": 2,
       "version_minor": 0
      },
      "text/plain": [
       "Output()"
      ]
     },
     "metadata": {},
     "output_type": "display_data"
    },
    {
     "data": {
      "text/html": [
       "<pre style=\"white-space:pre;overflow-x:auto;line-height:normal;font-family:Menlo,'DejaVu Sans Mono',consolas,'Courier New',monospace\"></pre>\n"
      ],
      "text/plain": []
     },
     "metadata": {},
     "output_type": "display_data"
    },
    {
     "name": "stderr",
     "output_type": "stream",
     "text": [
      "Sampling 2 chains for 1_000 tune and 10_000 draw iterations (2_000 + 20_000 draws total) took 5 seconds.\n",
      "There were 1 divergences after tuning. Increase `target_accept` or reparameterize.\n",
      "We recommend running at least 4 chains for robust computation of convergence diagnostics\n"
     ]
    }
   ],
   "source": [
    "with pm.Model() as m_student:\n",
    "    # non-informative priors\n",
    "    mu = pm.Normal(\"mu\", mu=50, sigma=50)\n",
    "    sigma = pm.HalfNormal(\"sigma\", sigma=20)\n",
    "\n",
    "    # degrees of freedom\n",
    "    nu = 1\n",
    "\n",
    "    # deterministic variable for the probability of pulling a 5-star character\n",
    "    p = pm.Deterministic(\"p\", 1 - pm.math.exp(-1 / mu))\n",
    "\n",
    "    # likelihood\n",
    "    y = pm.StudentT(\"y\", mu=mu, sigma=sigma, nu=nu, observed=cleaned_df[cleaned_df[\"rarity\"] == 5][\"pity_counter\"].values)\n",
    "\n",
    "    # sample\n",
    "    trace_student = pm.sample(10000, tune=1000, cores=1, return_inferencedata=True, idata_kwargs={\"log_likelihood\": True})\n",
    "    loo_scores[\"student_t\"] = az.loo(trace_student)"
   ]
  },
  {
   "cell_type": "code",
   "execution_count": 47,
   "id": "e62f66aa",
   "metadata": {},
   "outputs": [
    {
     "data": {
      "image/png": "[encoded data removed]",
      "text/plain": [
       "<Figure size 1000x500 with 6 Axes>"
      ]
     },
     "metadata": {},
     "output_type": "display_data"
    }
   ],
   "source": [
    "az.plot_trace(trace_student, var_names=[\"mu\", \"sigma\", \"p\"], figsize=(10, 5))\n",
    "plt.show()"
   ]
  },
  {
   "cell_type": "code",
   "execution_count": 49,
   "id": "37fa0d27",
   "metadata": {},
   "outputs": [
    {
     "data": {
      "text/html": [
       "<div>\n",
       "<style scoped>\n",
       "    .dataframe tbody tr th:only-of-type {\n",
       "        vertical-align: middle;\n",
       "    }\n",
       "\n",
       "    .dataframe tbody tr th {\n",
       "        vertical-align: top;\n",
       "    }\n",
       "\n",
       "    .dataframe thead th {\n",
       "        text-align: right;\n",
       "    }\n",
       "</style>\n",
       "<table border=\"1\" class=\"dataframe\">\n",
       "  <thead>\n",
       "    <tr style=\"text-align: right;\">\n",
       "      <th></th>\n",
       "      <th>mean</th>\n",
       "      <th>sd</th>\n",
       "      <th>hdi_2.5%</th>\n",
       "      <th>hdi_97.5%</th>\n",
       "    </tr>\n",
       "  </thead>\n",
       "  <tbody>\n",
       "    <tr>\n",
       "      <th>mu</th>\n",
       "      <td>73.629</td>\n",
       "      <td>4.770</td>\n",
       "      <td>63.988</td>\n",
       "      <td>80.602</td>\n",
       "    </tr>\n",
       "    <tr>\n",
       "      <th>sigma</th>\n",
       "      <td>8.815</td>\n",
       "      <td>5.557</td>\n",
       "      <td>1.375</td>\n",
       "      <td>19.659</td>\n",
       "    </tr>\n",
       "    <tr>\n",
       "      <th>p</th>\n",
       "      <td>0.014</td>\n",
       "      <td>0.002</td>\n",
       "      <td>0.012</td>\n",
       "      <td>0.015</td>\n",
       "    </tr>\n",
       "  </tbody>\n",
       "</table>\n",
       "</div>"
      ],
      "text/plain": [
       "         mean     sd  hdi_2.5%  hdi_97.5%\n",
       "mu     73.629  4.770    63.988     80.602\n",
       "sigma   8.815  5.557     1.375     19.659\n",
       "p       0.014  0.002     0.012      0.015"
      ]
     },
     "execution_count": 49,
     "metadata": {},
     "output_type": "execute_result"
    }
   ],
   "source": [
    "az.summary(trace_student, kind='stats', hdi_prob=0.95)"
   ]
  },
  {
   "cell_type": "markdown",
   "id": "62521539",
   "metadata": {},
   "source": [
    "This is not too bad, close to the expected 5-star win at ~73 pulls and the probability of winning is around 1.4%, which is a bit below the advertised rate."
   ]
  },
  {
   "cell_type": "code",
   "execution_count": 58,
   "id": "aad08c00",
   "metadata": {},
   "outputs": [
    {
     "data": {
      "text/plain": [
       "Computed from 40000 posterior samples and 580 observations log-likelihood matrix.\n",
       "\n",
       "         Estimate       SE\n",
       "elpd_loo   -51.53    12.69\n",
       "p_loo        0.97        -\n",
       "------\n",
       "\n",
       "Pareto k diagnostic values:\n",
       "                         Count   Pct.\n",
       "(-Inf, 0.70]   (good)      580  100.0%\n",
       "   (0.70, 1]   (bad)         0    0.0%\n",
       "   (1, Inf)   (very bad)    0    0.0%"
      ]
     },
     "execution_count": 58,
     "metadata": {},
     "output_type": "execute_result"
    }
   ],
   "source": [
    "loo_scores[\"beta_bernoulli\"]"
   ]
  },
  {
   "cell_type": "code",
   "execution_count": 59,
   "id": "90109cc8",
   "metadata": {},
   "outputs": [
    {
     "data": {
      "text/plain": [
       "Computed from 20000 posterior samples and 10 observations log-likelihood matrix.\n",
       "\n",
       "         Estimate       SE\n",
       "elpd_loo   -48.22     5.36\n",
       "p_loo        3.80        -\n",
       "------\n",
       "\n",
       "Pareto k diagnostic values:\n",
       "                         Count   Pct.\n",
       "(-Inf, 0.70]   (good)       10  100.0%\n",
       "   (0.70, 1]   (bad)         0    0.0%\n",
       "   (1, Inf)   (very bad)    0    0.0%"
      ]
     },
     "execution_count": 59,
     "metadata": {},
     "output_type": "execute_result"
    }
   ],
   "source": [
    "loo_scores[\"student_t\"]"
   ]
  },
  {
   "cell_type": "markdown",
   "id": "cee10e6a",
   "metadata": {},
   "source": [
    "These are not a fair comparison since the number of observations fed to the model is different."
   ]
  },
  {
   "cell_type": "markdown",
   "id": "37b295c8",
   "metadata": {},
   "source": [
    "#### 2.3 Beta-Geometric"
   ]
  },
  {
   "cell_type": "code",
   "execution_count": 61,
   "id": "1a2e7590",
   "metadata": {},
   "outputs": [
    {
     "name": "stderr",
     "output_type": "stream",
     "text": [
      "Initializing NUTS using jitter+adapt_diag...\n",
      "Multiprocess sampling (4 chains in 4 jobs)\n",
      "NUTS: [p]\n"
     ]
    },
    {
     "data": {
      "application/vnd.jupyter.widget-view+json": {
       "model_id": "ee360e604d7a4089ad10cd5444594cb4",
       "version_major": 2,
       "version_minor": 0
      },
      "text/plain": [
       "Output()"
      ]
     },
     "metadata": {},
     "output_type": "display_data"
    },
    {
     "data": {
      "text/html": [
       "<pre style=\"white-space:pre;overflow-x:auto;line-height:normal;font-family:Menlo,'DejaVu Sans Mono',consolas,'Courier New',monospace\"></pre>\n"
      ],
      "text/plain": []
     },
     "metadata": {},
     "output_type": "display_data"
    },
    {
     "name": "stderr",
     "output_type": "stream",
     "text": [
      "Sampling 4 chains for 1_000 tune and 10_000 draw iterations (4_000 + 40_000 draws total) took 2 seconds.\n"
     ]
    }
   ],
   "source": [
    "with pm.Model() as model_geo:\n",
    "    p = pm.Beta(\"p\", alpha=1, beta=1)\n",
    "\n",
    "    # likelihood for the number of pulls until the first success\n",
    "    pull_number = pm.Geometric(\"pull_number\", p=p, observed=cleaned_df[cleaned_df[\"rarity\"] == 5][\"pity_counter\"].values)\n",
    "\n",
    "    trace_geo = pm.sample(10000, tune=1000, return_inferencedata=True, idata_kwargs={\"log_likelihood\": True})\n",
    "\n",
    "    loo_scores[\"geometric\"] = az.loo(trace_geo)"
   ]
  },
  {
   "cell_type": "code",
   "execution_count": null,
   "id": "cbe49763",
   "metadata": {},
   "outputs": [
    {
     "data": {
      "image/png": "[encoded data removed]",
      "text/plain": [
       "<Figure size 800x300 with 2 Axes>"
      ]
     },
     "metadata": {},
     "output_type": "display_data"
    }
   ],
   "source": [
    "az.plot_trace(trace_geo, figsize=(8, 3), var_names=[\"p\"])\n",
    "plt.show()"
   ]
  },
  {
   "cell_type": "code",
   "execution_count": 66,
   "id": "13112325",
   "metadata": {},
   "outputs": [
    {
     "data": {
      "text/html": [
       "<div>\n",
       "<style scoped>\n",
       "    .dataframe tbody tr th:only-of-type {\n",
       "        vertical-align: middle;\n",
       "    }\n",
       "\n",
       "    .dataframe tbody tr th {\n",
       "        vertical-align: top;\n",
       "    }\n",
       "\n",
       "    .dataframe thead th {\n",
       "        text-align: right;\n",
       "    }\n",
       "</style>\n",
       "<table border=\"1\" class=\"dataframe\">\n",
       "  <thead>\n",
       "    <tr style=\"text-align: right;\">\n",
       "      <th></th>\n",
       "      <th>mean</th>\n",
       "      <th>sd</th>\n",
       "      <th>hdi_2.5%</th>\n",
       "      <th>hdi_97.5%</th>\n",
       "    </tr>\n",
       "  </thead>\n",
       "  <tbody>\n",
       "    <tr>\n",
       "      <th>p</th>\n",
       "      <td>0.019</td>\n",
       "      <td>0.006</td>\n",
       "      <td>0.009</td>\n",
       "      <td>0.03</td>\n",
       "    </tr>\n",
       "  </tbody>\n",
       "</table>\n",
       "</div>"
      ],
      "text/plain": [
       "    mean     sd  hdi_2.5%  hdi_97.5%\n",
       "p  0.019  0.006     0.009       0.03"
      ]
     },
     "execution_count": 66,
     "metadata": {},
     "output_type": "execute_result"
    }
   ],
   "source": [
    "az.summary(trace_geo, kind='stats', hdi_prob=0.95)"
   ]
  },
  {
   "cell_type": "markdown",
   "id": "bf548626",
   "metadata": {},
   "source": [
    "The mean of the probability is too high, and the confidence intervals are extremely wide."
   ]
  },
  {
   "cell_type": "code",
   "execution_count": 101,
   "id": "0b7b4b8a",
   "metadata": {},
   "outputs": [
    {
     "name": "stderr",
     "output_type": "stream",
     "text": [
      "Sampling: [pull_number]\n"
     ]
    },
    {
     "data": {
      "application/vnd.jupyter.widget-view+json": {
       "model_id": "2cb174cb7fc248ecbb70b3d1ece7cf0c",
       "version_major": 2,
       "version_minor": 0
      },
      "text/plain": [
       "Output()"
      ]
     },
     "metadata": {},
     "output_type": "display_data"
    },
    {
     "data": {
      "text/html": [
       "<pre style=\"white-space:pre;overflow-x:auto;line-height:normal;font-family:Menlo,'DejaVu Sans Mono',consolas,'Courier New',monospace\"></pre>\n"
      ],
      "text/plain": []
     },
     "metadata": {},
     "output_type": "display_data"
    },
    {
     "data": {
      "text/html": [
       "<div>\n",
       "<style scoped>\n",
       "    .dataframe tbody tr th:only-of-type {\n",
       "        vertical-align: middle;\n",
       "    }\n",
       "\n",
       "    .dataframe tbody tr th {\n",
       "        vertical-align: top;\n",
       "    }\n",
       "\n",
       "    .dataframe thead th {\n",
       "        text-align: right;\n",
       "    }\n",
       "</style>\n",
       "<table border=\"1\" class=\"dataframe\">\n",
       "  <thead>\n",
       "    <tr style=\"text-align: right;\">\n",
       "      <th></th>\n",
       "      <th>mean</th>\n",
       "      <th>sd</th>\n",
       "      <th>hdi_2.5%</th>\n",
       "      <th>hdi_97.5%</th>\n",
       "    </tr>\n",
       "  </thead>\n",
       "  <tbody>\n",
       "    <tr>\n",
       "      <th>pull_number[0]</th>\n",
       "      <td>57.862</td>\n",
       "      <td>63.590</td>\n",
       "      <td>1.0</td>\n",
       "      <td>180.0</td>\n",
       "    </tr>\n",
       "    <tr>\n",
       "      <th>pull_number[1]</th>\n",
       "      <td>58.007</td>\n",
       "      <td>63.347</td>\n",
       "      <td>1.0</td>\n",
       "      <td>181.0</td>\n",
       "    </tr>\n",
       "    <tr>\n",
       "      <th>pull_number[2]</th>\n",
       "      <td>57.889</td>\n",
       "      <td>63.692</td>\n",
       "      <td>1.0</td>\n",
       "      <td>182.0</td>\n",
       "    </tr>\n",
       "    <tr>\n",
       "      <th>pull_number[3]</th>\n",
       "      <td>57.419</td>\n",
       "      <td>62.793</td>\n",
       "      <td>1.0</td>\n",
       "      <td>179.0</td>\n",
       "    </tr>\n",
       "    <tr>\n",
       "      <th>pull_number[4]</th>\n",
       "      <td>57.441</td>\n",
       "      <td>63.192</td>\n",
       "      <td>1.0</td>\n",
       "      <td>179.0</td>\n",
       "    </tr>\n",
       "    <tr>\n",
       "      <th>pull_number[5]</th>\n",
       "      <td>57.856</td>\n",
       "      <td>62.892</td>\n",
       "      <td>1.0</td>\n",
       "      <td>180.0</td>\n",
       "    </tr>\n",
       "    <tr>\n",
       "      <th>pull_number[6]</th>\n",
       "      <td>57.967</td>\n",
       "      <td>63.494</td>\n",
       "      <td>1.0</td>\n",
       "      <td>183.0</td>\n",
       "    </tr>\n",
       "    <tr>\n",
       "      <th>pull_number[7]</th>\n",
       "      <td>57.801</td>\n",
       "      <td>63.543</td>\n",
       "      <td>1.0</td>\n",
       "      <td>179.0</td>\n",
       "    </tr>\n",
       "    <tr>\n",
       "      <th>pull_number[8]</th>\n",
       "      <td>57.798</td>\n",
       "      <td>62.549</td>\n",
       "      <td>1.0</td>\n",
       "      <td>179.0</td>\n",
       "    </tr>\n",
       "    <tr>\n",
       "      <th>pull_number[9]</th>\n",
       "      <td>57.474</td>\n",
       "      <td>63.024</td>\n",
       "      <td>1.0</td>\n",
       "      <td>178.0</td>\n",
       "    </tr>\n",
       "  </tbody>\n",
       "</table>\n",
       "</div>"
      ],
      "text/plain": [
       "                  mean      sd  hdi_2.5%  hdi_97.5%\n",
       "pull_number[0]  57.862  63.590       1.0      180.0\n",
       "pull_number[1]  58.007  63.347       1.0      181.0\n",
       "pull_number[2]  57.889  63.692       1.0      182.0\n",
       "pull_number[3]  57.419  62.793       1.0      179.0\n",
       "pull_number[4]  57.441  63.192       1.0      179.0\n",
       "pull_number[5]  57.856  62.892       1.0      180.0\n",
       "pull_number[6]  57.967  63.494       1.0      183.0\n",
       "pull_number[7]  57.801  63.543       1.0      179.0\n",
       "pull_number[8]  57.798  62.549       1.0      179.0\n",
       "pull_number[9]  57.474  63.024       1.0      178.0"
      ]
     },
     "execution_count": 101,
     "metadata": {},
     "output_type": "execute_result"
    }
   ],
   "source": [
    "with model_geo:\n",
    "    ppc = pm.sample_posterior_predictive(trace_geo, var_names=[\"pull_number\"])\n",
    "\n",
    "az.summary(ppc.posterior_predictive, kind='stats', hdi_prob=0.95)"
   ]
  },
  {
   "cell_type": "markdown",
   "id": "594d7d09",
   "metadata": {},
   "source": [
    "Not the quite expected value for pull numbers as well."
   ]
  },
  {
   "cell_type": "code",
   "execution_count": 85,
   "id": "7615d3ea",
   "metadata": {},
   "outputs": [
    {
     "data": {
      "text/html": [
       "<div>\n",
       "<style scoped>\n",
       "    .dataframe tbody tr th:only-of-type {\n",
       "        vertical-align: middle;\n",
       "    }\n",
       "\n",
       "    .dataframe tbody tr th {\n",
       "        vertical-align: top;\n",
       "    }\n",
       "\n",
       "    .dataframe thead th {\n",
       "        text-align: right;\n",
       "    }\n",
       "</style>\n",
       "<table border=\"1\" class=\"dataframe\">\n",
       "  <thead>\n",
       "    <tr style=\"text-align: right;\">\n",
       "      <th></th>\n",
       "      <th>elpd_loo</th>\n",
       "      <th>se</th>\n",
       "      <th>p_loo</th>\n",
       "      <th>n_samples</th>\n",
       "      <th>n_data_points</th>\n",
       "      <th>warning</th>\n",
       "    </tr>\n",
       "  </thead>\n",
       "  <tbody>\n",
       "    <tr>\n",
       "      <th>student_t</th>\n",
       "      <td>-48.216102</td>\n",
       "      <td>5.35571</td>\n",
       "      <td>3.803269</td>\n",
       "      <td>20000</td>\n",
       "      <td>10</td>\n",
       "      <td>False</td>\n",
       "    </tr>\n",
       "    <tr>\n",
       "      <th>geometric</th>\n",
       "      <td>-51.129908</td>\n",
       "      <td>1.590187</td>\n",
       "      <td>0.291459</td>\n",
       "      <td>40000</td>\n",
       "      <td>10</td>\n",
       "      <td>False</td>\n",
       "    </tr>\n",
       "    <tr>\n",
       "      <th>beta_bernoulli</th>\n",
       "      <td>-51.528348</td>\n",
       "      <td>12.691076</td>\n",
       "      <td>0.969844</td>\n",
       "      <td>40000</td>\n",
       "      <td>580</td>\n",
       "      <td>False</td>\n",
       "    </tr>\n",
       "  </tbody>\n",
       "</table>\n",
       "</div>"
      ],
      "text/plain": [
       "                 elpd_loo         se     p_loo n_samples n_data_points warning\n",
       "student_t      -48.216102    5.35571  3.803269     20000            10   False\n",
       "geometric      -51.129908   1.590187  0.291459     40000            10   False\n",
       "beta_bernoulli -51.528348  12.691076  0.969844     40000           580   False"
      ]
     },
     "execution_count": 85,
     "metadata": {},
     "output_type": "execute_result"
    }
   ],
   "source": [
    "loo_scores_df = pd.DataFrame(loo_scores)\n",
    "loo_scores_df.T[[\"elpd_loo\", \"se\", \"p_loo\", \"n_samples\", \"n_data_points\", \"warning\"]].sort_values(\"elpd_loo\", ascending=False)"
   ]
  },
  {
   "cell_type": "markdown",
   "id": "4edd9a61",
   "metadata": {},
   "source": [
    "### 3. Bayesian Data Analysis - Complex Models"
   ]
  },
  {
   "cell_type": "markdown",
   "id": "397ebad6",
   "metadata": {},
   "source": [
    "#### 3.1 pymetalog Metalog prior distribution\n",
    "* [The code base is forked](https://github.com/jinjin-tonic/pymetalog) from the original library [pymetalog](https://github.com/tjefferies/pymetalog) and locally imported."
   ]
  },
  {
   "cell_type": "code",
   "execution_count": 137,
   "id": "52d69713",
   "metadata": {},
   "outputs": [
    {
     "name": "stderr",
     "output_type": "stream",
     "text": [
      "/Users/haejin.cho/Documents/OMSCS/ISYE6420/pymetalog/pymetalog/support.py:35: FutureWarning: Setting an item of incompatible dtype is deprecated and will raise an error in a future version of pandas. Value '0.05' has dtype incompatible with int64, please explicitly cast to a compatible dtype first.\n",
      "  x.loc[i, \"probs\"] = 0.5 / l\n"
     ]
    }
   ],
   "source": [
    "# fitting the data\n",
    "pull_data = np.sort(np.array([13, 40, 75,  6, 76, 78, 61, 74, 75, 79]))\n",
    "dist = mt.metalog(x = pull_data, term_limit=4, bounds=[0, 90], boundedness=\"b\")"
   ]
  },
  {
   "cell_type": "code",
   "execution_count": 138,
   "id": "2706b4f5",
   "metadata": {},
   "outputs": [
    {
     "data": {
      "text/html": [
       "<div>\n",
       "<style scoped>\n",
       "    .dataframe tbody tr th:only-of-type {\n",
       "        vertical-align: middle;\n",
       "    }\n",
       "\n",
       "    .dataframe tbody tr th {\n",
       "        vertical-align: top;\n",
       "    }\n",
       "\n",
       "    .dataframe thead th {\n",
       "        text-align: right;\n",
       "    }\n",
       "</style>\n",
       "<table border=\"1\" class=\"dataframe\">\n",
       "  <thead>\n",
       "    <tr style=\"text-align: right;\">\n",
       "      <th></th>\n",
       "      <th>x</th>\n",
       "      <th>probs</th>\n",
       "      <th>z</th>\n",
       "    </tr>\n",
       "  </thead>\n",
       "  <tbody>\n",
       "    <tr>\n",
       "      <th>0</th>\n",
       "      <td>6</td>\n",
       "      <td>0.05</td>\n",
       "      <td>-2.639057</td>\n",
       "    </tr>\n",
       "    <tr>\n",
       "      <th>1</th>\n",
       "      <td>13</td>\n",
       "      <td>0.15</td>\n",
       "      <td>-1.778856</td>\n",
       "    </tr>\n",
       "    <tr>\n",
       "      <th>2</th>\n",
       "      <td>40</td>\n",
       "      <td>0.25</td>\n",
       "      <td>-0.223144</td>\n",
       "    </tr>\n",
       "    <tr>\n",
       "      <th>3</th>\n",
       "      <td>61</td>\n",
       "      <td>0.35</td>\n",
       "      <td>0.743578</td>\n",
       "    </tr>\n",
       "    <tr>\n",
       "      <th>4</th>\n",
       "      <td>74</td>\n",
       "      <td>0.45</td>\n",
       "      <td>1.531476</td>\n",
       "    </tr>\n",
       "    <tr>\n",
       "      <th>5</th>\n",
       "      <td>75</td>\n",
       "      <td>0.55</td>\n",
       "      <td>1.609438</td>\n",
       "    </tr>\n",
       "    <tr>\n",
       "      <th>6</th>\n",
       "      <td>75</td>\n",
       "      <td>0.65</td>\n",
       "      <td>1.609438</td>\n",
       "    </tr>\n",
       "    <tr>\n",
       "      <th>7</th>\n",
       "      <td>76</td>\n",
       "      <td>0.75</td>\n",
       "      <td>1.691676</td>\n",
       "    </tr>\n",
       "    <tr>\n",
       "      <th>8</th>\n",
       "      <td>78</td>\n",
       "      <td>0.85</td>\n",
       "      <td>1.871802</td>\n",
       "    </tr>\n",
       "    <tr>\n",
       "      <th>9</th>\n",
       "      <td>79</td>\n",
       "      <td>0.95</td>\n",
       "      <td>1.971553</td>\n",
       "    </tr>\n",
       "  </tbody>\n",
       "</table>\n",
       "</div>"
      ],
      "text/plain": [
       "    x  probs         z\n",
       "0   6   0.05 -2.639057\n",
       "1  13   0.15 -1.778856\n",
       "2  40   0.25 -0.223144\n",
       "3  61   0.35  0.743578\n",
       "4  74   0.45  1.531476\n",
       "5  75   0.55  1.609438\n",
       "6  75   0.65  1.609438\n",
       "7  76   0.75  1.691676\n",
       "8  78   0.85  1.871802\n",
       "9  79   0.95  1.971553"
      ]
     },
     "execution_count": 138,
     "metadata": {},
     "output_type": "execute_result"
    }
   ],
   "source": [
    "dist.output_dict['dataValues']"
   ]
  },
  {
   "cell_type": "code",
   "execution_count": 139,
   "id": "34a6354d",
   "metadata": {},
   "outputs": [
    {
     "data": {
      "text/html": [
       "<div>\n",
       "<style scoped>\n",
       "    .dataframe tbody tr th:only-of-type {\n",
       "        vertical-align: middle;\n",
       "    }\n",
       "\n",
       "    .dataframe tbody tr th {\n",
       "        vertical-align: top;\n",
       "    }\n",
       "\n",
       "    .dataframe thead th {\n",
       "        text-align: right;\n",
       "    }\n",
       "</style>\n",
       "<table border=\"1\" class=\"dataframe\">\n",
       "  <thead>\n",
       "    <tr style=\"text-align: right;\">\n",
       "      <th></th>\n",
       "      <th>a2</th>\n",
       "      <th>a3</th>\n",
       "      <th>a4</th>\n",
       "    </tr>\n",
       "  </thead>\n",
       "  <tbody>\n",
       "    <tr>\n",
       "      <th>0</th>\n",
       "      <td>0.638790</td>\n",
       "      <td>1.271196</td>\n",
       "      <td>1.271196</td>\n",
       "    </tr>\n",
       "    <tr>\n",
       "      <th>1</th>\n",
       "      <td>0.847675</td>\n",
       "      <td>0.847675</td>\n",
       "      <td>0.481315</td>\n",
       "    </tr>\n",
       "    <tr>\n",
       "      <th>2</th>\n",
       "      <td>0.000000</td>\n",
       "      <td>-1.369050</td>\n",
       "      <td>-1.369050</td>\n",
       "    </tr>\n",
       "    <tr>\n",
       "      <th>3</th>\n",
       "      <td>0.000000</td>\n",
       "      <td>0.000000</td>\n",
       "      <td>2.111086</td>\n",
       "    </tr>\n",
       "  </tbody>\n",
       "</table>\n",
       "</div>"
      ],
      "text/plain": [
       "         a2        a3        a4\n",
       "0  0.638790  1.271196  1.271196\n",
       "1  0.847675  0.847675  0.481315\n",
       "2  0.000000 -1.369050 -1.369050\n",
       "3  0.000000  0.000000  2.111086"
      ]
     },
     "execution_count": 139,
     "metadata": {},
     "output_type": "execute_result"
    }
   ],
   "source": [
    "dist.output_dict['A']"
   ]
  },
  {
   "cell_type": "markdown",
   "id": "2b01730c",
   "metadata": {},
   "source": [
    "These are the coefficients of the metalog distribution, each of which correcponds to 2 terms, 3 terms, and 4 terms parameterizations."
   ]
  },
  {
   "cell_type": "code",
   "execution_count": 140,
   "id": "e6d1d02b",
   "metadata": {},
   "outputs": [
    {
     "name": "stdout",
     "output_type": "stream",
     "text": [
      " -----------------------------------------------\n",
      " Summary of Metalog Distribution Object\n",
      " -----------------------------------------------\n",
      " \n",
      "Parameters\n",
      " Term Limit:  4 \n",
      " Term Lower Bound:  2 \n",
      " Boundedness:  b \n",
      " Bounds (only used based on boundedness):  [0, 90] \n",
      " Step Length for Distribution Summary:  0.01 \n",
      " Method Use for Fitting:  any \n",
      " \n",
      "\n",
      " Validation and Fit Method Number of Data Points Used:  10 \n",
      "\n",
      " term valid method\n",
      "    2   yes    OLS\n",
      "    3   yes    OLS\n",
      "    4   yes    OLS\n"
     ]
    }
   ],
   "source": [
    "mt.summary(dist)"
   ]
  },
  {
   "cell_type": "code",
   "execution_count": 141,
   "id": "aff82e35",
   "metadata": {},
   "outputs": [
    {
     "data": {
      "text/plain": [
       "{'pdf': <Figure size 1300x400 with 3 Axes>,\n",
       " 'cdf': <Figure size 1300x400 with 3 Axes>}"
      ]
     },
     "execution_count": 141,
     "metadata": {},
     "output_type": "execute_result"
    },
    {
     "data": {
      "image/png": "[encoded data removed]",
      "text/plain": [
       "<Figure size 1300x400 with 3 Axes>"
      ]
     },
     "metadata": {},
     "output_type": "display_data"
    },
    {
     "data": {
      "image/png": "[encoded data removed]",
      "text/plain": [
       "<Figure size 1300x400 with 3 Axes>"
      ]
     },
     "metadata": {},
     "output_type": "display_data"
    }
   ],
   "source": [
    "mt.plot(dist, figsize=(13,4))"
   ]
  },
  {
   "cell_type": "markdown",
   "id": "5ef985c4",
   "metadata": {},
   "source": [
    "Since 2-term is too simple, and 4-term is too much emphasis on the pulls around 80, we can try with 3-term parameterizations."
   ]
  },
  {
   "cell_type": "code",
   "execution_count": 142,
   "id": "736e2049",
   "metadata": {},
   "outputs": [
    {
     "data": {
      "text/plain": [
       "0.02248339673580346"
      ]
     },
     "execution_count": 142,
     "metadata": {},
     "output_type": "execute_result"
    }
   ],
   "source": [
    "# PDF example\n",
    "mt.support.pdfMetalog(\n",
    "    a=dist.output_dict[\"A\"][\"a3\"].values,\n",
    "    y=0.009,\n",
    "    t=3,\n",
    "    bounds=[0,90],\n",
    "    boundedness=\"b\"\n",
    ")"
   ]
  },
  {
   "cell_type": "code",
   "execution_count": 143,
   "id": "68edd149",
   "metadata": {},
   "outputs": [
    {
     "data": {
      "text/plain": [
       "0.25221014972676686"
      ]
     },
     "execution_count": 143,
     "metadata": {},
     "output_type": "execute_result"
    }
   ],
   "source": [
    "# PPF Example\n",
    "mt.support.quantileMetalog(\n",
    "    a=dist.output_dict[\"A\"][\"a3\"].values,\n",
    "    y=0.009,\n",
    "    t=3,\n",
    "    bounds=[0,90],\n",
    "    boundedness=\"b\"\n",
    ")"
   ]
  },
  {
   "cell_type": "markdown",
   "id": "c94382b1",
   "metadata": {},
   "source": [
    "The two code blocks above show how to use the pdf function and the quantile function with the fitted coefficients."
   ]
  },
  {
   "cell_type": "code",
   "execution_count": 250,
   "id": "dbe33a68",
   "metadata": {},
   "outputs": [
    {
     "data": {
      "image/png": "[encoded data removed]",
      "text/plain": [
       "<Figure size 640x480 with 1 Axes>"
      ]
     },
     "metadata": {},
     "output_type": "display_data"
    }
   ],
   "source": [
    "# plot the metalog pdf with 3-term\n",
    "y_vals = np.linspace(0.001, 0.999, 1000)\n",
    "\n",
    "pdf_vals = [mt.support.pdfMetalog(\n",
    "    a=dist.output_dict[\"A\"][\"a3\"].values,\n",
    "    y=y,\n",
    "    t=3,\n",
    "    bounds=[0, 90],\n",
    "    boundedness=\"b\"\n",
    ") for y in y_vals]\n",
    "\n",
    "quantile_vals = [mt.support.quantileMetalog(\n",
    "    a=dist.output_dict[\"A\"][\"a3\"].values,\n",
    "    y=y,\n",
    "    t=3,\n",
    "    bounds=[0, 90],\n",
    "    boundedness=\"b\"\n",
    ") for y in y_vals]\n",
    "\n",
    "quantiles_to_mark = [0.1, 0.5, 0.9]\n",
    "quantile_values = [\n",
    "    mt.support.quantileMetalog(\n",
    "        a=dist.output_dict[\"A\"][\"a3\"].values,\n",
    "        y=q,\n",
    "        t=3,\n",
    "        bounds=[0, 90],\n",
    "        boundedness=\"b\"\n",
    "    ) for q in quantiles_to_mark\n",
    "]\n",
    "\n",
    "# Plotting\n",
    "plt.plot(quantile_vals, pdf_vals)\n",
    "plt.axvline(x=quantile_values[0], color='red', linestyle='--', label=f\"Quantile {quantiles_to_mark[0]}\")\n",
    "plt.axvline(x=quantile_values[1], color='green', linestyle='--', label=f\"Quantile {quantiles_to_mark[1]}\")\n",
    "plt.axvline(x=quantile_values[2], color='blue', linestyle='--', label=f\"Quantile {quantiles_to_mark[2]}\")\n",
    "plt.legend()\n",
    "\n",
    "plt.title(\"3 Terms\")\n",
    "plt.xlabel(\"Quantile Values\")\n",
    "plt.ylabel(\"PDF\")\n",
    "plt.show()"
   ]
  },
  {
   "cell_type": "markdown",
   "id": "1153945f",
   "metadata": {},
   "source": [
    "#### 3.2 Metalog-Bernoulli"
   ]
  },
  {
   "cell_type": "markdown",
   "id": "5806dc03",
   "metadata": {},
   "source": [
    "Define some support functions."
   ]
  },
  {
   "cell_type": "code",
   "execution_count": 144,
   "id": "e1745a23",
   "metadata": {},
   "outputs": [],
   "source": [
    "def logpMetalog_pt(y, a, t, bounds, boundedness=\"b\"):\n",
    "    pdf_val = mt.support.pdfMetalog_pt(a, y, t, bounds, boundedness)\n",
    "    return pt.log(pdf_val)"
   ]
  },
  {
   "cell_type": "code",
   "execution_count": null,
   "id": "07b86a3e",
   "metadata": {},
   "outputs": [
    {
     "name": "stderr",
     "output_type": "stream",
     "text": [
      "Initializing NUTS using jitter+adapt_diag...\n",
      "Multiprocess sampling (4 chains in 4 jobs)\n",
      "NUTS: [theta]\n"
     ]
    },
    {
     "data": {
      "application/vnd.jupyter.widget-view+json": {
       "model_id": "74fd880250964307b2fca2afb082e964",
       "version_major": 2,
       "version_minor": 0
      },
      "text/plain": [
       "Output()"
      ]
     },
     "metadata": {},
     "output_type": "display_data"
    },
    {
     "data": {
      "text/html": [
       "<pre style=\"white-space:pre;overflow-x:auto;line-height:normal;font-family:Menlo,'DejaVu Sans Mono',consolas,'Courier New',monospace\"></pre>\n"
      ],
      "text/plain": []
     },
     "metadata": {},
     "output_type": "display_data"
    },
    {
     "name": "stderr",
     "output_type": "stream",
     "text": [
      "Sampling 4 chains for 1_000 tune and 10_000 draw iterations (4_000 + 40_000 draws total) took 2 seconds.\n"
     ]
    }
   ],
   "source": [
    "with pm.Model() as model_metalog_bernoulli:\n",
    "    lower_bound = 0\n",
    "    upper_bound = 90\n",
    "    \n",
    "    a_vals = dist.output_dict[\"A\"][\"a3\"].values\n",
    "    t = 3\n",
    "    bounds = [lower_bound, upper_bound]\n",
    "    \n",
    "    def metalog_logp(theta):\n",
    "        return logpMetalog_pt(theta, a_vals, t, bounds, boundedness=\"b\")\n",
    "\n",
    "    θ = pm.DensityDist(\"theta\", logp=metalog_logp)\n",
    "    p = pm.Deterministic(\"p\", pm.math.exp(θ))\n",
    "\n",
    "    # Bernoulli likelihood\n",
    "    y = pm.Bernoulli(\"y\", p=p, observed=cleaned_df[\"is_win\"].values)\n",
    "\n",
    "    # Posterior sampling\n",
    "    trace_metalog_bernoulli = pm.sample(10000, tune=1000, return_inferencedata=True)"
   ]
  },
  {
   "cell_type": "code",
   "execution_count": 152,
   "id": "cf577ba0",
   "metadata": {},
   "outputs": [
    {
     "data": {
      "text/html": [
       "<div>\n",
       "<style scoped>\n",
       "    .dataframe tbody tr th:only-of-type {\n",
       "        vertical-align: middle;\n",
       "    }\n",
       "\n",
       "    .dataframe tbody tr th {\n",
       "        vertical-align: top;\n",
       "    }\n",
       "\n",
       "    .dataframe thead th {\n",
       "        text-align: right;\n",
       "    }\n",
       "</style>\n",
       "<table border=\"1\" class=\"dataframe\">\n",
       "  <thead>\n",
       "    <tr style=\"text-align: right;\">\n",
       "      <th></th>\n",
       "      <th>mean</th>\n",
       "      <th>sd</th>\n",
       "      <th>hdi_2.5%</th>\n",
       "      <th>hdi_97.5%</th>\n",
       "    </tr>\n",
       "  </thead>\n",
       "  <tbody>\n",
       "    <tr>\n",
       "      <th>theta</th>\n",
       "      <td>-4.116</td>\n",
       "      <td>0.324</td>\n",
       "      <td>-4.745</td>\n",
       "      <td>-3.489</td>\n",
       "    </tr>\n",
       "    <tr>\n",
       "      <th>p</th>\n",
       "      <td>0.017</td>\n",
       "      <td>0.005</td>\n",
       "      <td>0.007</td>\n",
       "      <td>0.028</td>\n",
       "    </tr>\n",
       "  </tbody>\n",
       "</table>\n",
       "</div>"
      ],
      "text/plain": [
       "        mean     sd  hdi_2.5%  hdi_97.5%\n",
       "theta -4.116  0.324    -4.745     -3.489\n",
       "p      0.017  0.005     0.007      0.028"
      ]
     },
     "execution_count": 152,
     "metadata": {},
     "output_type": "execute_result"
    }
   ],
   "source": [
    "az.summary(trace_metalog_bernoulli, kind='stats', hdi_prob=0.95)"
   ]
  },
  {
   "cell_type": "code",
   "execution_count": 154,
   "id": "b8051918",
   "metadata": {},
   "outputs": [
    {
     "data": {
      "text/plain": [
       "<Axes: title={'center': 'p'}>"
      ]
     },
     "execution_count": 154,
     "metadata": {},
     "output_type": "execute_result"
    },
    {
     "data": {
      "image/png": "[encoded data removed]",
      "text/plain": [
       "<Figure size 640x480 with 1 Axes>"
      ]
     },
     "metadata": {},
     "output_type": "display_data"
    }
   ],
   "source": [
    "az.plot_posterior(trace_metalog_bernoulli, var_names=[\"p\"], hdi_prob=0.95)"
   ]
  },
  {
   "cell_type": "markdown",
   "id": "2eacba13",
   "metadata": {},
   "source": [
    "The probability mean is quite close to 1.6%, but the credible interval seems a bit wide."
   ]
  },
  {
   "cell_type": "markdown",
   "id": "25712c0f",
   "metadata": {},
   "source": [
    "#### 3.3 Metalog-Geometric"
   ]
  },
  {
   "cell_type": "code",
   "execution_count": 167,
   "id": "b9016130",
   "metadata": {},
   "outputs": [
    {
     "data": {
      "text/plain": [
       "array([ 6, 13, 40, 61, 74, 75, 75, 76, 78, 79])"
      ]
     },
     "execution_count": 167,
     "metadata": {},
     "output_type": "execute_result"
    }
   ],
   "source": [
    "user3_wins = np.sort(user3_df[user3_df.rarity == 5].pity_counter.values)\n",
    "user3_wins"
   ]
  },
  {
   "cell_type": "code",
   "execution_count": null,
   "id": "058956ec",
   "metadata": {},
   "outputs": [
    {
     "name": "stderr",
     "output_type": "stream",
     "text": [
      "Initializing NUTS using jitter+adapt_diag...\n",
      "Multiprocess sampling (4 chains in 4 jobs)\n",
      "NUTS: [theta]\n"
     ]
    },
    {
     "data": {
      "application/vnd.jupyter.widget-view+json": {
       "model_id": "626634afa41a49a89d1353e03767b130",
       "version_major": 2,
       "version_minor": 0
      },
      "text/plain": [
       "Output()"
      ]
     },
     "metadata": {},
     "output_type": "display_data"
    },
    {
     "data": {
      "text/html": [
       "<pre style=\"white-space:pre;overflow-x:auto;line-height:normal;font-family:Menlo,'DejaVu Sans Mono',consolas,'Courier New',monospace\"></pre>\n"
      ],
      "text/plain": []
     },
     "metadata": {},
     "output_type": "display_data"
    },
    {
     "name": "stderr",
     "output_type": "stream",
     "text": [
      "Sampling 4 chains for 1_000 tune and 1_000 draw iterations (4_000 + 4_000 draws total) took 1 seconds.\n"
     ]
    }
   ],
   "source": [
    "with pm.Model() as model_metalog_geometric:\n",
    "    lower_bound = 0\n",
    "    upper_bound = 90\n",
    "    \n",
    "    a_vals = dist.output_dict[\"A\"][\"a3\"].values\n",
    "    t = 3\n",
    "    bounds = [lower_bound, upper_bound]\n",
    "    \n",
    "    def metalog_logp(theta):\n",
    "        return logpMetalog_pt(theta, a_vals, t, bounds, boundedness=\"b\")\n",
    "\n",
    "    θ = pm.DensityDist(\"theta\", logp=metalog_logp)\n",
    "    p = pm.Deterministic(\"p\", pm.math.sigmoid(θ))\n",
    "    mu = pm.Deterministic(\"mu\", 1 / p)\n",
    "\n",
    "    # likelihood\n",
    "    y = pm.Geometric(\"y\", p=p, observed=user3_wins)\n",
    "\n",
    "    # Posterior sampling\n",
    "    trace_metalog_geometric = pm.sample(1000, tune=1000, return_inferencedata=True,target_accept=0.95)"
   ]
  },
  {
   "cell_type": "code",
   "execution_count": 175,
   "id": "ed5f0e6a",
   "metadata": {},
   "outputs": [
    {
     "data": {
      "text/html": [
       "<div>\n",
       "<style scoped>\n",
       "    .dataframe tbody tr th:only-of-type {\n",
       "        vertical-align: middle;\n",
       "    }\n",
       "\n",
       "    .dataframe tbody tr th {\n",
       "        vertical-align: top;\n",
       "    }\n",
       "\n",
       "    .dataframe thead th {\n",
       "        text-align: right;\n",
       "    }\n",
       "</style>\n",
       "<table border=\"1\" class=\"dataframe\">\n",
       "  <thead>\n",
       "    <tr style=\"text-align: right;\">\n",
       "      <th></th>\n",
       "      <th>mean</th>\n",
       "      <th>sd</th>\n",
       "      <th>hdi_2.5%</th>\n",
       "      <th>hdi_97.5%</th>\n",
       "    </tr>\n",
       "  </thead>\n",
       "  <tbody>\n",
       "    <tr>\n",
       "      <th>theta</th>\n",
       "      <td>-4.094</td>\n",
       "      <td>0.334</td>\n",
       "      <td>-4.745</td>\n",
       "      <td>-3.449</td>\n",
       "    </tr>\n",
       "    <tr>\n",
       "      <th>p</th>\n",
       "      <td>0.017</td>\n",
       "      <td>0.005</td>\n",
       "      <td>0.007</td>\n",
       "      <td>0.028</td>\n",
       "    </tr>\n",
       "    <tr>\n",
       "      <th>mu</th>\n",
       "      <td>64.592</td>\n",
       "      <td>23.420</td>\n",
       "      <td>28.080</td>\n",
       "      <td>109.243</td>\n",
       "    </tr>\n",
       "  </tbody>\n",
       "</table>\n",
       "</div>"
      ],
      "text/plain": [
       "         mean      sd  hdi_2.5%  hdi_97.5%\n",
       "theta  -4.094   0.334    -4.745     -3.449\n",
       "p       0.017   0.005     0.007      0.028\n",
       "mu     64.592  23.420    28.080    109.243"
      ]
     },
     "execution_count": 175,
     "metadata": {},
     "output_type": "execute_result"
    }
   ],
   "source": [
    "az.summary(trace_metalog_geometric, kind='stats', hdi_prob=0.95)"
   ]
  },
  {
   "cell_type": "markdown",
   "id": "b8cf980f",
   "metadata": {},
   "source": [
    "The mean value is far off from the data's mean, and p's credible inverval is wide as well."
   ]
  },
  {
   "cell_type": "markdown",
   "id": "4ba2a1e7",
   "metadata": {},
   "source": [
    "#### 3.4 Metalog-Student's T"
   ]
  },
  {
   "cell_type": "code",
   "execution_count": 178,
   "id": "b07248af",
   "metadata": {},
   "outputs": [
    {
     "name": "stderr",
     "output_type": "stream",
     "text": [
      "Initializing NUTS using jitter+adapt_diag...\n",
      "Multiprocess sampling (4 chains in 4 jobs)\n",
      "NUTS: [tau, theta]\n"
     ]
    },
    {
     "data": {
      "application/vnd.jupyter.widget-view+json": {
       "model_id": "70976aacbcf44c4e8c085cbdb6a7ff2d",
       "version_major": 2,
       "version_minor": 0
      },
      "text/plain": [
       "Output()"
      ]
     },
     "metadata": {},
     "output_type": "display_data"
    },
    {
     "data": {
      "text/html": [
       "<pre style=\"white-space:pre;overflow-x:auto;line-height:normal;font-family:Menlo,'DejaVu Sans Mono',consolas,'Courier New',monospace\"></pre>\n"
      ],
      "text/plain": []
     },
     "metadata": {},
     "output_type": "display_data"
    },
    {
     "name": "stderr",
     "output_type": "stream",
     "text": [
      "Sampling 4 chains for 1_000 tune and 1_000 draw iterations (4_000 + 4_000 draws total) took 1 seconds.\n"
     ]
    }
   ],
   "source": [
    "with pm.Model() as m_metalog_student:\n",
    "    nu = 1\n",
    "    lower_bound = 0\n",
    "    upper_bound = 90\n",
    "    \n",
    "    a_vals = dist.output_dict[\"A\"][\"a3\"].values\n",
    "    t = 3\n",
    "    bounds = [lower_bound, upper_bound]\n",
    "    \n",
    "    def metalog_logp(theta):\n",
    "        return logpMetalog_pt(theta, a_vals, t, bounds, boundedness=\"b\")\n",
    "\n",
    "    # sigma = pm.HalfNormal(\"sigma\", sigma=20)\n",
    "    tau = pm.Gamma(\"tau\", alpha=0.001, beta=0.001)\n",
    "    sigma = pm.Deterministic(\"sigma\", 1 / pm.math.sqrt(tau))\n",
    "\n",
    "    θ = pm.DensityDist(\"theta\", logp=metalog_logp)\n",
    "    p = pm.Deterministic(\"p\", pm.math.sigmoid(θ))\n",
    "    mu = pm.Deterministic(\"mu\", 1 / -np.log(1 - p))\n",
    "\n",
    "    # likelihood\n",
    "    y = pm.StudentT(\"y\", mu=mu, sigma=sigma, nu=nu, observed=pull_data)\n",
    "\n",
    "    # sample\n",
    "    trace_metalog_student = pm.sample(1000, tune=1000, return_inferencedata=True, idata_kwargs={\"log_likelihood\": True})"
   ]
  },
  {
   "cell_type": "code",
   "execution_count": 180,
   "id": "cb364b7e",
   "metadata": {},
   "outputs": [
    {
     "data": {
      "text/html": [
       "<div>\n",
       "<style scoped>\n",
       "    .dataframe tbody tr th:only-of-type {\n",
       "        vertical-align: middle;\n",
       "    }\n",
       "\n",
       "    .dataframe tbody tr th {\n",
       "        vertical-align: top;\n",
       "    }\n",
       "\n",
       "    .dataframe thead th {\n",
       "        text-align: right;\n",
       "    }\n",
       "</style>\n",
       "<table border=\"1\" class=\"dataframe\">\n",
       "  <thead>\n",
       "    <tr style=\"text-align: right;\">\n",
       "      <th></th>\n",
       "      <th>mean</th>\n",
       "      <th>sd</th>\n",
       "      <th>hdi_2.5%</th>\n",
       "      <th>hdi_97.5%</th>\n",
       "    </tr>\n",
       "  </thead>\n",
       "  <tbody>\n",
       "    <tr>\n",
       "      <th>theta</th>\n",
       "      <td>-4.299</td>\n",
       "      <td>0.057</td>\n",
       "      <td>-4.371</td>\n",
       "      <td>-4.182</td>\n",
       "    </tr>\n",
       "    <tr>\n",
       "      <th>tau</th>\n",
       "      <td>0.091</td>\n",
       "      <td>0.160</td>\n",
       "      <td>0.000</td>\n",
       "      <td>0.367</td>\n",
       "    </tr>\n",
       "    <tr>\n",
       "      <th>sigma</th>\n",
       "      <td>6.861</td>\n",
       "      <td>5.852</td>\n",
       "      <td>0.738</td>\n",
       "      <td>17.242</td>\n",
       "    </tr>\n",
       "    <tr>\n",
       "      <th>p</th>\n",
       "      <td>0.013</td>\n",
       "      <td>0.001</td>\n",
       "      <td>0.012</td>\n",
       "      <td>0.015</td>\n",
       "    </tr>\n",
       "    <tr>\n",
       "      <th>mu</th>\n",
       "      <td>74.232</td>\n",
       "      <td>3.869</td>\n",
       "      <td>65.976</td>\n",
       "      <td>79.645</td>\n",
       "    </tr>\n",
       "  </tbody>\n",
       "</table>\n",
       "</div>"
      ],
      "text/plain": [
       "         mean     sd  hdi_2.5%  hdi_97.5%\n",
       "theta  -4.299  0.057    -4.371     -4.182\n",
       "tau     0.091  0.160     0.000      0.367\n",
       "sigma   6.861  5.852     0.738     17.242\n",
       "p       0.013  0.001     0.012      0.015\n",
       "mu     74.232  3.869    65.976     79.645"
      ]
     },
     "execution_count": 180,
     "metadata": {},
     "output_type": "execute_result"
    }
   ],
   "source": [
    "az.summary(trace_metalog_student, kind='stats', hdi_prob=0.95)"
   ]
  },
  {
   "cell_type": "markdown",
   "id": "7f35c723",
   "metadata": {},
   "source": [
    "Mu is close to the expected mean, but p is quite lower than the advertised rate."
   ]
  },
  {
   "cell_type": "markdown",
   "id": "16823c61",
   "metadata": {},
   "source": [
    "#### 3.5 Hierarchy - Metalog - Student's T"
   ]
  },
  {
   "cell_type": "markdown",
   "id": "b9d9311a",
   "metadata": {},
   "source": [
    "Let's try utilize all users data."
   ]
  },
  {
   "cell_type": "code",
   "execution_count": 183,
   "id": "1294b67e",
   "metadata": {},
   "outputs": [],
   "source": [
    "user1_df_11 = user1_df_11.reset_index().drop(columns=[\"index\"])\n",
    "user2_df_11 = user2_df_11.reset_index().drop(columns=[\"index\"])\n",
    "\n",
    "# add pity count\n",
    "curr_pity = 0\n",
    "for i in range(len(user1_df_11)):\n",
    "    curr_pity += 1\n",
    "    user1_df_11.loc[i, \"pity_counter\"] = curr_pity\n",
    "\n",
    "    if user1_df_11.loc[i, \"rarity\"] == 5:\n",
    "        curr_pity = 0\n",
    "\n",
    "curr_pity = 0\n",
    "for i in range(len(user2_df_11)):\n",
    "    curr_pity += 1\n",
    "    user2_df_11.loc[i, \"pity_counter\"] = curr_pity\n",
    "\n",
    "    if user2_df_11.loc[i, \"rarity\"] == 5:\n",
    "        curr_pity = 0"
   ]
  },
  {
   "cell_type": "code",
   "execution_count": 185,
   "id": "99f887a6",
   "metadata": {},
   "outputs": [],
   "source": [
    "user1_df_11[\"user\"] = \"user1\"\n",
    "user2_df_11[\"user\"] = \"user2\"\n",
    "user3_df[\"user\"] = \"user3\""
   ]
  },
  {
   "cell_type": "code",
   "execution_count": 195,
   "id": "21b632c4",
   "metadata": {},
   "outputs": [],
   "source": [
    "user1_df_clean = user1_df_11[[\"pity_counter\", \"user\", \"rarity\"]]\n",
    "user1_df_clean = user1_df_clean[user1_df_clean[\"rarity\"] == 5]\n",
    "user2_df_clean = user2_df_11[[\"pity_counter\", \"user\", \"rarity\"]]\n",
    "user2_df_clean = user2_df_clean[user2_df_clean[\"rarity\"] == 5]\n",
    "user3_df_clean = user3_df[[\"pity_counter\", \"user\", \"rarity\"]]\n",
    "user3_df_clean = user3_df_clean[user3_df_clean[\"rarity\"] == 5]"
   ]
  },
  {
   "cell_type": "code",
   "execution_count": 196,
   "id": "4ac3732b",
   "metadata": {},
   "outputs": [],
   "source": [
    "all_data = pd.concat([user1_df_clean, user2_df_clean, user3_df_clean], ignore_index=True)\n",
    "user_idx, user_labels = pd.factorize(all_data[\"user\"])\n",
    "pull_data = all_data[\"pity_counter\"].values"
   ]
  },
  {
   "cell_type": "code",
   "execution_count": 206,
   "id": "ff36855c",
   "metadata": {},
   "outputs": [
    {
     "name": "stderr",
     "output_type": "stream",
     "text": [
      "Initializing NUTS using jitter+adapt_diag...\n",
      "Multiprocess sampling (4 chains in 4 jobs)\n",
      "NUTS: [tau, theta_user]\n"
     ]
    },
    {
     "data": {
      "application/vnd.jupyter.widget-view+json": {
       "model_id": "0a5115cb99fd4a65801d361216150db7",
       "version_major": 2,
       "version_minor": 0
      },
      "text/plain": [
       "Output()"
      ]
     },
     "metadata": {},
     "output_type": "display_data"
    },
    {
     "data": {
      "text/html": [
       "<pre style=\"white-space:pre;overflow-x:auto;line-height:normal;font-family:Menlo,'DejaVu Sans Mono',consolas,'Courier New',monospace\"></pre>\n"
      ],
      "text/plain": []
     },
     "metadata": {},
     "output_type": "display_data"
    },
    {
     "name": "stderr",
     "output_type": "stream",
     "text": [
      "Sampling 4 chains for 1_000 tune and 1_000 draw iterations (4_000 + 4_000 draws total) took 1 seconds.\n",
      "There were 1 divergences after tuning. Increase `target_accept` or reparameterize.\n",
      "The rhat statistic is larger than 1.01 for some parameters. This indicates problems during sampling. See https://arxiv.org/abs/1903.08008 for details\n"
     ]
    }
   ],
   "source": [
    "with pm.Model() as m_hier_student:\n",
    "    nu = 1\n",
    "    lower_bound = 0\n",
    "    upper_bound = 90\n",
    "\n",
    "    # Metalog prior\n",
    "    a_vals = dist.output_dict[\"A\"][\"a3\"].values\n",
    "    t = 3\n",
    "    bounds = [lower_bound, upper_bound]\n",
    "\n",
    "    def metalog_logp(theta):\n",
    "        return logpMetalog_pt(theta, a_vals, t, bounds, boundedness=\"b\")\n",
    "\n",
    "    # Hyperpriors\n",
    "    tau = pm.Gamma(\"tau\", alpha=0.001, beta=0.001)\n",
    "    sigma = pm.Deterministic(\"sigma\", 1 / pm.math.sqrt(tau))\n",
    "\n",
    "    # User-specific θs from Metalog prior\n",
    "    θ_user = pm.DensityDist(\"theta_user\", logp=metalog_logp, shape=len(user_labels))\n",
    "\n",
    "    # Map θ_user to each user's pull\n",
    "    θ_obs = θ_user[user_idx]\n",
    "    p = pm.Deterministic(\"p\", pm.math.sigmoid(θ_obs))\n",
    "    mu = pm.Deterministic(\"mu\", 1 / -pm.math.log(1 - p))\n",
    "\n",
    "    # Likelihood\n",
    "    y = pm.StudentT(\"y\", mu=mu, sigma=sigma, nu=nu, observed=pull_data)\n",
    "\n",
    "    trace_hier_student = pm.sample(1000, tune=1000, return_inferencedata=True, idata_kwargs={\"log_likelihood\": True})"
   ]
  },
  {
   "cell_type": "code",
   "execution_count": 207,
   "id": "989ddf86",
   "metadata": {},
   "outputs": [],
   "source": [
    "mu_samples = trace_hier_student.posterior[\"mu\"]\n",
    "user1_mu = mu_samples[..., all_data[\"user\"] == \"user1\"]\n",
    "user2_mu = mu_samples[..., all_data[\"user\"] == \"user2\"]\n",
    "user3_mu = mu_samples[..., all_data[\"user\"] == \"user3\"]\n",
    "\n",
    "p_samples = trace_hier_student.posterior[\"p\"]\n",
    "user1_p = p_samples[..., all_data[\"user\"] == \"user1\"]\n",
    "user2_p = p_samples[..., all_data[\"user\"] == \"user2\"]\n",
    "user3_p = p_samples[..., all_data[\"user\"] == \"user3\"]"
   ]
  },
  {
   "cell_type": "code",
   "execution_count": 208,
   "id": "0222a166",
   "metadata": {},
   "outputs": [],
   "source": [
    "# this code is adapted from the lecture note\n",
    "def calc_hdi(samples: np.ndarray, alpha: float = 0.05) -> tuple:\n",
    "    \"\"\"\n",
    "    Calculate minimum-width credible interval (HPD credible set)\n",
    "\n",
    "    samples: samples from posterior\n",
    "    alpha: credibility of the interval == 1 - alpha\n",
    "\n",
    "    returns tuple of the lower and upper bounds of the interval\n",
    "    \"\"\"\n",
    "    n = len(samples)\n",
    "    x = np.sort(samples)\n",
    "\n",
    "    lower_idx = int(np.floor(alpha * n))\n",
    "    x_left = x[:lower_idx]\n",
    "    x_right = x[n - lower_idx :]\n",
    "\n",
    "    idx = np.argmin(x_right - x_left)\n",
    "\n",
    "    upper_bound = x_right[idx]\n",
    "    lower_bound = x_left[idx]\n",
    "\n",
    "    return lower_bound, upper_bound"
   ]
  },
  {
   "cell_type": "code",
   "execution_count": 209,
   "id": "51d5524c",
   "metadata": {},
   "outputs": [
    {
     "name": "stdout",
     "output_type": "stream",
     "text": [
      "Mean pull number of user1: 70.4\n",
      "95% HDI credible interval of user1: (26.55, 91.51)\n",
      "Mean pull number of user2: 75.15\n",
      "95% HDI credible interval of user2: (63.87, 84.26)\n",
      "Mean pull number of user3: 73.94\n",
      "95% HDI credible interval of user3: (65.49, 80.72)\n"
     ]
    }
   ],
   "source": [
    "print(f\"Mean pull number of user1: {user1_mu.values.flatten().mean():.4}\")\n",
    "lwr1, upr1 = calc_hdi(user1_mu.values.flatten())\n",
    "print(f\"95% HDI credible interval of user1: ({lwr1:.4}, {upr1:.4})\")\n",
    "\n",
    "print(f\"Mean pull number of user2: {user2_mu.values.flatten().mean():.4}\")\n",
    "lwr2, upr2 = calc_hdi(user2_mu.values.flatten())\n",
    "print(f\"95% HDI credible interval of user2: ({lwr2:.4}, {upr2:.4})\")\n",
    "\n",
    "print(f\"Mean pull number of user3: {user3_mu.values.flatten().mean():.4}\")\n",
    "lwr3, upr3 = calc_hdi(user3_mu.values.flatten())\n",
    "print(f\"95% HDI credible interval of user3: ({lwr3:.4}, {upr3:.4})\")"
   ]
  },
  {
   "cell_type": "code",
   "execution_count": 210,
   "id": "1d9f8ed7",
   "metadata": {},
   "outputs": [
    {
     "name": "stdout",
     "output_type": "stream",
     "text": [
      "Mean p of user1: 0.01652\n",
      "95% HDI credible interval of user1: (0.009524, 0.03253)\n",
      "Mean p number of user2: 0.01332\n",
      "95% HDI credible interval of user2: (0.01166, 0.01534)\n",
      "Mean p number of user3: 0.01348\n",
      "95% HDI credible interval of user3: (0.01231, 0.01515)\n"
     ]
    }
   ],
   "source": [
    "print(f\"Mean p of user1: {user1_p.values.flatten().mean():.4}\")\n",
    "lwr1, upr1 = calc_hdi(user1_p.values.flatten())\n",
    "print(f\"95% HDI credible interval of user1: ({lwr1:.4}, {upr1:.4})\")\n",
    "\n",
    "print(f\"Mean p number of user2: {user2_p.values.flatten().mean():.4}\")\n",
    "lwr2, upr2 = calc_hdi(user2_p.values.flatten())\n",
    "print(f\"95% HDI credible interval of user2: ({lwr2:.4}, {upr2:.4})\")\n",
    "\n",
    "print(f\"Mean p number of user3: {user3_p.values.flatten().mean():.4}\")\n",
    "lwr3, upr3 = calc_hdi(user3_p.values.flatten())\n",
    "print(f\"95% HDI credible interval of user3: ({lwr3:.4}, {upr3:.4})\")"
   ]
  },
  {
   "cell_type": "markdown",
   "id": "1e291b6b",
   "metadata": {},
   "source": [
    "#### 3.6 Comparison with non-informative prior"
   ]
  },
  {
   "cell_type": "code",
   "execution_count": 204,
   "id": "20371f12",
   "metadata": {},
   "outputs": [
    {
     "name": "stderr",
     "output_type": "stream",
     "text": [
      "Initializing NUTS using jitter+adapt_diag...\n",
      "Multiprocess sampling (4 chains in 4 jobs)\n",
      "NUTS: [p, tau]\n"
     ]
    },
    {
     "data": {
      "application/vnd.jupyter.widget-view+json": {
       "model_id": "773e8b95679e49b799fc9faecf046c3b",
       "version_major": 2,
       "version_minor": 0
      },
      "text/plain": [
       "Output()"
      ]
     },
     "metadata": {},
     "output_type": "display_data"
    },
    {
     "data": {
      "text/html": [
       "<pre style=\"white-space:pre;overflow-x:auto;line-height:normal;font-family:Menlo,'DejaVu Sans Mono',consolas,'Courier New',monospace\"></pre>\n"
      ],
      "text/plain": []
     },
     "metadata": {},
     "output_type": "display_data"
    },
    {
     "name": "stderr",
     "output_type": "stream",
     "text": [
      "Sampling 4 chains for 1_000 tune and 1_000 draw iterations (4_000 + 4_000 draws total) took 3 seconds.\n",
      "There were 3 divergences after tuning. Increase `target_accept` or reparameterize.\n",
      "The rhat statistic is larger than 1.01 for some parameters. This indicates problems during sampling. See https://arxiv.org/abs/1903.08008 for details\n",
      "The effective sample size per chain is smaller than 100 for some parameters.  A higher number is needed for reliable rhat and ess computation. See https://arxiv.org/abs/1903.08008 for details\n"
     ]
    }
   ],
   "source": [
    "# non-informative prior\n",
    "\n",
    "with pm.Model() as m_hier_student:\n",
    "    nu = 1  # degrees of freedom for Student's T\n",
    "\n",
    "    # Non-informative prior over user-specific success probabilities\n",
    "    p = pm.Beta(\"p\", alpha=1, beta=1, shape=len(user_labels))\n",
    "\n",
    "    # Convert p to expected value of geometric distribution (mean pulls to 5-star)\n",
    "    mu = pm.Deterministic(\"mu\", 1 / -pm.math.log(1 - p))\n",
    "\n",
    "    # Map mu to observed users\n",
    "    mu_obs = mu[user_idx]\n",
    "\n",
    "    # Hierarchical variance via Gamma hyperprior\n",
    "    tau = pm.Gamma(\"tau\", alpha=0.001, beta=0.001)\n",
    "    sigma = pm.Deterministic(\"sigma\", 1 / pm.math.sqrt(tau))\n",
    "\n",
    "    # Student's T likelihood over observed pulls\n",
    "    y = pm.StudentT(\"y\", mu=mu_obs, sigma=sigma, nu=nu, observed=pull_data)\n",
    "\n",
    "    trace = pm.sample(1000, tune=1000, return_inferencedata=True, idata_kwargs={\"log_likelihood\": True})"
   ]
  },
  {
   "cell_type": "code",
   "execution_count": 205,
   "id": "df798700",
   "metadata": {},
   "outputs": [
    {
     "data": {
      "text/html": [
       "<div>\n",
       "<style scoped>\n",
       "    .dataframe tbody tr th:only-of-type {\n",
       "        vertical-align: middle;\n",
       "    }\n",
       "\n",
       "    .dataframe tbody tr th {\n",
       "        vertical-align: top;\n",
       "    }\n",
       "\n",
       "    .dataframe thead th {\n",
       "        text-align: right;\n",
       "    }\n",
       "</style>\n",
       "<table border=\"1\" class=\"dataframe\">\n",
       "  <thead>\n",
       "    <tr style=\"text-align: right;\">\n",
       "      <th></th>\n",
       "      <th>mean</th>\n",
       "      <th>sd</th>\n",
       "      <th>hdi_2.5%</th>\n",
       "      <th>hdi_97.5%</th>\n",
       "      <th>mcse_mean</th>\n",
       "      <th>mcse_sd</th>\n",
       "      <th>ess_bulk</th>\n",
       "      <th>ess_tail</th>\n",
       "      <th>r_hat</th>\n",
       "    </tr>\n",
       "  </thead>\n",
       "  <tbody>\n",
       "    <tr>\n",
       "      <th>p[0]</th>\n",
       "      <td>0.098</td>\n",
       "      <td>0.206</td>\n",
       "      <td>0.009</td>\n",
       "      <td>0.674</td>\n",
       "      <td>0.012</td>\n",
       "      <td>0.009</td>\n",
       "      <td>224.0</td>\n",
       "      <td>562.0</td>\n",
       "      <td>1.01</td>\n",
       "    </tr>\n",
       "    <tr>\n",
       "      <th>p[1]</th>\n",
       "      <td>0.020</td>\n",
       "      <td>0.050</td>\n",
       "      <td>0.011</td>\n",
       "      <td>0.020</td>\n",
       "      <td>0.005</td>\n",
       "      <td>0.003</td>\n",
       "      <td>284.0</td>\n",
       "      <td>140.0</td>\n",
       "      <td>1.02</td>\n",
       "    </tr>\n",
       "    <tr>\n",
       "      <th>p[2]</th>\n",
       "      <td>0.014</td>\n",
       "      <td>0.001</td>\n",
       "      <td>0.012</td>\n",
       "      <td>0.016</td>\n",
       "      <td>0.000</td>\n",
       "      <td>0.000</td>\n",
       "      <td>548.0</td>\n",
       "      <td>395.0</td>\n",
       "      <td>1.01</td>\n",
       "    </tr>\n",
       "    <tr>\n",
       "      <th>mu[0]</th>\n",
       "      <td>51.713</td>\n",
       "      <td>29.743</td>\n",
       "      <td>0.302</td>\n",
       "      <td>84.579</td>\n",
       "      <td>2.243</td>\n",
       "      <td>1.589</td>\n",
       "      <td>224.0</td>\n",
       "      <td>562.0</td>\n",
       "      <td>1.01</td>\n",
       "    </tr>\n",
       "    <tr>\n",
       "      <th>mu[1]</th>\n",
       "      <td>72.290</td>\n",
       "      <td>12.676</td>\n",
       "      <td>46.676</td>\n",
       "      <td>86.449</td>\n",
       "      <td>1.193</td>\n",
       "      <td>0.846</td>\n",
       "      <td>284.0</td>\n",
       "      <td>140.0</td>\n",
       "      <td>1.02</td>\n",
       "    </tr>\n",
       "    <tr>\n",
       "      <th>mu[2]</th>\n",
       "      <td>72.802</td>\n",
       "      <td>5.665</td>\n",
       "      <td>62.042</td>\n",
       "      <td>81.437</td>\n",
       "      <td>0.312</td>\n",
       "      <td>0.221</td>\n",
       "      <td>548.0</td>\n",
       "      <td>395.0</td>\n",
       "      <td>1.01</td>\n",
       "    </tr>\n",
       "  </tbody>\n",
       "</table>\n",
       "</div>"
      ],
      "text/plain": [
       "         mean      sd  hdi_2.5%  hdi_97.5%  mcse_mean  mcse_sd  ess_bulk  \\\n",
       "p[0]    0.098   0.206     0.009      0.674      0.012    0.009     224.0   \n",
       "p[1]    0.020   0.050     0.011      0.020      0.005    0.003     284.0   \n",
       "p[2]    0.014   0.001     0.012      0.016      0.000    0.000     548.0   \n",
       "mu[0]  51.713  29.743     0.302     84.579      2.243    1.589     224.0   \n",
       "mu[1]  72.290  12.676    46.676     86.449      1.193    0.846     284.0   \n",
       "mu[2]  72.802   5.665    62.042     81.437      0.312    0.221     548.0   \n",
       "\n",
       "       ess_tail  r_hat  \n",
       "p[0]      562.0   1.01  \n",
       "p[1]      140.0   1.02  \n",
       "p[2]      395.0   1.01  \n",
       "mu[0]     562.0   1.01  \n",
       "mu[1]     140.0   1.02  \n",
       "mu[2]     395.0   1.01  "
      ]
     },
     "execution_count": 205,
     "metadata": {},
     "output_type": "execute_result"
    }
   ],
   "source": [
    "az.summary(trace, var_names=[\"p\", \"mu\"], hdi_prob=0.95)"
   ]
  },
  {
   "cell_type": "markdown",
   "id": "37dbc1e2",
   "metadata": {},
   "source": [
    "Using the non-informative prior returns a very different prediction for user1, compared to the metalog prior. User1's predicted $p$ is also very high."
   ]
  },
  {
   "cell_type": "markdown",
   "id": "cf2314cb",
   "metadata": {},
   "source": [
    "#### 3.7 Comparison with Different Likelihood Models"
   ]
  },
  {
   "cell_type": "code",
   "execution_count": 219,
   "id": "42ee377a",
   "metadata": {},
   "outputs": [
    {
     "name": "stderr",
     "output_type": "stream",
     "text": [
      "/var/folders/qf/j7wht0hj5z199zk3gbhnlfj00000gn/T/ipykernel_73010/2127791358.py:2: SettingWithCopyWarning: \n",
      "A value is trying to be set on a copy of a slice from a DataFrame.\n",
      "Try using .loc[row_indexer,col_indexer] = value instead\n",
      "\n",
      "See the caveats in the documentation: https://pandas.pydata.org/pandas-docs/stable/user_guide/indexing.html#returning-a-view-versus-a-copy\n",
      "  user1_pulls[\"user\"] = \"user1\"\n",
      "/var/folders/qf/j7wht0hj5z199zk3gbhnlfj00000gn/T/ipykernel_73010/2127791358.py:4: SettingWithCopyWarning: \n",
      "A value is trying to be set on a copy of a slice from a DataFrame.\n",
      "Try using .loc[row_indexer,col_indexer] = value instead\n",
      "\n",
      "See the caveats in the documentation: https://pandas.pydata.org/pandas-docs/stable/user_guide/indexing.html#returning-a-view-versus-a-copy\n",
      "  user2_pulls[\"user\"] = \"user2\"\n",
      "/var/folders/qf/j7wht0hj5z199zk3gbhnlfj00000gn/T/ipykernel_73010/2127791358.py:6: SettingWithCopyWarning: \n",
      "A value is trying to be set on a copy of a slice from a DataFrame.\n",
      "Try using .loc[row_indexer,col_indexer] = value instead\n",
      "\n",
      "See the caveats in the documentation: https://pandas.pydata.org/pandas-docs/stable/user_guide/indexing.html#returning-a-view-versus-a-copy\n",
      "  user3_pulls[\"user\"] = \"user3\"\n"
     ]
    }
   ],
   "source": [
    "user1_pulls = user1_df[[\"rarity\"]]\n",
    "user1_pulls[\"user\"] = \"user1\"\n",
    "user2_pulls = user2_df[[\"rarity\"]]\n",
    "user2_pulls[\"user\"] = \"user2\"\n",
    "user3_pulls = user3_df[[\"rarity\"]]\n",
    "user3_pulls[\"user\"] = \"user3\"\n",
    "all_pulls = pd.concat([user1_pulls, user2_pulls, user3_pulls], ignore_index=True)"
   ]
  },
  {
   "cell_type": "code",
   "execution_count": 221,
   "id": "27a0dfb0",
   "metadata": {},
   "outputs": [],
   "source": [
    "all_pulls[\"is_win\"] = (all_pulls[\"rarity\"] == 5).astype(int)"
   ]
  },
  {
   "cell_type": "code",
   "execution_count": 228,
   "id": "29615f35",
   "metadata": {},
   "outputs": [
    {
     "data": {
      "text/html": [
       "<div>\n",
       "<style scoped>\n",
       "    .dataframe tbody tr th:only-of-type {\n",
       "        vertical-align: middle;\n",
       "    }\n",
       "\n",
       "    .dataframe tbody tr th {\n",
       "        vertical-align: top;\n",
       "    }\n",
       "\n",
       "    .dataframe thead th {\n",
       "        text-align: right;\n",
       "    }\n",
       "</style>\n",
       "<table border=\"1\" class=\"dataframe\">\n",
       "  <thead>\n",
       "    <tr style=\"text-align: right;\">\n",
       "      <th></th>\n",
       "      <th>rarity</th>\n",
       "      <th>user</th>\n",
       "      <th>is_win</th>\n",
       "    </tr>\n",
       "  </thead>\n",
       "  <tbody>\n",
       "    <tr>\n",
       "      <th>0</th>\n",
       "      <td>3</td>\n",
       "      <td>user1</td>\n",
       "      <td>0</td>\n",
       "    </tr>\n",
       "    <tr>\n",
       "      <th>1</th>\n",
       "      <td>3</td>\n",
       "      <td>user1</td>\n",
       "      <td>0</td>\n",
       "    </tr>\n",
       "    <tr>\n",
       "      <th>2</th>\n",
       "      <td>3</td>\n",
       "      <td>user1</td>\n",
       "      <td>0</td>\n",
       "    </tr>\n",
       "    <tr>\n",
       "      <th>3</th>\n",
       "      <td>3</td>\n",
       "      <td>user1</td>\n",
       "      <td>0</td>\n",
       "    </tr>\n",
       "    <tr>\n",
       "      <th>4</th>\n",
       "      <td>3</td>\n",
       "      <td>user1</td>\n",
       "      <td>0</td>\n",
       "    </tr>\n",
       "  </tbody>\n",
       "</table>\n",
       "</div>"
      ],
      "text/plain": [
       "   rarity   user  is_win\n",
       "0       3  user1       0\n",
       "1       3  user1       0\n",
       "2       3  user1       0\n",
       "3       3  user1       0\n",
       "4       3  user1       0"
      ]
     },
     "execution_count": 228,
     "metadata": {},
     "output_type": "execute_result"
    }
   ],
   "source": [
    "all_pulls.head()"
   ]
  },
  {
   "cell_type": "code",
   "execution_count": 225,
   "id": "f23e0e8c",
   "metadata": {},
   "outputs": [],
   "source": [
    "user_idx, user_labels = pd.factorize(all_pulls[\"user\"])\n",
    "win_data = all_pulls[\"is_win\"].values"
   ]
  },
  {
   "cell_type": "code",
   "execution_count": 226,
   "id": "60c9279b",
   "metadata": {},
   "outputs": [
    {
     "name": "stderr",
     "output_type": "stream",
     "text": [
      "Initializing NUTS using jitter+adapt_diag...\n",
      "Multiprocess sampling (4 chains in 4 jobs)\n",
      "NUTS: [theta_user]\n"
     ]
    },
    {
     "data": {
      "application/vnd.jupyter.widget-view+json": {
       "model_id": "fb1e54732e824f65b2afbd7a02681585",
       "version_major": 2,
       "version_minor": 0
      },
      "text/plain": [
       "Output()"
      ]
     },
     "metadata": {},
     "output_type": "display_data"
    },
    {
     "data": {
      "text/html": [
       "<pre style=\"white-space:pre;overflow-x:auto;line-height:normal;font-family:Menlo,'DejaVu Sans Mono',consolas,'Courier New',monospace\"></pre>\n"
      ],
      "text/plain": []
     },
     "metadata": {},
     "output_type": "display_data"
    },
    {
     "name": "stderr",
     "output_type": "stream",
     "text": [
      "Sampling 4 chains for 1_000 tune and 1_000 draw iterations (4_000 + 4_000 draws total) took 1 seconds.\n"
     ]
    }
   ],
   "source": [
    "with pm.Model() as m_hier_bernoulli:\n",
    "    # nu = 1\n",
    "    lower_bound = 0\n",
    "    upper_bound = 90\n",
    "\n",
    "    # Metalog prior\n",
    "    a_vals = dist.output_dict[\"A\"][\"a3\"].values\n",
    "    t = 3\n",
    "    bounds = [lower_bound, upper_bound]\n",
    "\n",
    "    def metalog_logp(theta):\n",
    "        return logpMetalog_pt(theta, a_vals, t, bounds, boundedness=\"b\")\n",
    "\n",
    "    θ_user = pm.DensityDist(\"theta_user\", logp=metalog_logp, shape=len(user_labels))\n",
    "    θ_obs = θ_user[user_idx]\n",
    "    p = pm.Deterministic(\"p\", pm.math.sigmoid(θ_obs))\n",
    "    mu = pm.Deterministic(\"mu\", 1 / -pm.math.log(1 - p))\n",
    "\n",
    "    # Likelihood\n",
    "    y = pm.Bernoulli(\"y\", p=p, observed=win_data)\n",
    "\n",
    "    trace_hier_bernoulli = pm.sample(1000, tune=1000, return_inferencedata=True, idata_kwargs={\"log_likelihood\": True})"
   ]
  },
  {
   "cell_type": "code",
   "execution_count": 227,
   "id": "d6708399",
   "metadata": {},
   "outputs": [
    {
     "data": {
      "text/html": [
       "<div>\n",
       "<style scoped>\n",
       "    .dataframe tbody tr th:only-of-type {\n",
       "        vertical-align: middle;\n",
       "    }\n",
       "\n",
       "    .dataframe tbody tr th {\n",
       "        vertical-align: top;\n",
       "    }\n",
       "\n",
       "    .dataframe thead th {\n",
       "        text-align: right;\n",
       "    }\n",
       "</style>\n",
       "<table border=\"1\" class=\"dataframe\">\n",
       "  <thead>\n",
       "    <tr style=\"text-align: right;\">\n",
       "      <th></th>\n",
       "      <th>mean</th>\n",
       "      <th>sd</th>\n",
       "      <th>hdi_2.5%</th>\n",
       "      <th>hdi_97.5%</th>\n",
       "      <th>mcse_mean</th>\n",
       "      <th>mcse_sd</th>\n",
       "      <th>ess_bulk</th>\n",
       "      <th>ess_tail</th>\n",
       "      <th>r_hat</th>\n",
       "    </tr>\n",
       "  </thead>\n",
       "  <tbody>\n",
       "    <tr>\n",
       "      <th>theta_user[0]</th>\n",
       "      <td>-3.876</td>\n",
       "      <td>0.434</td>\n",
       "      <td>-4.738</td>\n",
       "      <td>-3.092</td>\n",
       "      <td>0.006</td>\n",
       "      <td>0.004</td>\n",
       "      <td>5452.0</td>\n",
       "      <td>3013.0</td>\n",
       "      <td>1.0</td>\n",
       "    </tr>\n",
       "    <tr>\n",
       "      <th>theta_user[1]</th>\n",
       "      <td>-4.096</td>\n",
       "      <td>0.344</td>\n",
       "      <td>-4.779</td>\n",
       "      <td>-3.427</td>\n",
       "      <td>0.005</td>\n",
       "      <td>0.004</td>\n",
       "      <td>5241.0</td>\n",
       "      <td>2901.0</td>\n",
       "      <td>1.0</td>\n",
       "    </tr>\n",
       "    <tr>\n",
       "      <th>theta_user[2]</th>\n",
       "      <td>-4.084</td>\n",
       "      <td>0.330</td>\n",
       "      <td>-4.686</td>\n",
       "      <td>-3.431</td>\n",
       "      <td>0.004</td>\n",
       "      <td>0.003</td>\n",
       "      <td>5955.0</td>\n",
       "      <td>3005.0</td>\n",
       "      <td>1.0</td>\n",
       "    </tr>\n",
       "    <tr>\n",
       "      <th>p[0]</th>\n",
       "      <td>0.022</td>\n",
       "      <td>0.009</td>\n",
       "      <td>0.007</td>\n",
       "      <td>0.040</td>\n",
       "      <td>0.000</td>\n",
       "      <td>0.000</td>\n",
       "      <td>5452.0</td>\n",
       "      <td>3013.0</td>\n",
       "      <td>1.0</td>\n",
       "    </tr>\n",
       "    <tr>\n",
       "      <th>p[1]</th>\n",
       "      <td>0.022</td>\n",
       "      <td>0.009</td>\n",
       "      <td>0.007</td>\n",
       "      <td>0.040</td>\n",
       "      <td>0.000</td>\n",
       "      <td>0.000</td>\n",
       "      <td>5452.0</td>\n",
       "      <td>3013.0</td>\n",
       "      <td>1.0</td>\n",
       "    </tr>\n",
       "    <tr>\n",
       "      <th>...</th>\n",
       "      <td>...</td>\n",
       "      <td>...</td>\n",
       "      <td>...</td>\n",
       "      <td>...</td>\n",
       "      <td>...</td>\n",
       "      <td>...</td>\n",
       "      <td>...</td>\n",
       "      <td>...</td>\n",
       "      <td>...</td>\n",
       "    </tr>\n",
       "    <tr>\n",
       "      <th>mu[1368]</th>\n",
       "      <td>63.364</td>\n",
       "      <td>22.690</td>\n",
       "      <td>30.881</td>\n",
       "      <td>108.283</td>\n",
       "      <td>0.342</td>\n",
       "      <td>0.273</td>\n",
       "      <td>5955.0</td>\n",
       "      <td>3005.0</td>\n",
       "      <td>1.0</td>\n",
       "    </tr>\n",
       "    <tr>\n",
       "      <th>mu[1369]</th>\n",
       "      <td>63.364</td>\n",
       "      <td>22.690</td>\n",
       "      <td>30.881</td>\n",
       "      <td>108.283</td>\n",
       "      <td>0.342</td>\n",
       "      <td>0.273</td>\n",
       "      <td>5955.0</td>\n",
       "      <td>3005.0</td>\n",
       "      <td>1.0</td>\n",
       "    </tr>\n",
       "    <tr>\n",
       "      <th>mu[1370]</th>\n",
       "      <td>63.364</td>\n",
       "      <td>22.690</td>\n",
       "      <td>30.881</td>\n",
       "      <td>108.283</td>\n",
       "      <td>0.342</td>\n",
       "      <td>0.273</td>\n",
       "      <td>5955.0</td>\n",
       "      <td>3005.0</td>\n",
       "      <td>1.0</td>\n",
       "    </tr>\n",
       "    <tr>\n",
       "      <th>mu[1371]</th>\n",
       "      <td>63.364</td>\n",
       "      <td>22.690</td>\n",
       "      <td>30.881</td>\n",
       "      <td>108.283</td>\n",
       "      <td>0.342</td>\n",
       "      <td>0.273</td>\n",
       "      <td>5955.0</td>\n",
       "      <td>3005.0</td>\n",
       "      <td>1.0</td>\n",
       "    </tr>\n",
       "    <tr>\n",
       "      <th>mu[1372]</th>\n",
       "      <td>63.364</td>\n",
       "      <td>22.690</td>\n",
       "      <td>30.881</td>\n",
       "      <td>108.283</td>\n",
       "      <td>0.342</td>\n",
       "      <td>0.273</td>\n",
       "      <td>5955.0</td>\n",
       "      <td>3005.0</td>\n",
       "      <td>1.0</td>\n",
       "    </tr>\n",
       "  </tbody>\n",
       "</table>\n",
       "<p>2749 rows × 9 columns</p>\n",
       "</div>"
      ],
      "text/plain": [
       "                 mean      sd  hdi_2.5%  hdi_97.5%  mcse_mean  mcse_sd  \\\n",
       "theta_user[0]  -3.876   0.434    -4.738     -3.092      0.006    0.004   \n",
       "theta_user[1]  -4.096   0.344    -4.779     -3.427      0.005    0.004   \n",
       "theta_user[2]  -4.084   0.330    -4.686     -3.431      0.004    0.003   \n",
       "p[0]            0.022   0.009     0.007      0.040      0.000    0.000   \n",
       "p[1]            0.022   0.009     0.007      0.040      0.000    0.000   \n",
       "...               ...     ...       ...        ...        ...      ...   \n",
       "mu[1368]       63.364  22.690    30.881    108.283      0.342    0.273   \n",
       "mu[1369]       63.364  22.690    30.881    108.283      0.342    0.273   \n",
       "mu[1370]       63.364  22.690    30.881    108.283      0.342    0.273   \n",
       "mu[1371]       63.364  22.690    30.881    108.283      0.342    0.273   \n",
       "mu[1372]       63.364  22.690    30.881    108.283      0.342    0.273   \n",
       "\n",
       "               ess_bulk  ess_tail  r_hat  \n",
       "theta_user[0]    5452.0    3013.0    1.0  \n",
       "theta_user[1]    5241.0    2901.0    1.0  \n",
       "theta_user[2]    5955.0    3005.0    1.0  \n",
       "p[0]             5452.0    3013.0    1.0  \n",
       "p[1]             5452.0    3013.0    1.0  \n",
       "...                 ...       ...    ...  \n",
       "mu[1368]         5955.0    3005.0    1.0  \n",
       "mu[1369]         5955.0    3005.0    1.0  \n",
       "mu[1370]         5955.0    3005.0    1.0  \n",
       "mu[1371]         5955.0    3005.0    1.0  \n",
       "mu[1372]         5955.0    3005.0    1.0  \n",
       "\n",
       "[2749 rows x 9 columns]"
      ]
     },
     "execution_count": 227,
     "metadata": {},
     "output_type": "execute_result"
    }
   ],
   "source": [
    "az.summary(trace_hier_bernoulli, hdi_prob=0.95)"
   ]
  },
  {
   "cell_type": "code",
   "execution_count": 231,
   "id": "d94544d5",
   "metadata": {},
   "outputs": [
    {
     "name": "stdout",
     "output_type": "stream",
     "text": [
      "Mean pull number of user1: 53.82\n",
      "95% HDI credible interval of user1: (19.81, 105.9)\n",
      "Mean pull number of user2: 64.43\n",
      "95% HDI credible interval of user2: (28.01, 114.2)\n",
      "Mean pull number of user3: 63.36\n",
      "95% HDI credible interval of user3: (30.88, 108.3)\n",
      "\n",
      "Mean p of user1: 0.02207\n",
      "95% HDI credible interval of user1: (0.006812, 0.04009)\n",
      "Mean p number of user2: 0.01727\n",
      "95% HDI credible interval of user2: (0.006477, 0.02798)\n",
      "Mean p number of user3: 0.0174\n",
      "95% HDI credible interval of user3: (0.007326, 0.02787)\n"
     ]
    }
   ],
   "source": [
    "mu_samples = trace_hier_bernoulli.posterior[\"mu\"]\n",
    "user1_mu = mu_samples[..., all_pulls[\"user\"] == \"user1\"]\n",
    "user2_mu = mu_samples[..., all_pulls[\"user\"] == \"user2\"]\n",
    "user3_mu = mu_samples[..., all_pulls[\"user\"] == \"user3\"]\n",
    "\n",
    "p_samples = trace_hier_bernoulli.posterior[\"p\"]\n",
    "user1_p = p_samples[..., all_pulls[\"user\"] == \"user1\"]\n",
    "user2_p = p_samples[..., all_pulls[\"user\"] == \"user2\"]\n",
    "user3_p = p_samples[..., all_pulls[\"user\"] == \"user3\"]\n",
    "\n",
    "\n",
    "print(f\"Mean pull number of user1: {user1_mu.values.flatten().mean():.4}\")\n",
    "lwr1, upr1 = calc_hdi(user1_mu.values.flatten())\n",
    "print(f\"95% HDI credible interval of user1: ({lwr1:.4}, {upr1:.4})\")\n",
    "\n",
    "print(f\"Mean pull number of user2: {user2_mu.values.flatten().mean():.4}\")\n",
    "lwr2, upr2 = calc_hdi(user2_mu.values.flatten())\n",
    "print(f\"95% HDI credible interval of user2: ({lwr2:.4}, {upr2:.4})\")\n",
    "\n",
    "print(f\"Mean pull number of user3: {user3_mu.values.flatten().mean():.4}\")\n",
    "lwr3, upr3 = calc_hdi(user3_mu.values.flatten())\n",
    "print(f\"95% HDI credible interval of user3: ({lwr3:.4}, {upr3:.4})\")\n",
    "\n",
    "print()\n",
    "\n",
    "print(f\"Mean p of user1: {user1_p.values.flatten().mean():.4}\")\n",
    "lwr1, upr1 = calc_hdi(user1_p.values.flatten())\n",
    "print(f\"95% HDI credible interval of user1: ({lwr1:.4}, {upr1:.4})\")\n",
    "\n",
    "print(f\"Mean p number of user2: {user2_p.values.flatten().mean():.4}\")\n",
    "lwr2, upr2 = calc_hdi(user2_p.values.flatten())\n",
    "print(f\"95% HDI credible interval of user2: ({lwr2:.4}, {upr2:.4})\")\n",
    "\n",
    "print(f\"Mean p number of user3: {user3_p.values.flatten().mean():.4}\")\n",
    "lwr3, upr3 = calc_hdi(user3_p.values.flatten())\n",
    "print(f\"95% HDI credible interval of user3: ({lwr3:.4}, {upr3:.4})\")"
   ]
  },
  {
   "cell_type": "markdown",
   "id": "b5ad8ea1",
   "metadata": {},
   "source": [
    "#### 3.8 Final Model"
   ]
  },
  {
   "cell_type": "code",
   "execution_count": 233,
   "id": "6221588a",
   "metadata": {},
   "outputs": [
    {
     "name": "stderr",
     "output_type": "stream",
     "text": [
      "Initializing NUTS using jitter+adapt_diag...\n",
      "Multiprocess sampling (4 chains in 4 jobs)\n",
      "NUTS: [tau, theta]\n"
     ]
    },
    {
     "data": {
      "application/vnd.jupyter.widget-view+json": {
       "model_id": "574714437ca64a358844962eba14f9f9",
       "version_major": 2,
       "version_minor": 0
      },
      "text/plain": [
       "Output()"
      ]
     },
     "metadata": {},
     "output_type": "display_data"
    },
    {
     "data": {
      "text/html": [
       "<pre style=\"white-space:pre;overflow-x:auto;line-height:normal;font-family:Menlo,'DejaVu Sans Mono',consolas,'Courier New',monospace\"></pre>\n"
      ],
      "text/plain": []
     },
     "metadata": {},
     "output_type": "display_data"
    },
    {
     "name": "stderr",
     "output_type": "stream",
     "text": [
      "Sampling 4 chains for 1_000 tune and 1_000 draw iterations (4_000 + 4_000 draws total) took 1 seconds.\n"
     ]
    }
   ],
   "source": [
    "with pm.Model() as m_student2:\n",
    "    nu = 1\n",
    "    lower_bound = 0\n",
    "    upper_bound = 90\n",
    "    \n",
    "    a_vals = dist.output_dict[\"A\"][\"a3\"].values\n",
    "    t = 3\n",
    "    bounds = [lower_bound, upper_bound]\n",
    "    \n",
    "    def metalog_logp(theta):\n",
    "        return logpMetalog_pt(theta, a_vals, t, bounds, boundedness=\"b\")\n",
    "\n",
    "    tau = pm.Gamma(\"tau\", alpha=0.001, beta=0.001)\n",
    "    sigma = pm.Deterministic(\"sigma\", 1 / pm.math.sqrt(tau))\n",
    "\n",
    "    θ = pm.DensityDist(\"theta\", logp=metalog_logp)\n",
    "    p = pm.Deterministic(\"p\", pm.math.sigmoid(θ))\n",
    "    mu = pm.Deterministic(\"mu\", 1 / -np.log(1 - p))\n",
    "\n",
    "    # likelihood\n",
    "    y = pm.StudentT(\"y\", mu=mu, sigma=sigma, nu=nu, observed=all_data.pity_counter.values)\n",
    "\n",
    "    # sample\n",
    "    trace_student2 = pm.sample(1000, tune=1000, return_inferencedata=True, idata_kwargs={\"log_likelihood\": True})"
   ]
  },
  {
   "cell_type": "code",
   "execution_count": 234,
   "id": "0ae95eaa",
   "metadata": {},
   "outputs": [
    {
     "data": {
      "text/html": [
       "<div>\n",
       "<style scoped>\n",
       "    .dataframe tbody tr th:only-of-type {\n",
       "        vertical-align: middle;\n",
       "    }\n",
       "\n",
       "    .dataframe tbody tr th {\n",
       "        vertical-align: top;\n",
       "    }\n",
       "\n",
       "    .dataframe thead th {\n",
       "        text-align: right;\n",
       "    }\n",
       "</style>\n",
       "<table border=\"1\" class=\"dataframe\">\n",
       "  <thead>\n",
       "    <tr style=\"text-align: right;\">\n",
       "      <th></th>\n",
       "      <th>mean</th>\n",
       "      <th>sd</th>\n",
       "      <th>hdi_2.5%</th>\n",
       "      <th>hdi_97.5%</th>\n",
       "    </tr>\n",
       "  </thead>\n",
       "  <tbody>\n",
       "    <tr>\n",
       "      <th>theta</th>\n",
       "      <td>-4.319</td>\n",
       "      <td>0.024</td>\n",
       "      <td>-4.363</td>\n",
       "      <td>-4.273</td>\n",
       "    </tr>\n",
       "    <tr>\n",
       "      <th>tau</th>\n",
       "      <td>0.055</td>\n",
       "      <td>0.053</td>\n",
       "      <td>0.002</td>\n",
       "      <td>0.152</td>\n",
       "    </tr>\n",
       "    <tr>\n",
       "      <th>sigma</th>\n",
       "      <td>5.587</td>\n",
       "      <td>2.600</td>\n",
       "      <td>1.754</td>\n",
       "      <td>10.421</td>\n",
       "    </tr>\n",
       "    <tr>\n",
       "      <th>p</th>\n",
       "      <td>0.013</td>\n",
       "      <td>0.000</td>\n",
       "      <td>0.013</td>\n",
       "      <td>0.014</td>\n",
       "    </tr>\n",
       "    <tr>\n",
       "      <th>mu</th>\n",
       "      <td>75.645</td>\n",
       "      <td>1.793</td>\n",
       "      <td>72.205</td>\n",
       "      <td>79.023</td>\n",
       "    </tr>\n",
       "  </tbody>\n",
       "</table>\n",
       "</div>"
      ],
      "text/plain": [
       "         mean     sd  hdi_2.5%  hdi_97.5%\n",
       "theta  -4.319  0.024    -4.363     -4.273\n",
       "tau     0.055  0.053     0.002      0.152\n",
       "sigma   5.587  2.600     1.754     10.421\n",
       "p       0.013  0.000     0.013      0.014\n",
       "mu     75.645  1.793    72.205     79.023"
      ]
     },
     "execution_count": 234,
     "metadata": {},
     "output_type": "execute_result"
    }
   ],
   "source": [
    "az.summary(trace_student2, kind='stats', hdi_prob=0.95)"
   ]
  },
  {
   "cell_type": "code",
   "execution_count": 253,
   "id": "181b7fd4",
   "metadata": {},
   "outputs": [
    {
     "name": "stderr",
     "output_type": "stream",
     "text": [
      "Initializing NUTS using jitter+adapt_diag...\n",
      "Multiprocess sampling (4 chains in 4 jobs)\n",
      "NUTS: [tau, theta_user]\n"
     ]
    },
    {
     "data": {
      "application/vnd.jupyter.widget-view+json": {
       "model_id": "c5cc974554b845d493eb8074ee6bae36",
       "version_major": 2,
       "version_minor": 0
      },
      "text/plain": [
       "Output()"
      ]
     },
     "metadata": {},
     "output_type": "display_data"
    },
    {
     "data": {
      "text/html": [
       "<pre style=\"white-space:pre;overflow-x:auto;line-height:normal;font-family:Menlo,'DejaVu Sans Mono',consolas,'Courier New',monospace\"></pre>\n"
      ],
      "text/plain": []
     },
     "metadata": {},
     "output_type": "display_data"
    },
    {
     "name": "stderr",
     "output_type": "stream",
     "text": [
      "Sampling 4 chains for 1_000 tune and 2_000 draw iterations (4_000 + 8_000 draws total) took 2 seconds.\n"
     ]
    }
   ],
   "source": [
    "user_idx, user_labels = pd.factorize(all_data[\"user\"])\n",
    "pull_data = all_data[\"pity_counter\"].values\n",
    "\n",
    "with pm.Model() as m_hier_student2:\n",
    "    nu = 1\n",
    "    lower_bound = 0\n",
    "    upper_bound = 90\n",
    "\n",
    "    # Metalog prior\n",
    "    a_vals = dist.output_dict[\"A\"][\"a3\"].values\n",
    "    t = 3\n",
    "    bounds = [lower_bound, upper_bound]\n",
    "\n",
    "    def metalog_logp(theta):\n",
    "        return logpMetalog_pt(theta, a_vals, t, bounds, boundedness=\"b\")\n",
    "\n",
    "    # Hyperpriors\n",
    "    tau = pm.Gamma(\"tau\", alpha=0.001, beta=0.001)\n",
    "    sigma = pm.Deterministic(\"sigma\", 1 / pm.math.sqrt(tau))\n",
    "\n",
    "    # User-specific θs from Metalog prior\n",
    "    θ_user = pm.DensityDist(\"theta_user\", logp=metalog_logp, shape=len(user_labels))\n",
    "\n",
    "    # Map θ_user to each user's pull\n",
    "    θ_obs = θ_user[user_idx]\n",
    "    p = pm.Deterministic(\"p\", pm.math.sigmoid(θ_obs))\n",
    "    mu = pm.Deterministic(\"mu\", 1 / -pm.math.log(1 - p))\n",
    "\n",
    "    # Likelihood\n",
    "    y = pm.StudentT(\"y\", mu=mu, sigma=sigma, nu=nu, observed=pull_data)\n",
    "\n",
    "    trace_hier_studen2t = pm.sample(2000, tune=1000, return_inferencedata=True, idata_kwargs={\"log_likelihood\": True})"
   ]
  },
  {
   "cell_type": "code",
   "execution_count": 254,
   "id": "bbd322d2",
   "metadata": {},
   "outputs": [
    {
     "data": {
      "text/html": [
       "<div>\n",
       "<style scoped>\n",
       "    .dataframe tbody tr th:only-of-type {\n",
       "        vertical-align: middle;\n",
       "    }\n",
       "\n",
       "    .dataframe tbody tr th {\n",
       "        vertical-align: top;\n",
       "    }\n",
       "\n",
       "    .dataframe thead th {\n",
       "        text-align: right;\n",
       "    }\n",
       "</style>\n",
       "<table border=\"1\" class=\"dataframe\">\n",
       "  <thead>\n",
       "    <tr style=\"text-align: right;\">\n",
       "      <th></th>\n",
       "      <th>user</th>\n",
       "      <th>mu_mean</th>\n",
       "      <th>mu_hdi_3%</th>\n",
       "      <th>mu_hdi_97%</th>\n",
       "      <th>p_mean</th>\n",
       "      <th>p_hdi_2.5%</th>\n",
       "      <th>p_hdi_97.5%</th>\n",
       "    </tr>\n",
       "  </thead>\n",
       "  <tbody>\n",
       "    <tr>\n",
       "      <th>0</th>\n",
       "      <td>user1</td>\n",
       "      <td>70.0081</td>\n",
       "      <td>25.5924</td>\n",
       "      <td>91.1218</td>\n",
       "      <td>0.0176</td>\n",
       "      <td>0.0097</td>\n",
       "      <td>0.0332</td>\n",
       "    </tr>\n",
       "    <tr>\n",
       "      <th>1</th>\n",
       "      <td>user2</td>\n",
       "      <td>75.1552</td>\n",
       "      <td>63.7000</td>\n",
       "      <td>84.8835</td>\n",
       "      <td>0.0133</td>\n",
       "      <td>0.0117</td>\n",
       "      <td>0.0155</td>\n",
       "    </tr>\n",
       "    <tr>\n",
       "      <th>2</th>\n",
       "      <td>user3</td>\n",
       "      <td>73.8888</td>\n",
       "      <td>64.5343</td>\n",
       "      <td>80.0978</td>\n",
       "      <td>0.0135</td>\n",
       "      <td>0.0123</td>\n",
       "      <td>0.0152</td>\n",
       "    </tr>\n",
       "  </tbody>\n",
       "</table>\n",
       "</div>"
      ],
      "text/plain": [
       "    user  mu_mean  mu_hdi_3%  mu_hdi_97%  p_mean  p_hdi_2.5%  p_hdi_97.5%\n",
       "0  user1  70.0081    25.5924     91.1218  0.0176      0.0097       0.0332\n",
       "1  user2  75.1552    63.7000     84.8835  0.0133      0.0117       0.0155\n",
       "2  user3  73.8888    64.5343     80.0978  0.0135      0.0123       0.0152"
      ]
     },
     "execution_count": 254,
     "metadata": {},
     "output_type": "execute_result"
    }
   ],
   "source": [
    "mu_samples = trace_hier_studen2t.posterior[\"mu\"]\n",
    "p_samples = trace_hier_studen2t.posterior[\"p\"]\n",
    "\n",
    "user_mask = {\n",
    "    \"user1\": all_data[\"user\"] == \"user1\",\n",
    "    \"user2\": all_data[\"user\"] == \"user2\",\n",
    "    \"user3\": all_data[\"user\"] == \"user3\",\n",
    "}\n",
    "\n",
    "results = []\n",
    "\n",
    "for user, mask in user_mask.items():\n",
    "    user_mu = mu_samples[..., mask].values.flatten()\n",
    "    user_p = p_samples[..., mask].values.flatten()\n",
    "\n",
    "    mu_mean = user_mu.mean()\n",
    "    mu_lwr, mu_upr = calc_hdi(user_mu)\n",
    "\n",
    "    p_mean = user_p.mean()\n",
    "    p_lwr, p_upr = calc_hdi(user_p)\n",
    "\n",
    "    results.append({\n",
    "        \"user\": user,\n",
    "        \"mu_mean\": mu_mean,\n",
    "        \"mu_hdi_3%\": mu_lwr,\n",
    "        \"mu_hdi_97%\": mu_upr,\n",
    "        \"p_mean\": p_mean,\n",
    "        \"p_hdi_2.5%\": p_lwr,\n",
    "        \"p_hdi_97.5%\": p_upr,\n",
    "    })\n",
    "\n",
    "df_summary = pd.DataFrame(results)\n",
    "df_summary.round(4)"
   ]
  },
  {
   "cell_type": "markdown",
   "id": "d302e5d4",
   "metadata": {},
   "source": [
    "The good:\n",
    "* Expected pulls for 5-star seems to be correct. Tho, the credible intervals of the user1 is quite wide, but it is due to the limitation of only having 3 data points.\n",
    "\n",
    "Limitation: \n",
    "* Samples from out of range (max sample = 120, which is not possible)\n",
    "* Couldn't properly estimated the advertised rate of 1.6% with this model."
   ]
  },
  {
   "cell_type": "markdown",
   "id": "38cbc9d6",
   "metadata": {},
   "source": [
    "### 4. Appendix - SPT Implementation Trial\n",
    "\n",
    "This section is based on the formulation presented in the original paper, specifically the SPT Log Metalog distribution for bounded data. Since our observations are constrained between 1 and 90, we adopt the bounded form as described in the official documentation: [SPT Bounded Metalog Equations](http://www.metalogdistributions.com/equations/sptboundedmetalog.html)."
   ]
  },
  {
   "cell_type": "markdown",
   "id": "3e0a4ed7",
   "metadata": {},
   "source": [
    "To do the SPT parameterization, we need to know $q_\\alpha$, $q_{0.5}$, and $q_{1-\\alpha}$. Let's say $\\alpha = 0.1$."
   ]
  },
  {
   "cell_type": "code",
   "execution_count": 104,
   "id": "1b0697fb",
   "metadata": {},
   "outputs": [
    {
     "name": "stdout",
     "output_type": "stream",
     "text": [
      "p10, p50, p90:  13 75 79\n"
     ]
    }
   ],
   "source": [
    "win_pity_counts = cleaned_df[cleaned_df.is_win == 1].pity_counter.values\n",
    "win_pity_counts = np.sort(win_pity_counts)\n",
    "p10_index = len(win_pity_counts) * 0.1\n",
    "p50_index = len(win_pity_counts) * 0.5\n",
    "p90_index = len(win_pity_counts) * 0.9\n",
    "print(\"p10, p50, p90: \", win_pity_counts[int(p10_index)], win_pity_counts[int(p50_index)], win_pity_counts[int(p90_index)])"
   ]
  },
  {
   "cell_type": "code",
   "execution_count": 105,
   "id": "678ea48f",
   "metadata": {},
   "outputs": [],
   "source": [
    "def metalog_qdf(y, a: np.ndarray, bl: float = 0.0, bu: float = 90.0):\n",
    "    \"\"\"\n",
    "    Calculate the quantile function for SPT parameterization of the metalog distribution.\n",
    "    \"\"\"\n",
    "    if y == 0:\n",
    "        return bl\n",
    "    if y == 1:\n",
    "        return bu\n",
    "\n",
    "    a1, a2, a3 = a\n",
    "    y_log_term = np.log(y / (1 - y))\n",
    "    y_term = y - 0.5\n",
    "    M_y = a1 + a2 * y_log_term + a3 * y_term * y_log_term\n",
    "\n",
    "    return (bl + bu * np.exp(M_y)) / (1 + np.exp(M_y))"
   ]
  },
  {
   "cell_type": "code",
   "execution_count": 106,
   "id": "b490dc2c",
   "metadata": {},
   "outputs": [],
   "source": [
    "def metalog_pdf(y, a: np.ndarray, bl: float = 0.0, bu: float = 90.0):\n",
    "    \"\"\"\n",
    "    Calculate the quantile function for SPT parameterization of the metalog distribution.\n",
    "    \"\"\"\n",
    "    if y == 0 or y == 1:\n",
    "        return 0\n",
    "\n",
    "    _, a2, a3 = a\n",
    "\n",
    "    y_term = y * (1 - y)\n",
    "    y_log_term = np.log(y / (1 - y))\n",
    "\n",
    "    m_y = 1 / (a2 / y_term + a3 * (((y - 0.5) / y_term)) + y_log_term)\n",
    "    M_y = metalog_qdf(y, a, bl, bu)\n",
    "\n",
    "    return m_y * ((1 + np.exp(M_y)) ** 2 / ((bu - bl) * np.exp(M_y)))"
   ]
  },
  {
   "cell_type": "code",
   "execution_count": 107,
   "id": "52c63e3e",
   "metadata": {},
   "outputs": [],
   "source": [
    "def check_feasibility(alpha, gamma_10, gamma_50, gamma_90, bl: float = 0.0, bu: float = 90.0):\n",
    "    k_a = 0.5 * (1 - 1.66711 * (0.5 - alpha))\n",
    "\n",
    "    lower_bound = (bl + bu * (gamma_10 ** (1 - k_a)) * gamma_90 ** (k_a)) * np.reciprocal(1 + (gamma_10 ** (1 - k_a)) * (gamma_90 ** k_a))\n",
    "    upper_bound = (bl + bu * (gamma_10 ** k_a) * gamma_90 ** (1 - k_a)) * np.reciprocal(1 + (gamma_10 ** k_a) * (gamma_90 ** (1 - k_a)))\n",
    "\n",
    "    print(\"lower bound: \", lower_bound)\n",
    "    print(\"upper bound: \", upper_bound)\n",
    "    print(\"gamma_50: \", gamma_50)\n",
    "\n",
    "    return lower_bound <= gamma_50 <= upper_bound, lower_bound, upper_bound"
   ]
  },
  {
   "cell_type": "code",
   "execution_count": 108,
   "id": "5a954615",
   "metadata": {},
   "outputs": [],
   "source": [
    "def calculate_constants(q10, q50, q90, bl: float = 0.0, bu: float = 90.0):\n",
    "    \"\"\"\n",
    "    Calculate the constants for the metalog distribution.\n",
    "    \"\"\"\n",
    "    a = np.zeros(3)\n",
    "    alpha = 0.1\n",
    "    \n",
    "    gamma_10 = (q10 - bl) / (bu - q10)\n",
    "    gamma_50 = (q50 - bl) / (bu - q50)\n",
    "    gamma_90 = (q90 - bl) / (bu - q90)\n",
    "\n",
    "    # Check feasibility\n",
    "    is_feasible, lwr, upr = check_feasibility(alpha, gamma_10, gamma_50, gamma_90, bl, bu)\n",
    "\n",
    "    if not is_feasible:\n",
    "        raise ValueError(f\"The parameters are not feasible for the metalog distribution: {lwr} <= {gamma_50} <= {upr}\")\n",
    "\n",
    "    a[0] = np.log(gamma_50)\n",
    "    a[1] = 0.5 * np.reciprocal(np.log ((1 - alpha) / alpha)) * np.log(gamma_90 / gamma_10)\n",
    "    a[2] = np.reciprocal((1 - 2*alpha) * np.log((1 - alpha) / alpha)) * np.log((gamma_90*gamma_10) / gamma_50 ** 2)\n",
    "\n",
    "    return a"
   ]
  },
  {
   "cell_type": "code",
   "execution_count": 122,
   "id": "6dca917a",
   "metadata": {},
   "outputs": [
    {
     "name": "stdout",
     "output_type": "stream",
     "text": [
      "lower bound:  21.240147737611274\n",
      "upper bound:  71.27958428030678\n",
      "gamma_50:  4.933333333333334\n"
     ]
    },
    {
     "ename": "ValueError",
     "evalue": "The parameters are not feasible for the metalog distribution: 21.240147737611274 <= 4.933333333333334 <= 71.27958428030678",
     "output_type": "error",
     "traceback": [
      "\u001b[31m---------------------------------------------------------------------------\u001b[39m",
      "\u001b[31mValueError\u001b[39m                                Traceback (most recent call last)",
      "\u001b[36mCell\u001b[39m\u001b[36m \u001b[39m\u001b[32mIn[122]\u001b[39m\u001b[32m, line 1\u001b[39m\n\u001b[32m----> \u001b[39m\u001b[32m1\u001b[39m a = \u001b[43mcalculate_constants\u001b[49m\u001b[43m(\u001b[49m\u001b[32;43m13\u001b[39;49m\u001b[43m,\u001b[49m\u001b[43m \u001b[49m\u001b[32;43m75\u001b[39;49m\u001b[43m,\u001b[49m\u001b[43m \u001b[49m\u001b[32;43m79\u001b[39;49m\u001b[43m,\u001b[49m\u001b[43m \u001b[49m\u001b[43mbl\u001b[49m\u001b[43m=\u001b[49m\u001b[32;43m1\u001b[39;49m\u001b[43m,\u001b[49m\u001b[43m \u001b[49m\u001b[43mbu\u001b[49m\u001b[43m=\u001b[49m\u001b[32;43m90\u001b[39;49m\u001b[43m)\u001b[49m\n\u001b[32m      2\u001b[39m a\n",
      "\u001b[36mCell\u001b[39m\u001b[36m \u001b[39m\u001b[32mIn[108]\u001b[39m\u001b[32m, line 16\u001b[39m, in \u001b[36mcalculate_constants\u001b[39m\u001b[34m(q10, q50, q90, bl, bu)\u001b[39m\n\u001b[32m     13\u001b[39m is_feasible, lwr, upr = check_feasibility(alpha, gamma_10, gamma_50, gamma_90, bl, bu)\n\u001b[32m     15\u001b[39m \u001b[38;5;28;01mif\u001b[39;00m \u001b[38;5;129;01mnot\u001b[39;00m is_feasible:\n\u001b[32m---> \u001b[39m\u001b[32m16\u001b[39m     \u001b[38;5;28;01mraise\u001b[39;00m \u001b[38;5;167;01mValueError\u001b[39;00m(\u001b[33mf\u001b[39m\u001b[33m\"\u001b[39m\u001b[33mThe parameters are not feasible for the metalog distribution: \u001b[39m\u001b[38;5;132;01m{\u001b[39;00mlwr\u001b[38;5;132;01m}\u001b[39;00m\u001b[33m <= \u001b[39m\u001b[38;5;132;01m{\u001b[39;00mgamma_50\u001b[38;5;132;01m}\u001b[39;00m\u001b[33m <= \u001b[39m\u001b[38;5;132;01m{\u001b[39;00mupr\u001b[38;5;132;01m}\u001b[39;00m\u001b[33m\"\u001b[39m)\n\u001b[32m     18\u001b[39m a[\u001b[32m0\u001b[39m] = np.log(gamma_50)\n\u001b[32m     19\u001b[39m a[\u001b[32m1\u001b[39m] = \u001b[32m0.5\u001b[39m * np.reciprocal(np.log ((\u001b[32m1\u001b[39m - alpha) / alpha)) * np.log(gamma_90 / gamma_10)\n",
      "\u001b[31mValueError\u001b[39m: The parameters are not feasible for the metalog distribution: 21.240147737611274 <= 4.933333333333334 <= 71.27958428030678"
     ]
    }
   ],
   "source": [
    "a = calculate_constants(13, 75, 79, bl=1, bu=90)\n",
    "a"
   ]
  },
  {
   "cell_type": "markdown",
   "id": "a2b61271",
   "metadata": {},
   "source": [
    "Unfortuantely, the data we have is not feasible for SPT parameterization."
   ]
  },
  {
   "cell_type": "code",
   "execution_count": null,
   "id": "b02055f8",
   "metadata": {},
   "outputs": [
    {
     "name": "stdout",
     "output_type": "stream",
     "text": [
      "lower bound:  2.9219911453857095\n",
      "upper bound:  65.53506115786132\n",
      "gamma_50:  3.736842105263158\n"
     ]
    },
    {
     "data": {
      "text/plain": [
       "array([ 1.3182409 ,  1.49463054, -2.87048299])"
      ]
     },
     "execution_count": 123,
     "metadata": {},
     "output_type": "execute_result"
    }
   ],
   "source": [
    "# Let's say we had the data like this\n",
    "a = calculate_constants(1, 71, 80, bl=0, bu=90)\n",
    "a"
   ]
  },
  {
   "cell_type": "code",
   "execution_count": 126,
   "id": "2ba99f97",
   "metadata": {},
   "outputs": [
    {
     "name": "stdout",
     "output_type": "stream",
     "text": [
      "lower bound:  2.9219911453857095\n",
      "upper bound:  65.53506115786132\n",
      "gamma_50:  3.736842105263158\n"
     ]
    },
    {
     "data": {
      "image/png": "[encoded data removed]",
      "text/plain": [
       "<Figure size 1500x500 with 2 Axes>"
      ]
     },
     "metadata": {},
     "output_type": "display_data"
    }
   ],
   "source": [
    "# convert y to pity counter\n",
    "x = np.linspace(0, 90, 100000)\n",
    "y = np.linspace(0, 1, 100000)\n",
    "a = calculate_constants(1, 71, 80, bl=0, bu=90)\n",
    "\n",
    "xfunc = lambda y : metalog_qdf(y, a)\n",
    "yfunc = lambda y : metalog_pdf(y, a)\n",
    "\n",
    "xs = np.array(list(map(xfunc, y)))\n",
    "ys = np.array(list(map(yfunc, y)))\n",
    "\n",
    "fig, (ax1, ax2) = plt.subplots(1, 2, figsize=(15, 5))\n",
    "\n",
    "ax1.plot(x, xs, label=\"CDF\")\n",
    "ax1.set_xlabel(\"Pull number\")\n",
    "ax1.set_ylabel(\"Cumulative Probability\")\n",
    "ax1.set_title(\"CDF of Metalog Distribution\")\n",
    "ax1.legend()\n",
    "\n",
    "ax2.plot(x, ys, label=\"PDF\")\n",
    "ax2.set_xlabel(\"Pull number\")\n",
    "ax2.set_ylabel(\"Probability Density\")\n",
    "ax2.set_title(\"PDF of Metalog Distribution\")\n",
    "ax2.legend()\n",
    "\n",
    "plt.show()"
   ]
  },
  {
   "cell_type": "markdown",
   "id": "e6f02498",
   "metadata": {},
   "source": [
    "Not really sure if the implementation is wrong or this data is really infeasible."
   ]
  }
 ],
 "metadata": {
  "kernelspec": {
   "display_name": "pymc_env",
   "language": "python",
   "name": "python3"
  },
  "language_info": {
   "codemirror_mode": {
    "name": "ipython",
    "version": 3
   },
   "file_extension": ".py",
   "mimetype": "text/x-python",
   "name": "python",
   "nbconvert_exporter": "python",
   "pygments_lexer": "ipython3",
   "version": "3.12.9"
  }
 },
 "nbformat": 4,
 "nbformat_minor": 5
}
