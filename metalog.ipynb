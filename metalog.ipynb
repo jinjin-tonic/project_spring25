{
 "cells": [
  {
   "cell_type": "code",
   "execution_count": 383,
   "id": "233f76a4",
   "metadata": {},
   "outputs": [],
   "source": [
    "import numpy as np\n",
    "import pymc as pm\n",
    "import pytensor.tensor as pt\n",
    "import matplotlib.pyplot as plt\n",
    "import pandas as pd"
   ]
  },
  {
   "cell_type": "markdown",
   "id": "55f24c01",
   "metadata": {},
   "source": []
  },
  {
   "cell_type": "code",
   "execution_count": null,
   "id": "34537ad5",
   "metadata": {},
   "outputs": [
    {
     "name": "stdout",
     "output_type": "stream",
     "text": [
      "p10, p50, p90:  13 75 79\n"
     ]
    }
   ],
   "source": [
    "win_pity_counts = cleaned_df[cleaned_df.is_win == 1].pity_counter.values\n",
    "win_pity_counts = np.sort(win_pity_counts)\n",
    "p10_index = len(win_pity_counts) * 0.1\n",
    "p50_index = len(win_pity_counts) * 0.5\n",
    "p90_index = len(win_pity_counts) * 0.9\n",
    "print(\"p10, p50, p90: \", win_pity_counts[int(p10_index)], win_pity_counts[int(p50_index)], win_pity_counts[int(p90_index)])"
   ]
  },
  {
   "cell_type": "markdown",
   "id": "53aebaaf",
   "metadata": {},
   "source": [
    "Based on this: http://www.metalogdistributions.com/equations/sptboundedmetalog.html\n",
    "* Original paper introduces as \"SPT Log Metalog\" used for bounded distribution (since our data can only range between 0 to 90)"
   ]
  },
  {
   "cell_type": "code",
   "execution_count": null,
   "id": "57757cfc",
   "metadata": {},
   "outputs": [],
   "source": [
    "def metalog_qdf(y, a: np.ndarray, bl: float = 0.0, bu: float = 90.0):\n",
    "    \"\"\"\n",
    "    Calculate the quantile function for SPT parameterization of the metalog distribution.\n",
    "    \"\"\"\n",
    "    if y == 0:\n",
    "        return bl\n",
    "    if y == 1:\n",
    "        return bu\n",
    "\n",
    "    a1, a2, a3 = a\n",
    "    y_log_term = np.log(y / (1 - y))\n",
    "    y_term = y - 0.5\n",
    "    M_y = a1 + a2 * y_log_term + a3 * y_term * y_log_term\n",
    "\n",
    "    return (bl + bu * np.exp(M_y)) / (1 + np.exp(M_y))"
   ]
  },
  {
   "cell_type": "code",
   "execution_count": null,
   "id": "8701404d",
   "metadata": {},
   "outputs": [],
   "source": [
    "def metalog_pdf(y, a: np.ndarray, bl: float = 0.0, bu: float = 90.0):\n",
    "    \"\"\"\n",
    "    Calculate the quantile function for SPT parameterization of the metalog distribution.\n",
    "    \"\"\"\n",
    "    if y == 0 or y == 1:\n",
    "        return 0\n",
    "\n",
    "    _, a2, a3 = a\n",
    "\n",
    "    y_term = y * (1 - y)\n",
    "    y_log_term = np.log(y / (1 - y))\n",
    "\n",
    "    m_y = 1 / (a2 / y_term + a3 * (((y - 0.5) / y_term)) + y_log_term)\n",
    "    M_y = metalog_qdf(y, a, bl, bu)\n",
    "\n",
    "    return m_y * ((1 + np.exp(M_y)) ** 2 / ((bu - bl) * np.exp(M_y)))"
   ]
  },
  {
   "cell_type": "code",
   "execution_count": null,
   "id": "3e4501c2",
   "metadata": {},
   "outputs": [],
   "source": [
    "def check_feasibility(alpha, gamma_10, gamma_50, gamma_90, bl: float = 0.0, bu: float = 90.0):\n",
    "    k_a = 0.5 * (1 - 1.66711 * (0.5 - alpha))\n",
    "\n",
    "    lower_bound = (bl + bu * (gamma_10 ** (1 - k_a)) * gamma_90 ** (k_a)) * np.reciprocal(1 + (gamma_10 ** (1 - k_a)) * (gamma_90 ** k_a))\n",
    "    upper_bound = (bl + bu * (gamma_10 ** k_a) * gamma_90 ** (1 - k_a)) * np.reciprocal(1 + (gamma_10 ** k_a) * (gamma_90 ** (1 - k_a)))\n",
    "\n",
    "    print(\"lower bound: \", lower_bound)\n",
    "    print(\"upper bound: \", upper_bound)\n",
    "    print(\"gamma_50: \", gamma_50)\n",
    "\n",
    "    return lower_bound <= gamma_50 <= upper_bound, lower_bound, upper_bound"
   ]
  },
  {
   "cell_type": "code",
   "execution_count": null,
   "id": "1dfa7f14",
   "metadata": {},
   "outputs": [],
   "source": [
    "def calculate_constants(q10, q50, q90, bl: float = 0.0, bu: float = 90.0):\n",
    "    \"\"\"\n",
    "    Calculate the constants for the metalog distribution.\n",
    "    \"\"\"\n",
    "    a = np.zeros(3)\n",
    "    alpha = 0.1\n",
    "    \n",
    "    gamma_10 = (q10 - bl) / (bu - q10)\n",
    "    gamma_50 = (q50 - bl) / (bu - q50)\n",
    "    gamma_90 = (q90 - bl) / (bu - q90)\n",
    "\n",
    "    # Check feasibility\n",
    "    is_feasible, lwr, upr = check_feasibility(alpha, gamma_10, gamma_50, gamma_90, bl, bu)\n",
    "\n",
    "    if not is_feasible:\n",
    "        raise ValueError(f\"The parameters are not feasible for the metalog distribution: {lwr} <= {gamma_50} <= {upr}\")\n",
    "\n",
    "    a[0] = np.log(gamma_50)\n",
    "    a[1] = 0.5 * np.reciprocal(np.log ((1 - alpha) / alpha)) * np.log(gamma_90 / gamma_10)\n",
    "    a[2] = np.reciprocal((1 - 2*alpha) * np.log((1 - alpha) / alpha)) * np.log((gamma_90*gamma_10) / gamma_50 ** 2)\n",
    "\n",
    "    return a"
   ]
  },
  {
   "cell_type": "code",
   "execution_count": null,
   "id": "8ff4a98b",
   "metadata": {},
   "outputs": [
    {
     "name": "stdout",
     "output_type": "stream",
     "text": [
      "lower bound:  2.9219911453857095\n",
      "upper bound:  65.53506115786132\n",
      "gamma_50:  3.736842105263158\n"
     ]
    },
    {
     "data": {
      "text/plain": [
       "array([ 1.3182409 ,  1.49463054, -2.87048299])"
      ]
     },
     "metadata": {},
     "output_type": "display_data"
    }
   ],
   "source": [
    "a = calculate_constants(1, 71, 80, bl=0, bu=90)\n",
    "a"
   ]
  },
  {
   "cell_type": "code",
   "execution_count": null,
   "id": "1bd2fc37",
   "metadata": {},
   "outputs": [
    {
     "name": "stdout",
     "output_type": "stream",
     "text": [
      "lower bound:  2.9219911453857095\n",
      "upper bound:  65.53506115786132\n",
      "gamma_50:  3.736842105263158\n"
     ]
    },
    {
     "data": {
      "text/plain": [
       "<matplotlib.legend.Legend at 0x3147868d0>"
      ]
     },
     "metadata": {},
     "output_type": "display_data"
    },
    {
     "data": {
      "image/png": "[encoded data removed]",
      "text/plain": [
       "<Figure size 1500x500 with 2 Axes>"
      ]
     },
     "metadata": {},
     "output_type": "display_data"
    }
   ],
   "source": [
    "# convert y to pity counter\n",
    "x = np.linspace(0, 90, 100000)\n",
    "y = np.linspace(0, 1, 100000)\n",
    "a = calculate_constants(1, 71, 80, bl=0, bu=90)\n",
    "\n",
    "xfunc = lambda y : metalog_qdf(y, a)\n",
    "yfunc = lambda y : metalog_pdf(y, a)\n",
    "\n",
    "xs = np.array(list(map(xfunc, y)))\n",
    "ys = np.array(list(map(yfunc, y)))\n",
    "\n",
    "fig, (ax1, ax2) = plt.subplots(1, 2, figsize=(15, 5))\n",
    "\n",
    "ax1.plot(x, xs, label=\"CDF\")\n",
    "ax1.set_xlabel(\"Pull number\")\n",
    "ax1.set_ylabel(\"Cumulative Probability\")\n",
    "ax1.set_title(\"CDF of Metalog Distribution\")\n",
    "ax1.axvline(75, color='gray', linestyle='--', alpha=0.5)\n",
    "ax1.axvline(79, color='gray', linestyle='--', alpha=0.5)\n",
    "ax1.legend()\n",
    "\n",
    "ax2.plot(x, ys, label=\"PDF\")\n",
    "ax2.set_xlabel(\"Pull number\")\n",
    "ax2.set_ylabel(\"Probability Density\")\n",
    "ax2.set_title(\"PDF of Metalog Distribution\")\n",
    "ax2.axvline(75, color='gray', linestyle='--', alpha=0.5)\n",
    "ax2.axvline(79, color='gray', linestyle='--', alpha=0.5)\n",
    "ax2.legend()"
   ]
  },
  {
   "cell_type": "markdown",
   "id": "9f64a951",
   "metadata": {},
   "source": [
    "#### Metalog implementation tried"
   ]
  },
  {
   "cell_type": "code",
   "execution_count": 17,
   "id": "9a4e501c",
   "metadata": {},
   "outputs": [],
   "source": [
    "# this is based on the bounded metalog equations"
   ]
  },
  {
   "cell_type": "code",
   "execution_count": 19,
   "id": "45ab859d",
   "metadata": {},
   "outputs": [],
   "source": [
    "def z_transform(x, lower, upper):\n",
    "    \"\"\"Transform x to the logit scale.\"\"\"\n",
    "    return np.log((x - lower) / (upper - x))"
   ]
  },
  {
   "cell_type": "code",
   "execution_count": 74,
   "id": "acd78ac6",
   "metadata": {},
   "outputs": [],
   "source": [
    "def metalog_ppf(y, a, k):\n",
    "    \"\"\"\n",
    "    Compute the percent point function (inverse CDF) of the metalog distribution.\n",
    "\n",
    "    Args:\n",
    "        y: The cumulative probability, 0 < y < 1.\n",
    "        a: The array of the parameters of the metalog distribution.\n",
    "        k: The number of parameters.\n",
    "    \"\"\"\n",
    "    y_term = np.log(y / (1 - y))\n",
    "    y_05 = y - 0.5\n",
    "\n",
    "    M_y = a[0] + a[1] * y_term\n",
    "\n",
    "    if k == 3:\n",
    "       M_y = M_y + a[2] * y_05 * y_term\n",
    "    \n",
    "    if k == 4:\n",
    "        M_y = M_y + a[2] * y_05 * y_term + a[3] * y_05\n",
    "\n",
    "    if k >= 5:\n",
    "        M_y = M_y + a[2] * y_05 * y_term + a[3] * y_05\n",
    "\n",
    "        for i in range(5, k+1):\n",
    "            if i % 2 == 1:\n",
    "                M_y = M_y + a[i-1] * y_05 ** ((i-1)/2)\n",
    "\n",
    "            else:\n",
    "                M_y = M_y + a[i-1] *  y_05 ** (i/2-1) * y_term\n",
    "    return M_y"
   ]
  },
  {
   "cell_type": "code",
   "execution_count": 75,
   "id": "54a1632d",
   "metadata": {},
   "outputs": [],
   "source": [
    "def metalog_pdf(y, a, k):\n",
    "    \"\"\"\n",
    "    Compute the probability density function (PDF) of the metalog distribution.\n",
    "\n",
    "    Args:\n",
    "        y: The cumulative probability, 0 < y < 1.\n",
    "        a: The array of the parameters of the metalog distribution.\n",
    "        k: The number of parameters.\n",
    "    \"\"\"\n",
    "    y_ln_term = np.log(y / (1 - y))\n",
    "    y_term = y * (1 - y)\n",
    "    y_05 = y - 0.5\n",
    "\n",
    "    m_y = a[1] / y_term\n",
    "    \n",
    "    if k == 3:\n",
    "        m_y = a[1] / y_term + a[2] * (y_05 / y_term + y_ln_term)\n",
    "    \n",
    "    if k == 4:\n",
    "        m_y = a[1] / y_term + a[2] * (y_05 / y_term + y_ln_term) + a[3]\n",
    "    \n",
    "    if k >= 5:\n",
    "        m_y = a[1] / y_term + a[2] * (y_05 / y_term + y_ln_term) + a[3]\n",
    "\n",
    "        for i in range(5, k+1):\n",
    "            if i % 2 == 1:\n",
    "                m_y = m_y + a[i-1] * ((i-1) / 2) * y_05 ** ((i-3)/2)\n",
    "            else:\n",
    "                m_y = m_y + a[i-1] * ((y_05 ** (i/2-1) / y_term) + (i/2-1)) * (y_05 ** (i/2-2) * y_ln_term)\n",
    "\n",
    "    return np.reciprocal(m_y)"
   ]
  },
  {
   "cell_type": "code",
   "execution_count": 76,
   "id": "3e5eaa1f",
   "metadata": {},
   "outputs": [],
   "source": [
    "def calculate_constants(x, y, k):\n",
    "    \"\"\"\n",
    "    Calculate the constants for the metalog distribution.\n",
    "    \n",
    "    Args:\n",
    "        x: The array of the quantiles.\n",
    "        y: The array of the probabilities.\n",
    "        k: The number of parameters.\n",
    "    \"\"\"\n",
    "    m = len(x)\n",
    "    Y = np.zeros(shape=(m, k))\n",
    "    print(\"Y.shape\", Y.shape)\n",
    "    Y[:, 0] = 1\n",
    "    Y[:, 1] = np.log(y / (1 - y))\n",
    "    \n",
    "    if k == 3:\n",
    "        Y[:, 2] = (y - 0.5) * np.log(y / (1 - y))\n",
    "\n",
    "    if k == 4:\n",
    "        Y[:, 2] = (y - 0.5) * np.log(y / (1 - y))\n",
    "        Y[:, 3] = y - 0.5\n",
    "\n",
    "    if k >= 5:\n",
    "        Y[:, 2] = (y - 0.5) * np.log(y / (1 - y))\n",
    "        Y[:, 3] = y - 0.5\n",
    "        \n",
    "        for i in range(5, k+1):\n",
    "            if i % 2 == 1:\n",
    "                Y[:, i-1] = (y - 0.5) ** ((i-1)/2)\n",
    "            else:\n",
    "                Y[:, i-1] = (y - 0.5) ** ((i/2)-1) * np.log(y / (1 - y))\n",
    "\n",
    "    # calculate the constants\n",
    "    YT = Y.T\n",
    "    a = np.linalg.inv(YT @ Y) @ YT @ x\n",
    "    return a\n"
   ]
  },
  {
   "cell_type": "code",
   "execution_count": 87,
   "id": "e4490769",
   "metadata": {},
   "outputs": [
    {
     "name": "stdout",
     "output_type": "stream",
     "text": [
      "Y.shape (4, 4)\n",
      "a [  76.           35.03377627  -33.56507148 -108.69268567]\n"
     ]
    },
    {
     "data": {
      "text/plain": [
       "array([0.0019861 , 0.03180417, 1.24558178, 0.01734804])"
      ]
     },
     "execution_count": 87,
     "metadata": {},
     "output_type": "execute_result"
    }
   ],
   "source": [
    "# calculate the constants\n",
    "x = np.array([13, 76, 78, 80])\n",
    "y = np.array([0.1, 0.5, 0.8, 0.9])\n",
    "k = 4\n",
    "a = calculate_constants(x, y, k)\n",
    "print(\"a\", a)\n",
    "\n",
    "# calculate the percent point function\n",
    "metalog_pdf(y, a, k)"
   ]
  },
  {
   "cell_type": "code",
   "execution_count": null,
   "id": "5f771b1a",
   "metadata": {},
   "outputs": [
    {
     "name": "stdout",
     "output_type": "stream",
     "text": [
      "Y.shape (4, 4)\n"
     ]
    },
    {
     "name": "stderr",
     "output_type": "stream",
     "text": [
      "/var/folders/qf/j7wht0hj5z199zk3gbhnlfj00000gn/T/ipykernel_6649/3138272314.py:10: RuntimeWarning: divide by zero encountered in log\n",
      "  y_ln_term = np.log(y / (1 - y))\n",
      "/var/folders/qf/j7wht0hj5z199zk3gbhnlfj00000gn/T/ipykernel_6649/3138272314.py:14: RuntimeWarning: divide by zero encountered in scalar divide\n",
      "  m_y = a[1] / y_term\n",
      "/var/folders/qf/j7wht0hj5z199zk3gbhnlfj00000gn/T/ipykernel_6649/3138272314.py:20: RuntimeWarning: divide by zero encountered in scalar divide\n",
      "  m_y = a[1] / y_term + a[2] * (y_05 / y_term + y_ln_term) + a[3]\n",
      "/var/folders/qf/j7wht0hj5z199zk3gbhnlfj00000gn/T/ipykernel_6649/3138272314.py:10: RuntimeWarning: divide by zero encountered in scalar divide\n",
      "  y_ln_term = np.log(y / (1 - y))\n",
      "/var/folders/qf/j7wht0hj5z199zk3gbhnlfj00000gn/T/ipykernel_6649/3138272314.py:20: RuntimeWarning: invalid value encountered in scalar add\n",
      "  m_y = a[1] / y_term + a[2] * (y_05 / y_term + y_ln_term) + a[3]\n"
     ]
    },
    {
     "data": {
      "text/plain": [
       "<matplotlib.legend.Legend at 0x168aeb2f0>"
      ]
     },
     "execution_count": 95,
     "metadata": {},
     "output_type": "execute_result"
    },
    {
     "data": {
      "image/png": "[encoded data removed]",
      "text/plain": [
       "<Figure size 1500x500 with 1 Axes>"
      ]
     },
     "metadata": {},
     "output_type": "display_data"
    }
   ],
   "source": [
    "# convert y to pity counter\n",
    "x = np.linspace(0, 90, 100000)\n",
    "y = np.linspace(0, 1, 100000)\n",
    "\n",
    "k = 4\n",
    "observed_x = np.array([13, 76, 78, 80])\n",
    "observed_y = np.array([0.1, 0.5, 0.8, 0.9])\n",
    "a = calculate_constants(observed_x, observed_y, k=k)\n",
    "\n",
    "yfunc = lambda y : metalog_pdf(y, a, k)\n",
    "\n",
    "ys = np.array(list(map(yfunc, y)))\n",
    "\n",
    "fig, axes = plt.subplots(1, 1, figsize=(15, 5))\n",
    "\n",
    "axes.plot(x, ys, label=\"PDF\")\n",
    "axes.set_xlabel(\"Pull number\")\n",
    "axes.set_ylabel(\"Probability Density\")\n",
    "axes.set_title(\"PDF of Metalog Distribution\")\n",
    "axes.axvline(75, color='gray', linestyle='--', alpha=0.5)\n",
    "axes.axvline(79, color='gray', linestyle='--', alpha=0.5)\n",
    "axes.legend()"
   ]
  },
  {
   "cell_type": "markdown",
   "id": "09c54081",
   "metadata": {},
   "source": [
    "### Metalog implementation from pymetalog"
   ]
  },
  {
   "cell_type": "code",
   "execution_count": 384,
   "id": "1585ef1f",
   "metadata": {},
   "outputs": [],
   "source": [
    "import os\n",
    "import sys\n",
    "module_path = os.path.abspath(os.path.join('..', 'pymetalog'))\n",
    "if module_path not in sys.path:\n",
    "    sys.path.append(module_path)"
   ]
  },
  {
   "cell_type": "code",
   "execution_count": 385,
   "id": "0694e4be",
   "metadata": {},
   "outputs": [],
   "source": [
    "import pymetalog as mt\n",
    "import numpy as np\n",
    "import pymc as pm\n",
    "import pytensor.tensor as pt\n",
    "import matplotlib.pyplot as plt\n",
    "import arviz as az\n",
    "import pandas as pd"
   ]
  },
  {
   "cell_type": "markdown",
   "id": "353f759c",
   "metadata": {},
   "source": [
    "#### Metalog fitting with scraped data"
   ]
  },
  {
   "cell_type": "code",
   "execution_count": 386,
   "id": "f3b90dba",
   "metadata": {},
   "outputs": [
    {
     "name": "stdout",
     "output_type": "stream",
     "text": [
      "pull_data:  [ 6 13 40 61 74 75 75 76 78 79]\n"
     ]
    },
    {
     "name": "stderr",
     "output_type": "stream",
     "text": [
      "/Users/haejin.cho/Documents/OMSCS/ISYE6420/pymetalog/pymetalog/support.py:35: FutureWarning: Setting an item of incompatible dtype is deprecated and will raise an error in a future version of pandas. Value '0.05' has dtype incompatible with int64, please explicitly cast to a compatible dtype first.\n",
      "  x.loc[i, \"probs\"] = 0.5 / l\n"
     ]
    }
   ],
   "source": [
    "# x = np.array([13, 76, 78, 80])\n",
    "# y = np.array([0.1, 0.5, 0.8, 0.9])\n",
    "pull_data = np.sort(np.array([13, 40, 75,  6, 76, 78, 61, 74, 75, 79]))\n",
    "print(\"pull_data: \", pull_data)\n",
    "dist = mt.metalog(x = pull_data, term_limit=3, bounds=[0, 90], boundedness=\"b\")"
   ]
  },
  {
   "cell_type": "code",
   "execution_count": 387,
   "id": "7bb7060e",
   "metadata": {},
   "outputs": [
    {
     "data": {
      "text/html": [
       "<div>\n",
       "<style scoped>\n",
       "    .dataframe tbody tr th:only-of-type {\n",
       "        vertical-align: middle;\n",
       "    }\n",
       "\n",
       "    .dataframe tbody tr th {\n",
       "        vertical-align: top;\n",
       "    }\n",
       "\n",
       "    .dataframe thead th {\n",
       "        text-align: right;\n",
       "    }\n",
       "</style>\n",
       "<table border=\"1\" class=\"dataframe\">\n",
       "  <thead>\n",
       "    <tr style=\"text-align: right;\">\n",
       "      <th></th>\n",
       "      <th>x</th>\n",
       "      <th>probs</th>\n",
       "      <th>z</th>\n",
       "    </tr>\n",
       "  </thead>\n",
       "  <tbody>\n",
       "    <tr>\n",
       "      <th>0</th>\n",
       "      <td>6</td>\n",
       "      <td>0.05</td>\n",
       "      <td>-2.639057</td>\n",
       "    </tr>\n",
       "    <tr>\n",
       "      <th>1</th>\n",
       "      <td>13</td>\n",
       "      <td>0.15</td>\n",
       "      <td>-1.778856</td>\n",
       "    </tr>\n",
       "    <tr>\n",
       "      <th>2</th>\n",
       "      <td>40</td>\n",
       "      <td>0.25</td>\n",
       "      <td>-0.223144</td>\n",
       "    </tr>\n",
       "    <tr>\n",
       "      <th>3</th>\n",
       "      <td>61</td>\n",
       "      <td>0.35</td>\n",
       "      <td>0.743578</td>\n",
       "    </tr>\n",
       "    <tr>\n",
       "      <th>4</th>\n",
       "      <td>74</td>\n",
       "      <td>0.45</td>\n",
       "      <td>1.531476</td>\n",
       "    </tr>\n",
       "    <tr>\n",
       "      <th>5</th>\n",
       "      <td>75</td>\n",
       "      <td>0.55</td>\n",
       "      <td>1.609438</td>\n",
       "    </tr>\n",
       "    <tr>\n",
       "      <th>6</th>\n",
       "      <td>75</td>\n",
       "      <td>0.65</td>\n",
       "      <td>1.609438</td>\n",
       "    </tr>\n",
       "    <tr>\n",
       "      <th>7</th>\n",
       "      <td>76</td>\n",
       "      <td>0.75</td>\n",
       "      <td>1.691676</td>\n",
       "    </tr>\n",
       "    <tr>\n",
       "      <th>8</th>\n",
       "      <td>78</td>\n",
       "      <td>0.85</td>\n",
       "      <td>1.871802</td>\n",
       "    </tr>\n",
       "    <tr>\n",
       "      <th>9</th>\n",
       "      <td>79</td>\n",
       "      <td>0.95</td>\n",
       "      <td>1.971553</td>\n",
       "    </tr>\n",
       "  </tbody>\n",
       "</table>\n",
       "</div>"
      ],
      "text/plain": [
       "    x  probs         z\n",
       "0   6   0.05 -2.639057\n",
       "1  13   0.15 -1.778856\n",
       "2  40   0.25 -0.223144\n",
       "3  61   0.35  0.743578\n",
       "4  74   0.45  1.531476\n",
       "5  75   0.55  1.609438\n",
       "6  75   0.65  1.609438\n",
       "7  76   0.75  1.691676\n",
       "8  78   0.85  1.871802\n",
       "9  79   0.95  1.971553"
      ]
     },
     "execution_count": 387,
     "metadata": {},
     "output_type": "execute_result"
    }
   ],
   "source": [
    "dist.output_dict['dataValues']"
   ]
  },
  {
   "cell_type": "code",
   "execution_count": 388,
   "id": "3c101fdd",
   "metadata": {},
   "outputs": [
    {
     "data": {
      "text/html": [
       "<div>\n",
       "<style scoped>\n",
       "    .dataframe tbody tr th:only-of-type {\n",
       "        vertical-align: middle;\n",
       "    }\n",
       "\n",
       "    .dataframe tbody tr th {\n",
       "        vertical-align: top;\n",
       "    }\n",
       "\n",
       "    .dataframe thead th {\n",
       "        text-align: right;\n",
       "    }\n",
       "</style>\n",
       "<table border=\"1\" class=\"dataframe\">\n",
       "  <thead>\n",
       "    <tr style=\"text-align: right;\">\n",
       "      <th></th>\n",
       "      <th>a2</th>\n",
       "      <th>a3</th>\n",
       "    </tr>\n",
       "  </thead>\n",
       "  <tbody>\n",
       "    <tr>\n",
       "      <th>0</th>\n",
       "      <td>0.638790</td>\n",
       "      <td>1.271196</td>\n",
       "    </tr>\n",
       "    <tr>\n",
       "      <th>1</th>\n",
       "      <td>0.847675</td>\n",
       "      <td>0.847675</td>\n",
       "    </tr>\n",
       "    <tr>\n",
       "      <th>2</th>\n",
       "      <td>0.000000</td>\n",
       "      <td>-1.369050</td>\n",
       "    </tr>\n",
       "  </tbody>\n",
       "</table>\n",
       "</div>"
      ],
      "text/plain": [
       "         a2        a3\n",
       "0  0.638790  1.271196\n",
       "1  0.847675  0.847675\n",
       "2  0.000000 -1.369050"
      ]
     },
     "execution_count": 388,
     "metadata": {},
     "output_type": "execute_result"
    }
   ],
   "source": [
    "dist.output_dict['A']"
   ]
  },
  {
   "cell_type": "code",
   "execution_count": 389,
   "id": "1d107ff7",
   "metadata": {},
   "outputs": [
    {
     "name": "stdout",
     "output_type": "stream",
     "text": [
      " -----------------------------------------------\n",
      " Summary of Metalog Distribution Object\n",
      " -----------------------------------------------\n",
      " \n",
      "Parameters\n",
      " Term Limit:  3 \n",
      " Term Lower Bound:  2 \n",
      " Boundedness:  b \n",
      " Bounds (only used based on boundedness):  [0, 90] \n",
      " Step Length for Distribution Summary:  0.01 \n",
      " Method Use for Fitting:  any \n",
      " \n",
      "\n",
      " Validation and Fit Method Number of Data Points Used:  10 \n",
      "\n",
      " term valid method\n",
      "    2   yes    OLS\n",
      "    3   yes    OLS\n"
     ]
    }
   ],
   "source": [
    "mt.summary(dist)"
   ]
  },
  {
   "cell_type": "code",
   "execution_count": 390,
   "id": "106c0c93",
   "metadata": {},
   "outputs": [
    {
     "data": {
      "text/plain": [
       "{'pdf': <Figure size 1300x400 with 2 Axes>,\n",
       " 'cdf': <Figure size 1300x400 with 2 Axes>}"
      ]
     },
     "execution_count": 390,
     "metadata": {},
     "output_type": "execute_result"
    },
    {
     "data": {
      "image/png": "[encoded data removed]",
      "text/plain": [
       "<Figure size 1300x400 with 2 Axes>"
      ]
     },
     "metadata": {},
     "output_type": "display_data"
    },
    {
     "data": {
      "image/png": "[encoded data removed]",
      "text/plain": [
       "<Figure size 1300x400 with 2 Axes>"
      ]
     },
     "metadata": {},
     "output_type": "display_data"
    }
   ],
   "source": [
    "mt.plot(dist, figsize=(13,4))"
   ]
  },
  {
   "cell_type": "code",
   "execution_count": 95,
   "id": "99ab8e13",
   "metadata": {},
   "outputs": [
    {
     "data": {
      "text/html": [
       "<div>\n",
       "<style scoped>\n",
       "    .dataframe tbody tr th:only-of-type {\n",
       "        vertical-align: middle;\n",
       "    }\n",
       "\n",
       "    .dataframe tbody tr th {\n",
       "        vertical-align: top;\n",
       "    }\n",
       "\n",
       "    .dataframe thead th {\n",
       "        text-align: right;\n",
       "    }\n",
       "</style>\n",
       "<table border=\"1\" class=\"dataframe\">\n",
       "  <thead>\n",
       "    <tr style=\"text-align: right;\">\n",
       "      <th></th>\n",
       "      <th>a2</th>\n",
       "      <th>a3</th>\n",
       "    </tr>\n",
       "  </thead>\n",
       "  <tbody>\n",
       "    <tr>\n",
       "      <th>0</th>\n",
       "      <td>0.638790</td>\n",
       "      <td>1.271196</td>\n",
       "    </tr>\n",
       "    <tr>\n",
       "      <th>1</th>\n",
       "      <td>0.847675</td>\n",
       "      <td>0.847675</td>\n",
       "    </tr>\n",
       "    <tr>\n",
       "      <th>2</th>\n",
       "      <td>0.000000</td>\n",
       "      <td>-1.369050</td>\n",
       "    </tr>\n",
       "  </tbody>\n",
       "</table>\n",
       "</div>"
      ],
      "text/plain": [
       "         a2        a3\n",
       "0  0.638790  1.271196\n",
       "1  0.847675  0.847675\n",
       "2  0.000000 -1.369050"
      ]
     },
     "execution_count": 95,
     "metadata": {},
     "output_type": "execute_result"
    }
   ],
   "source": [
    "dist.output_dict[\"A\"]"
   ]
  },
  {
   "cell_type": "code",
   "execution_count": 96,
   "id": "5912f42e",
   "metadata": {},
   "outputs": [
    {
     "data": {
      "text/html": [
       "<div>\n",
       "<style scoped>\n",
       "    .dataframe tbody tr th:only-of-type {\n",
       "        vertical-align: middle;\n",
       "    }\n",
       "\n",
       "    .dataframe tbody tr th {\n",
       "        vertical-align: top;\n",
       "    }\n",
       "\n",
       "    .dataframe thead th {\n",
       "        text-align: right;\n",
       "    }\n",
       "</style>\n",
       "<table border=\"1\" class=\"dataframe\">\n",
       "  <thead>\n",
       "    <tr style=\"text-align: right;\">\n",
       "      <th></th>\n",
       "      <th>m3</th>\n",
       "      <th>M3</th>\n",
       "      <th>y</th>\n",
       "    </tr>\n",
       "  </thead>\n",
       "  <tbody>\n",
       "    <tr>\n",
       "      <th>0</th>\n",
       "      <td>0.000000</td>\n",
       "      <td>0.000000</td>\n",
       "      <td>0.000</td>\n",
       "    </tr>\n",
       "    <tr>\n",
       "      <th>1</th>\n",
       "      <td>0.078987</td>\n",
       "      <td>0.023964</td>\n",
       "      <td>0.001</td>\n",
       "    </tr>\n",
       "    <tr>\n",
       "      <th>2</th>\n",
       "      <td>0.053875</td>\n",
       "      <td>0.023964</td>\n",
       "      <td>0.002</td>\n",
       "    </tr>\n",
       "    <tr>\n",
       "      <th>3</th>\n",
       "      <td>0.042882</td>\n",
       "      <td>0.044968</td>\n",
       "      <td>0.003</td>\n",
       "    </tr>\n",
       "    <tr>\n",
       "      <th>4</th>\n",
       "      <td>0.036373</td>\n",
       "      <td>0.070411</td>\n",
       "      <td>0.004</td>\n",
       "    </tr>\n",
       "    <tr>\n",
       "      <th>5</th>\n",
       "      <td>0.031951</td>\n",
       "      <td>0.099832</td>\n",
       "      <td>0.005</td>\n",
       "    </tr>\n",
       "    <tr>\n",
       "      <th>6</th>\n",
       "      <td>0.028700</td>\n",
       "      <td>0.132921</td>\n",
       "      <td>0.006</td>\n",
       "    </tr>\n",
       "    <tr>\n",
       "      <th>7</th>\n",
       "      <td>0.026180</td>\n",
       "      <td>0.169455</td>\n",
       "      <td>0.007</td>\n",
       "    </tr>\n",
       "    <tr>\n",
       "      <th>8</th>\n",
       "      <td>0.024156</td>\n",
       "      <td>0.209263</td>\n",
       "      <td>0.008</td>\n",
       "    </tr>\n",
       "    <tr>\n",
       "      <th>9</th>\n",
       "      <td>0.022483</td>\n",
       "      <td>0.252210</td>\n",
       "      <td>0.009</td>\n",
       "    </tr>\n",
       "  </tbody>\n",
       "</table>\n",
       "</div>"
      ],
      "text/plain": [
       "         m3        M3      y\n",
       "0  0.000000  0.000000  0.000\n",
       "1  0.078987  0.023964  0.001\n",
       "2  0.053875  0.023964  0.002\n",
       "3  0.042882  0.044968  0.003\n",
       "4  0.036373  0.070411  0.004\n",
       "5  0.031951  0.099832  0.005\n",
       "6  0.028700  0.132921  0.006\n",
       "7  0.026180  0.169455  0.007\n",
       "8  0.024156  0.209263  0.008\n",
       "9  0.022483  0.252210  0.009"
      ]
     },
     "execution_count": 96,
     "metadata": {},
     "output_type": "execute_result"
    }
   ],
   "source": [
    "dist.output_dict[\"M\"][[\"m3\",\"M3\",'y']][:10]"
   ]
  },
  {
   "cell_type": "code",
   "execution_count": 97,
   "id": "58367a6b",
   "metadata": {},
   "outputs": [
    {
     "data": {
      "text/plain": [
       "0.02248339673580346"
      ]
     },
     "execution_count": 97,
     "metadata": {},
     "output_type": "execute_result"
    }
   ],
   "source": [
    "mt.support.pdfMetalog(\n",
    "    a=dist.output_dict[\"A\"][\"a3\"].values,\n",
    "    y=0.009,\n",
    "    t=3,\n",
    "    bounds=[0,90],\n",
    "    boundedness=\"b\"\n",
    ")"
   ]
  },
  {
   "cell_type": "code",
   "execution_count": 98,
   "id": "a58beb7c",
   "metadata": {},
   "outputs": [
    {
     "data": {
      "text/plain": [
       "0.25221014972676686"
      ]
     },
     "execution_count": 98,
     "metadata": {},
     "output_type": "execute_result"
    }
   ],
   "source": [
    "mt.support.quantileMetalog(\n",
    "    a=dist.output_dict[\"A\"][\"a3\"].values,\n",
    "    y=0.009,\n",
    "    t=3,\n",
    "    bounds=[0,90],\n",
    "    boundedness=\"b\"\n",
    ")"
   ]
  },
  {
   "cell_type": "markdown",
   "id": "b1931229",
   "metadata": {},
   "source": [
    "### PyMC Sampling"
   ]
  },
  {
   "cell_type": "code",
   "execution_count": 99,
   "id": "e9853b7d",
   "metadata": {},
   "outputs": [],
   "source": [
    "from scipy.optimize import root_scalar"
   ]
  },
  {
   "cell_type": "code",
   "execution_count": 100,
   "id": "66d577ef",
   "metadata": {},
   "outputs": [],
   "source": [
    "def logpMetalog_pt(y, a, t, bounds, boundedness=\"b\"):\n",
    "    pdf_val = mt.support.pdfMetalog_pt(a, y, t, bounds, boundedness)\n",
    "    return pt.log(pdf_val)"
   ]
  },
  {
   "cell_type": "code",
   "execution_count": 101,
   "id": "a4813a38",
   "metadata": {},
   "outputs": [],
   "source": [
    "def inverse_quantile_metalog(x, a, t, bounds, boundedness=\"b\"):\n",
    "    def objective(y):\n",
    "        return mt.support.quantileMetalog(a, y, t, bounds, boundedness) - x\n",
    "    result = root_scalar(objective, bracket=[1e-6, 1 - 1e-6], method=\"brentq\")\n",
    "    return result.root if result.converged else None"
   ]
  },
  {
   "cell_type": "code",
   "execution_count": 102,
   "id": "e0d2aaa1",
   "metadata": {},
   "outputs": [],
   "source": [
    "user3_df = pd.read_csv(\"./data/warp_data_user3_whale.csv\", skiprows=1)\n",
    "pull_data = user3_df[user3_df.rarity == 5][[\"pity_counter\"]]"
   ]
  },
  {
   "cell_type": "code",
   "execution_count": 43,
   "id": "08b88e7e",
   "metadata": {},
   "outputs": [
    {
     "data": {
      "text/html": [
       "<div>\n",
       "<style scoped>\n",
       "    .dataframe tbody tr th:only-of-type {\n",
       "        vertical-align: middle;\n",
       "    }\n",
       "\n",
       "    .dataframe tbody tr th {\n",
       "        vertical-align: top;\n",
       "    }\n",
       "\n",
       "    .dataframe thead th {\n",
       "        text-align: right;\n",
       "    }\n",
       "</style>\n",
       "<table border=\"1\" class=\"dataframe\">\n",
       "  <thead>\n",
       "    <tr style=\"text-align: right;\">\n",
       "      <th></th>\n",
       "      <th>a2</th>\n",
       "      <th>a3</th>\n",
       "    </tr>\n",
       "  </thead>\n",
       "  <tbody>\n",
       "    <tr>\n",
       "      <th>0</th>\n",
       "      <td>0.638790</td>\n",
       "      <td>1.271196</td>\n",
       "    </tr>\n",
       "    <tr>\n",
       "      <th>1</th>\n",
       "      <td>0.847675</td>\n",
       "      <td>0.847675</td>\n",
       "    </tr>\n",
       "    <tr>\n",
       "      <th>2</th>\n",
       "      <td>0.000000</td>\n",
       "      <td>-1.369050</td>\n",
       "    </tr>\n",
       "  </tbody>\n",
       "</table>\n",
       "</div>"
      ],
      "text/plain": [
       "         a2        a3\n",
       "0  0.638790  1.271196\n",
       "1  0.847675  0.847675\n",
       "2  0.000000 -1.369050"
      ]
     },
     "execution_count": 43,
     "metadata": {},
     "output_type": "execute_result"
    }
   ],
   "source": [
    "dist.output_dict[\"A\"]"
   ]
  },
  {
   "cell_type": "code",
   "execution_count": 114,
   "id": "939e25b9",
   "metadata": {},
   "outputs": [
    {
     "data": {
      "text/plain": [
       "array([13, 40, 75,  6, 76, 78, 61, 74, 75, 79])"
      ]
     },
     "execution_count": 114,
     "metadata": {},
     "output_type": "execute_result"
    }
   ],
   "source": [
    "pull_data.pity_counter.values"
   ]
  },
  {
   "cell_type": "code",
   "execution_count": 106,
   "id": "198b168e",
   "metadata": {},
   "outputs": [],
   "source": [
    "user3_df[\"is_win\"] = user3_df[\"rarity\"] == 5"
   ]
  },
  {
   "cell_type": "code",
   "execution_count": 107,
   "id": "f89436fb",
   "metadata": {},
   "outputs": [],
   "source": [
    "user3_df[\"is_win\"] = user3_df[\"is_win\"].astype(int)"
   ]
  },
  {
   "cell_type": "code",
   "execution_count": 170,
   "id": "ba2595e0",
   "metadata": {},
   "outputs": [
    {
     "name": "stderr",
     "output_type": "stream",
     "text": [
      "Initializing NUTS using jitter+adapt_diag...\n",
      "Multiprocess sampling (4 chains in 4 jobs)\n",
      "NUTS: [theta]\n"
     ]
    },
    {
     "data": {
      "application/vnd.jupyter.widget-view+json": {
       "model_id": "ad0a076a846645e98e933b19717f1ca4",
       "version_major": 2,
       "version_minor": 0
      },
      "text/plain": [
       "Output()"
      ]
     },
     "metadata": {},
     "output_type": "display_data"
    },
    {
     "data": {
      "text/html": [
       "<pre style=\"white-space:pre;overflow-x:auto;line-height:normal;font-family:Menlo,'DejaVu Sans Mono',consolas,'Courier New',monospace\"></pre>\n"
      ],
      "text/plain": []
     },
     "metadata": {},
     "output_type": "display_data"
    },
    {
     "name": "stderr",
     "output_type": "stream",
     "text": [
      "Sampling 4 chains for 1_000 tune and 10_000 draw iterations (4_000 + 40_000 draws total) took 2 seconds.\n"
     ]
    }
   ],
   "source": [
    "with pm.Model() as model:\n",
    "    lower_bound = 0\n",
    "    upper_bound = 90\n",
    "    \n",
    "    a_vals = dist.output_dict[\"A\"][\"a3\"].values\n",
    "    t = 3\n",
    "    bounds = [lower_bound, upper_bound]\n",
    "    \n",
    "    def metalog_logp(theta):\n",
    "        return logpMetalog_pt(theta, a_vals, t, bounds, boundedness=\"b\")\n",
    "\n",
    "    θ = pm.DensityDist(\"theta\", logp=metalog_logp)\n",
    "    p = pm.Deterministic(\"p\", pm.math.exp(θ))\n",
    "\n",
    "    # Likelihood: Bernoulli per-pull\n",
    "    y = pm.Bernoulli(\"y\", p=p, observed=user3_df[\"is_win\"].values)\n",
    "\n",
    "    # Posterior sampling\n",
    "    trace = pm.sample(10000, tune=1000, return_inferencedata=True,)"
   ]
  },
  {
   "cell_type": "code",
   "execution_count": 171,
   "id": "3741dd26",
   "metadata": {},
   "outputs": [
    {
     "data": {
      "text/html": [
       "<div>\n",
       "<style scoped>\n",
       "    .dataframe tbody tr th:only-of-type {\n",
       "        vertical-align: middle;\n",
       "    }\n",
       "\n",
       "    .dataframe tbody tr th {\n",
       "        vertical-align: top;\n",
       "    }\n",
       "\n",
       "    .dataframe thead th {\n",
       "        text-align: right;\n",
       "    }\n",
       "</style>\n",
       "<table border=\"1\" class=\"dataframe\">\n",
       "  <thead>\n",
       "    <tr style=\"text-align: right;\">\n",
       "      <th></th>\n",
       "      <th>mean</th>\n",
       "      <th>sd</th>\n",
       "      <th>hdi_3%</th>\n",
       "      <th>hdi_97%</th>\n",
       "      <th>mcse_mean</th>\n",
       "      <th>mcse_sd</th>\n",
       "      <th>ess_bulk</th>\n",
       "      <th>ess_tail</th>\n",
       "      <th>r_hat</th>\n",
       "    </tr>\n",
       "  </thead>\n",
       "  <tbody>\n",
       "    <tr>\n",
       "      <th>theta</th>\n",
       "      <td>-4.112</td>\n",
       "      <td>0.321</td>\n",
       "      <td>-4.723</td>\n",
       "      <td>-3.522</td>\n",
       "      <td>0.003</td>\n",
       "      <td>0.002</td>\n",
       "      <td>16338.0</td>\n",
       "      <td>23061.0</td>\n",
       "      <td>1.0</td>\n",
       "    </tr>\n",
       "    <tr>\n",
       "      <th>p</th>\n",
       "      <td>0.017</td>\n",
       "      <td>0.005</td>\n",
       "      <td>0.008</td>\n",
       "      <td>0.027</td>\n",
       "      <td>0.000</td>\n",
       "      <td>0.000</td>\n",
       "      <td>16338.0</td>\n",
       "      <td>23061.0</td>\n",
       "      <td>1.0</td>\n",
       "    </tr>\n",
       "  </tbody>\n",
       "</table>\n",
       "</div>"
      ],
      "text/plain": [
       "        mean     sd  hdi_3%  hdi_97%  mcse_mean  mcse_sd  ess_bulk  ess_tail  \\\n",
       "theta -4.112  0.321  -4.723   -3.522      0.003    0.002   16338.0   23061.0   \n",
       "p      0.017  0.005   0.008    0.027      0.000    0.000   16338.0   23061.0   \n",
       "\n",
       "       r_hat  \n",
       "theta    1.0  \n",
       "p        1.0  "
      ]
     },
     "execution_count": 171,
     "metadata": {},
     "output_type": "execute_result"
    }
   ],
   "source": [
    "az.summary(trace)"
   ]
  },
  {
   "cell_type": "code",
   "execution_count": 172,
   "id": "ea614f0b",
   "metadata": {},
   "outputs": [
    {
     "data": {
      "text/plain": [
       "<Axes: title={'center': 'p'}>"
      ]
     },
     "execution_count": 172,
     "metadata": {},
     "output_type": "execute_result"
    },
    {
     "data": {
      "image/png": "[encoded data removed]",
      "text/plain": [
       "<Figure size 640x480 with 1 Axes>"
      ]
     },
     "metadata": {},
     "output_type": "display_data"
    }
   ],
   "source": [
    "az.plot_posterior(trace, var_names=[\"p\"])"
   ]
  },
  {
   "cell_type": "code",
   "execution_count": null,
   "id": "22a9886e",
   "metadata": {},
   "outputs": [
    {
     "name": "stderr",
     "output_type": "stream",
     "text": [
      "Initializing NUTS using jitter+adapt_diag...\n",
      "Multiprocess sampling (4 chains in 4 jobs)\n",
      "NUTS: [theta]\n"
     ]
    },
    {
     "data": {
      "application/vnd.jupyter.widget-view+json": {
       "model_id": "6d967e64c1024ebf802752c3e96035f9",
       "version_major": 2,
       "version_minor": 0
      },
      "text/plain": [
       "Output()"
      ]
     },
     "metadata": {},
     "output_type": "display_data"
    },
    {
     "data": {
      "text/html": [
       "<pre style=\"white-space:pre;overflow-x:auto;line-height:normal;font-family:Menlo,'DejaVu Sans Mono',consolas,'Courier New',monospace\"></pre>\n"
      ],
      "text/plain": []
     },
     "metadata": {},
     "output_type": "display_data"
    },
    {
     "name": "stderr",
     "output_type": "stream",
     "text": [
      "Sampling 4 chains for 1_000 tune and 1_000 draw iterations (4_000 + 4_000 draws total) took 1 seconds.\n"
     ]
    }
   ],
   "source": [
    "user3_df = pd.read_csv(\"./data/warp_data_user3_whale.csv\", skiprows=1)\n",
    "pull_data = user3_df[user3_df.rarity == 5][[\"pity_counter\"]]\n",
    "\n",
    "with pm.Model() as model:\n",
    "    lower_bound = 0\n",
    "    upper_bound = 90\n",
    "    \n",
    "    a_vals = dist.output_dict[\"A\"][\"a3\"].values\n",
    "    t = 3\n",
    "    bounds = [lower_bound, upper_bound]\n",
    "    \n",
    "    def metalog_logp(theta):\n",
    "        return logpMetalog_pt(theta, a_vals, t, bounds, boundedness=\"b\")\n",
    "\n",
    "    θ = pm.DensityDist(\"theta\", logp=metalog_logp)\n",
    "    p = pm.Deterministic(\"p\", pm.math.sigmoid(θ))\n",
    "    mu = pm.Deterministic(\"mu\", 1 / p)\n",
    "\n",
    "    y_base = pm.Geometric.dist(p=p)\n",
    "    y = pm.Truncated(\"y\", y_base, lower=1, upper=90, observed=user3_df[\"pity_counter\"].values)\n",
    "\n",
    "    # Posterior sampling\n",
    "    trace = pm.sample(1000, tune=1000, return_inferencedata=True)"
   ]
  },
  {
   "cell_type": "code",
   "execution_count": 246,
   "id": "00bb88f4",
   "metadata": {},
   "outputs": [
    {
     "data": {
      "text/html": [
       "<div>\n",
       "<style scoped>\n",
       "    .dataframe tbody tr th:only-of-type {\n",
       "        vertical-align: middle;\n",
       "    }\n",
       "\n",
       "    .dataframe tbody tr th {\n",
       "        vertical-align: top;\n",
       "    }\n",
       "\n",
       "    .dataframe thead th {\n",
       "        text-align: right;\n",
       "    }\n",
       "</style>\n",
       "<table border=\"1\" class=\"dataframe\">\n",
       "  <thead>\n",
       "    <tr style=\"text-align: right;\">\n",
       "      <th></th>\n",
       "      <th>mean</th>\n",
       "      <th>sd</th>\n",
       "      <th>hdi_3%</th>\n",
       "      <th>hdi_97%</th>\n",
       "      <th>mcse_mean</th>\n",
       "      <th>mcse_sd</th>\n",
       "      <th>ess_bulk</th>\n",
       "      <th>ess_tail</th>\n",
       "      <th>r_hat</th>\n",
       "    </tr>\n",
       "  </thead>\n",
       "  <tbody>\n",
       "    <tr>\n",
       "      <th>theta</th>\n",
       "      <td>-4.168</td>\n",
       "      <td>0.109</td>\n",
       "      <td>-4.369</td>\n",
       "      <td>-3.962</td>\n",
       "      <td>0.002</td>\n",
       "      <td>0.002</td>\n",
       "      <td>1962.0</td>\n",
       "      <td>2239.0</td>\n",
       "      <td>1.0</td>\n",
       "    </tr>\n",
       "    <tr>\n",
       "      <th>p</th>\n",
       "      <td>0.015</td>\n",
       "      <td>0.002</td>\n",
       "      <td>0.012</td>\n",
       "      <td>0.018</td>\n",
       "      <td>0.000</td>\n",
       "      <td>0.000</td>\n",
       "      <td>1962.0</td>\n",
       "      <td>2239.0</td>\n",
       "      <td>1.0</td>\n",
       "    </tr>\n",
       "    <tr>\n",
       "      <th>mu</th>\n",
       "      <td>65.991</td>\n",
       "      <td>7.262</td>\n",
       "      <td>53.578</td>\n",
       "      <td>79.980</td>\n",
       "      <td>0.168</td>\n",
       "      <td>0.120</td>\n",
       "      <td>1962.0</td>\n",
       "      <td>2239.0</td>\n",
       "      <td>1.0</td>\n",
       "    </tr>\n",
       "  </tbody>\n",
       "</table>\n",
       "</div>"
      ],
      "text/plain": [
       "         mean     sd  hdi_3%  hdi_97%  mcse_mean  mcse_sd  ess_bulk  ess_tail  \\\n",
       "theta  -4.168  0.109  -4.369   -3.962      0.002    0.002    1962.0    2239.0   \n",
       "p       0.015  0.002   0.012    0.018      0.000    0.000    1962.0    2239.0   \n",
       "mu     65.991  7.262  53.578   79.980      0.168    0.120    1962.0    2239.0   \n",
       "\n",
       "       r_hat  \n",
       "theta    1.0  \n",
       "p        1.0  \n",
       "mu       1.0  "
      ]
     },
     "execution_count": 246,
     "metadata": {},
     "output_type": "execute_result"
    }
   ],
   "source": [
    "az.summary(trace)"
   ]
  },
  {
   "cell_type": "code",
   "execution_count": 251,
   "id": "2ec6ab84",
   "metadata": {},
   "outputs": [
    {
     "name": "stderr",
     "output_type": "stream",
     "text": [
      "Initializing NUTS using jitter+adapt_diag...\n",
      "Sequential sampling (2 chains in 1 job)\n",
      "NUTS: [tau, theta]\n"
     ]
    },
    {
     "data": {
      "application/vnd.jupyter.widget-view+json": {
       "model_id": "bbfef45e518842aca707f49a1d18fd7c",
       "version_major": 2,
       "version_minor": 0
      },
      "text/plain": [
       "Output()"
      ]
     },
     "metadata": {},
     "output_type": "display_data"
    },
    {
     "data": {
      "text/html": [
       "<pre style=\"white-space:pre;overflow-x:auto;line-height:normal;font-family:Menlo,'DejaVu Sans Mono',consolas,'Courier New',monospace\"></pre>\n"
      ],
      "text/plain": []
     },
     "metadata": {},
     "output_type": "display_data"
    },
    {
     "name": "stderr",
     "output_type": "stream",
     "text": [
      "Sampling 2 chains for 1_000 tune and 1_000 draw iterations (2_000 + 2_000 draws total) took 2 seconds.\n",
      "We recommend running at least 4 chains for robust computation of convergence diagnostics\n"
     ]
    }
   ],
   "source": [
    "# student-t\n",
    "\n",
    "with pm.Model() as m_student:\n",
    "    nu = 1\n",
    "    lower_bound = 0\n",
    "    upper_bound = 90\n",
    "    \n",
    "    a_vals = dist.output_dict[\"A\"][\"a3\"].values\n",
    "    t = 3\n",
    "    bounds = [lower_bound, upper_bound]\n",
    "    \n",
    "    def metalog_logp(theta):\n",
    "        return logpMetalog_pt(theta, a_vals, t, bounds, boundedness=\"b\")\n",
    "\n",
    "    # sigma = pm.HalfNormal(\"sigma\", sigma=20)\n",
    "    tau = pm.Gamma(\"tau\", alpha=0.001, beta=0.001)\n",
    "    sigma = pm.Deterministic(\"sigma\", 1 / pm.math.sqrt(tau))\n",
    "\n",
    "    θ = pm.DensityDist(\"theta\", logp=metalog_logp)\n",
    "    p = pm.Deterministic(\"p\", pm.math.sigmoid(θ))\n",
    "    mu = pm.Deterministic(\"mu\", 1 / -np.log(1 - p))\n",
    "\n",
    "    # likelihood\n",
    "    y = pm.StudentT(\"y\", mu=mu, sigma=sigma, nu=nu, observed=pull_data)\n",
    "\n",
    "    # sample\n",
    "    trace_student = pm.sample(1000, tune=1000, cores=1, return_inferencedata=True, idata_kwargs={\"log_likelihood\": True})"
   ]
  },
  {
   "cell_type": "code",
   "execution_count": 252,
   "id": "b4521df6",
   "metadata": {},
   "outputs": [
    {
     "data": {
      "text/html": [
       "<div>\n",
       "<style scoped>\n",
       "    .dataframe tbody tr th:only-of-type {\n",
       "        vertical-align: middle;\n",
       "    }\n",
       "\n",
       "    .dataframe tbody tr th {\n",
       "        vertical-align: top;\n",
       "    }\n",
       "\n",
       "    .dataframe thead th {\n",
       "        text-align: right;\n",
       "    }\n",
       "</style>\n",
       "<table border=\"1\" class=\"dataframe\">\n",
       "  <thead>\n",
       "    <tr style=\"text-align: right;\">\n",
       "      <th></th>\n",
       "      <th>mean</th>\n",
       "      <th>sd</th>\n",
       "      <th>hdi_3%</th>\n",
       "      <th>hdi_97%</th>\n",
       "      <th>mcse_mean</th>\n",
       "      <th>mcse_sd</th>\n",
       "      <th>ess_bulk</th>\n",
       "      <th>ess_tail</th>\n",
       "      <th>r_hat</th>\n",
       "    </tr>\n",
       "  </thead>\n",
       "  <tbody>\n",
       "    <tr>\n",
       "      <th>theta</th>\n",
       "      <td>-4.294</td>\n",
       "      <td>0.075</td>\n",
       "      <td>-4.388</td>\n",
       "      <td>-4.172</td>\n",
       "      <td>0.006</td>\n",
       "      <td>0.004</td>\n",
       "      <td>326.0</td>\n",
       "      <td>167.0</td>\n",
       "      <td>1.01</td>\n",
       "    </tr>\n",
       "    <tr>\n",
       "      <th>tau</th>\n",
       "      <td>0.083</td>\n",
       "      <td>0.132</td>\n",
       "      <td>0.001</td>\n",
       "      <td>0.302</td>\n",
       "      <td>0.007</td>\n",
       "      <td>0.005</td>\n",
       "      <td>286.0</td>\n",
       "      <td>349.0</td>\n",
       "      <td>1.01</td>\n",
       "    </tr>\n",
       "    <tr>\n",
       "      <th>sigma</th>\n",
       "      <td>6.976</td>\n",
       "      <td>5.690</td>\n",
       "      <td>1.183</td>\n",
       "      <td>17.488</td>\n",
       "      <td>0.359</td>\n",
       "      <td>0.254</td>\n",
       "      <td>286.0</td>\n",
       "      <td>349.0</td>\n",
       "      <td>1.01</td>\n",
       "    </tr>\n",
       "    <tr>\n",
       "      <th>p</th>\n",
       "      <td>0.014</td>\n",
       "      <td>0.001</td>\n",
       "      <td>0.012</td>\n",
       "      <td>0.015</td>\n",
       "      <td>0.000</td>\n",
       "      <td>0.000</td>\n",
       "      <td>326.0</td>\n",
       "      <td>167.0</td>\n",
       "      <td>1.01</td>\n",
       "    </tr>\n",
       "    <tr>\n",
       "      <th>mu</th>\n",
       "      <td>73.926</td>\n",
       "      <td>4.888</td>\n",
       "      <td>65.355</td>\n",
       "      <td>81.013</td>\n",
       "      <td>0.393</td>\n",
       "      <td>0.278</td>\n",
       "      <td>326.0</td>\n",
       "      <td>167.0</td>\n",
       "      <td>1.01</td>\n",
       "    </tr>\n",
       "  </tbody>\n",
       "</table>\n",
       "</div>"
      ],
      "text/plain": [
       "         mean     sd  hdi_3%  hdi_97%  mcse_mean  mcse_sd  ess_bulk  ess_tail  \\\n",
       "theta  -4.294  0.075  -4.388   -4.172      0.006    0.004     326.0     167.0   \n",
       "tau     0.083  0.132   0.001    0.302      0.007    0.005     286.0     349.0   \n",
       "sigma   6.976  5.690   1.183   17.488      0.359    0.254     286.0     349.0   \n",
       "p       0.014  0.001   0.012    0.015      0.000    0.000     326.0     167.0   \n",
       "mu     73.926  4.888  65.355   81.013      0.393    0.278     326.0     167.0   \n",
       "\n",
       "       r_hat  \n",
       "theta   1.01  \n",
       "tau     1.01  \n",
       "sigma   1.01  \n",
       "p       1.01  \n",
       "mu      1.01  "
      ]
     },
     "execution_count": 252,
     "metadata": {},
     "output_type": "execute_result"
    }
   ],
   "source": [
    "az.summary(trace_student)"
   ]
  },
  {
   "cell_type": "code",
   "execution_count": 253,
   "id": "88297144",
   "metadata": {},
   "outputs": [
    {
     "name": "stderr",
     "output_type": "stream",
     "text": [
      "Sampling: [y]\n"
     ]
    },
    {
     "data": {
      "application/vnd.jupyter.widget-view+json": {
       "model_id": "634b38a856274bbb8bc5b3b17b84e091",
       "version_major": 2,
       "version_minor": 0
      },
      "text/plain": [
       "Output()"
      ]
     },
     "metadata": {},
     "output_type": "display_data"
    },
    {
     "data": {
      "text/html": [
       "<pre style=\"white-space:pre;overflow-x:auto;line-height:normal;font-family:Menlo,'DejaVu Sans Mono',consolas,'Courier New',monospace\"></pre>\n"
      ],
      "text/plain": []
     },
     "metadata": {},
     "output_type": "display_data"
    }
   ],
   "source": [
    "with m_student:\n",
    "    ppc_student = pm.sample_posterior_predictive(trace_student, var_names=[\"y\"])"
   ]
  },
  {
   "cell_type": "code",
   "execution_count": 254,
   "id": "58ab847f",
   "metadata": {},
   "outputs": [
    {
     "name": "stdout",
     "output_type": "stream",
     "text": [
      "Posterior predictive mean (direct): 78.58291874915864\n"
     ]
    }
   ],
   "source": [
    "y_ppc = ppc_student.posterior_predictive[\"y\"].values.flatten()\n",
    "print(\"Posterior predictive mean (direct):\", y_ppc.mean())"
   ]
  },
  {
   "cell_type": "code",
   "execution_count": null,
   "id": "12a4bc7f",
   "metadata": {},
   "outputs": [],
   "source": []
  },
  {
   "cell_type": "markdown",
   "id": "a84e455f",
   "metadata": {},
   "source": [
    "### Using user1 and user2 data to improve prediction"
   ]
  },
  {
   "cell_type": "code",
   "execution_count": 483,
   "id": "01574a47",
   "metadata": {},
   "outputs": [],
   "source": [
    "user1_df = pd.read_csv(\"./data/warp_data_user1.csv\")\n",
    "user2_df = pd.read_csv(\"./data/warp_data_user2.csv\")\n",
    "user3_df = pd.read_csv(\"./data/warp_data_user3_whale.csv\", skiprows=1)"
   ]
  },
  {
   "cell_type": "code",
   "execution_count": 484,
   "id": "fb0c106d",
   "metadata": {},
   "outputs": [],
   "source": [
    "user1_df = user1_df[user1_df[\"type\"] == 11]\n",
    "user1_df = user1_df.reset_index().drop(columns=[\"index\"])\n",
    "user2_df = user2_df[user2_df[\"type\"] == 11]\n",
    "user2_df = user2_df.reset_index().drop(columns=[\"index\"])"
   ]
  },
  {
   "cell_type": "code",
   "execution_count": 485,
   "id": "af6de85f",
   "metadata": {},
   "outputs": [],
   "source": [
    "curr_pity = 0\n",
    "for i in range(len(user1_df)):\n",
    "    curr_pity += 1\n",
    "    user1_df.loc[i, \"pity_counter\"] = curr_pity\n",
    "\n",
    "    if user1_df.loc[i, \"rarity\"] == 5:\n",
    "        curr_pity = 0"
   ]
  },
  {
   "cell_type": "code",
   "execution_count": 486,
   "id": "1954cd24",
   "metadata": {},
   "outputs": [],
   "source": [
    "curr_pity = 0\n",
    "for i in range(len(user2_df)):\n",
    "    curr_pity += 1\n",
    "    user2_df.loc[i, \"pity_counter\"] = curr_pity\n",
    "\n",
    "    if user2_df.loc[i, \"rarity\"] == 5:\n",
    "        curr_pity = 0"
   ]
  },
  {
   "cell_type": "code",
   "execution_count": 487,
   "id": "ab3f4ba4",
   "metadata": {},
   "outputs": [],
   "source": [
    "user1_df[\"user\"] = \"user1\"\n",
    "user2_df[\"user\"] = \"user2\"\n",
    "user3_df[\"user\"] = \"user3\""
   ]
  },
  {
   "cell_type": "code",
   "execution_count": 488,
   "id": "baf54b18",
   "metadata": {},
   "outputs": [],
   "source": [
    "user1_df = user1_df[[\"pity_counter\", \"user\", \"rarity\"]]\n",
    "user1_df = user1_df[user1_df[\"rarity\"] == 5]\n",
    "user2_df = user2_df[[\"pity_counter\", \"user\", \"rarity\"]]\n",
    "user2_df = user2_df[user2_df[\"rarity\"] == 5]\n",
    "user3_df = user3_df[[\"pity_counter\", \"user\", \"rarity\"]]\n",
    "user3_df = user3_df[user3_df[\"rarity\"] == 5]\n"
   ]
  },
  {
   "cell_type": "code",
   "execution_count": 489,
   "id": "af98d7a9",
   "metadata": {},
   "outputs": [],
   "source": [
    "all_data = pd.concat([user1_df, user2_df, user3_df], ignore_index=True)\n",
    "user_idx, user_labels = pd.factorize(all_data[\"user\"])\n",
    "pull_data = all_data[\"pity_counter\"].values"
   ]
  },
  {
   "cell_type": "code",
   "execution_count": 490,
   "id": "18309d6c",
   "metadata": {},
   "outputs": [
    {
     "name": "stderr",
     "output_type": "stream",
     "text": [
      "Initializing NUTS using jitter+adapt_diag...\n",
      "Multiprocess sampling (4 chains in 4 jobs)\n",
      "NUTS: [tau, theta_user]\n"
     ]
    },
    {
     "data": {
      "application/vnd.jupyter.widget-view+json": {
       "model_id": "5ed154b44038408fbd52dbadd5fabf44",
       "version_major": 2,
       "version_minor": 0
      },
      "text/plain": [
       "Output()"
      ]
     },
     "metadata": {},
     "output_type": "display_data"
    },
    {
     "data": {
      "text/html": [
       "<pre style=\"white-space:pre;overflow-x:auto;line-height:normal;font-family:Menlo,'DejaVu Sans Mono',consolas,'Courier New',monospace\"></pre>\n"
      ],
      "text/plain": []
     },
     "metadata": {},
     "output_type": "display_data"
    },
    {
     "name": "stderr",
     "output_type": "stream",
     "text": [
      "Sampling 4 chains for 1_000 tune and 1_000 draw iterations (4_000 + 4_000 draws total) took 1 seconds.\n"
     ]
    }
   ],
   "source": [
    "with pm.Model() as m_hier_student:\n",
    "    nu = 1\n",
    "    lower_bound = 0\n",
    "    upper_bound = 90\n",
    "\n",
    "    # Metalog prior\n",
    "    a_vals = dist.output_dict[\"A\"][\"a3\"].values\n",
    "    t = 3\n",
    "    bounds = [lower_bound, upper_bound]\n",
    "\n",
    "    def metalog_logp(theta):\n",
    "        return logpMetalog_pt(theta, a_vals, t, bounds, boundedness=\"b\")\n",
    "\n",
    "    # Hyperpriors\n",
    "    tau = pm.Gamma(\"tau\", alpha=0.001, beta=0.001)\n",
    "    sigma = pm.Deterministic(\"sigma\", 1 / pm.math.sqrt(tau))\n",
    "\n",
    "    # User-specific θs from Metalog prior\n",
    "    θ_user = pm.DensityDist(\"theta_user\", logp=metalog_logp, shape=len(user_labels))\n",
    "\n",
    "    # Map θ_user to each user's pull\n",
    "    θ_obs = θ_user[user_idx]\n",
    "    p = pm.Deterministic(\"p\", pm.math.sigmoid(θ_obs))\n",
    "    mu = pm.Deterministic(\"mu\", 1 / -pm.math.log(1 - p))\n",
    "\n",
    "    # Likelihood\n",
    "    y = pm.StudentT(\"y\", mu=mu, sigma=sigma, nu=nu, observed=pull_data)\n",
    "\n",
    "    trace = pm.sample(1000, tune=1000, return_inferencedata=True, idata_kwargs={\"log_likelihood\": True})\n"
   ]
  },
  {
   "cell_type": "code",
   "execution_count": 492,
   "id": "a9be8bcd",
   "metadata": {},
   "outputs": [],
   "source": [
    "mu_samples = trace.posterior[\"mu\"]\n",
    "user1_mu = mu_samples[..., all_data[\"user\"] == \"user1\"]\n",
    "user2_mu = mu_samples[..., all_data[\"user\"] == \"user2\"]\n",
    "user3_mu = mu_samples[..., all_data[\"user\"] == \"user3\"]\n",
    "\n",
    "p_samples = trace.posterior[\"p\"]\n",
    "user1_p = p_samples[..., all_data[\"user\"] == \"user1\"]\n",
    "user2_p = p_samples[..., all_data[\"user\"] == \"user2\"]\n",
    "user3_p = p_samples[..., all_data[\"user\"] == \"user3\"]"
   ]
  },
  {
   "cell_type": "code",
   "execution_count": 493,
   "id": "acc4d35c",
   "metadata": {},
   "outputs": [],
   "source": [
    "def calc_hdi(samples: np.ndarray, alpha: float = 0.05) -> tuple:\n",
    "    \"\"\"\n",
    "    Calculate minimum-width credible interval (HPD credible set)\n",
    "\n",
    "    samples: samples from posterior\n",
    "    alpha: credibility of the interval == 1 - alpha\n",
    "\n",
    "    returns tuple of the lower and upper bounds of the interval\n",
    "    \"\"\"\n",
    "    n = len(samples)\n",
    "    x = np.sort(samples)\n",
    "\n",
    "    lower_idx = int(np.floor(alpha * n))\n",
    "    x_left = x[:lower_idx]\n",
    "    x_right = x[n - lower_idx :]\n",
    "\n",
    "    idx = np.argmin(x_right - x_left)\n",
    "\n",
    "    upper_bound = x_right[idx]\n",
    "    lower_bound = x_left[idx]\n",
    "\n",
    "    return lower_bound, upper_bound"
   ]
  },
  {
   "cell_type": "code",
   "execution_count": 494,
   "id": "864c9954",
   "metadata": {},
   "outputs": [
    {
     "name": "stdout",
     "output_type": "stream",
     "text": [
      "Mean pull number of user1: 70.07\n",
      "95% HDI credible interval of user1: (25.88, 90.74)\n",
      "Mean pull number of user2: 74.83\n",
      "95% HDI credible interval of user2: (62.88, 86.99)\n",
      "Mean pull number of user3: 73.84\n",
      "95% HDI credible interval of user3: (65.0, 80.91)\n"
     ]
    }
   ],
   "source": [
    "print(f\"Mean pull number of user1: {user1_mu.values.flatten().mean():.4}\")\n",
    "lwr1, upr1 = calc_hdi(user1_mu.values.flatten())\n",
    "print(f\"95% HDI credible interval of user1: ({lwr1:.4}, {upr1:.4})\")\n",
    "\n",
    "print(f\"Mean pull number of user2: {user2_mu.values.flatten().mean():.4}\")\n",
    "lwr2, upr2 = calc_hdi(user2_mu.values.flatten())\n",
    "print(f\"95% HDI credible interval of user2: ({lwr2:.4}, {upr2:.4})\")\n",
    "\n",
    "print(f\"Mean pull number of user3: {user3_mu.values.flatten().mean():.4}\")\n",
    "lwr3, upr3 = calc_hdi(user3_mu.values.flatten())\n",
    "print(f\"95% HDI credible interval of user3: ({lwr3:.4}, {upr3:.4})\")"
   ]
  },
  {
   "cell_type": "code",
   "execution_count": 495,
   "id": "64e3c86e",
   "metadata": {},
   "outputs": [
    {
     "name": "stdout",
     "output_type": "stream",
     "text": [
      "Mean p of user1: 0.01662\n",
      "95% HDI credible interval of user1: (0.01035, 0.03373)\n",
      "Mean p number of user2: 0.01342\n",
      "95% HDI credible interval of user2: (0.01143, 0.01578)\n",
      "Mean p number of user3: 0.0135\n",
      "95% HDI credible interval of user3: (0.01223, 0.0152)\n"
     ]
    }
   ],
   "source": [
    "print(f\"Mean p of user1: {user1_p.values.flatten().mean():.4}\")\n",
    "lwr1, upr1 = calc_hdi(user1_p.values.flatten())\n",
    "print(f\"95% HDI credible interval of user1: ({lwr1:.4}, {upr1:.4})\")\n",
    "\n",
    "print(f\"Mean p number of user2: {user2_p.values.flatten().mean():.4}\")\n",
    "lwr2, upr2 = calc_hdi(user2_p.values.flatten())\n",
    "print(f\"95% HDI credible interval of user2: ({lwr2:.4}, {upr2:.4})\")\n",
    "\n",
    "print(f\"Mean p number of user3: {user3_p.values.flatten().mean():.4}\")\n",
    "lwr3, upr3 = calc_hdi(user3_p.values.flatten())\n",
    "print(f\"95% HDI credible interval of user3: ({lwr3:.4}, {upr3:.4})\")"
   ]
  },
  {
   "cell_type": "markdown",
   "id": "98577b15",
   "metadata": {},
   "source": [
    "### Comparison: non-informative prior; normal likelihood"
   ]
  },
  {
   "cell_type": "code",
   "execution_count": 412,
   "id": "6b8f4f80",
   "metadata": {},
   "outputs": [
    {
     "name": "stderr",
     "output_type": "stream",
     "text": [
      "Initializing NUTS using jitter+adapt_diag...\n",
      "Multiprocess sampling (4 chains in 4 jobs)\n",
      "NUTS: [tau, theta_user]\n"
     ]
    },
    {
     "data": {
      "application/vnd.jupyter.widget-view+json": {
       "model_id": "213f04527ec04d5e94cd90fa653e86fd",
       "version_major": 2,
       "version_minor": 0
      },
      "text/plain": [
       "Output()"
      ]
     },
     "metadata": {},
     "output_type": "display_data"
    },
    {
     "data": {
      "text/html": [
       "<pre style=\"white-space:pre;overflow-x:auto;line-height:normal;font-family:Menlo,'DejaVu Sans Mono',consolas,'Courier New',monospace\"></pre>\n"
      ],
      "text/plain": []
     },
     "metadata": {},
     "output_type": "display_data"
    },
    {
     "name": "stderr",
     "output_type": "stream",
     "text": [
      "Sampling 4 chains for 1_000 tune and 1_000 draw iterations (4_000 + 4_000 draws total) took 1 seconds.\n",
      "There were 11 divergences after tuning. Increase `target_accept` or reparameterize.\n"
     ]
    }
   ],
   "source": [
    "with pm.Model() as m_hier_student:\n",
    "    # nu = 1\n",
    "    lower_bound = 0\n",
    "    upper_bound = 90\n",
    "\n",
    "    # Metalog prior\n",
    "    a_vals = dist.output_dict[\"A\"][\"a3\"].values\n",
    "    t = 3\n",
    "    bounds = [lower_bound, upper_bound]\n",
    "\n",
    "    def metalog_logp(theta):\n",
    "        return logpMetalog_pt(theta, a_vals, t, bounds, boundedness=\"b\")\n",
    "\n",
    "    # Hyperpriors\n",
    "    tau = pm.Gamma(\"tau\", alpha=0.001, beta=0.001)\n",
    "    sigma = pm.Deterministic(\"sigma\", 1 / pm.math.sqrt(tau))\n",
    "\n",
    "    # User-specific θs from Metalog prior\n",
    "    θ_user = pm.DensityDist(\"theta_user\", logp=metalog_logp, shape=len(user_labels))\n",
    "\n",
    "    # Map θ_user to each user's pull\n",
    "    θ_obs = θ_user[user_idx]\n",
    "    p = pm.Deterministic(\"p\", pm.math.sigmoid(θ_obs))\n",
    "    mu = pm.Deterministic(\"mu\", 1 / -pm.math.log(1 - p))\n",
    "\n",
    "    # Likelihood\n",
    "    y = pm.Normal(\"y\", mu=mu, sigma=sigma, observed=pull_data)\n",
    "\n",
    "    trace = pm.sample(1000, tune=1000, return_inferencedata=True, idata_kwargs={\"log_likelihood\": True})"
   ]
  },
  {
   "cell_type": "code",
   "execution_count": 413,
   "id": "908c746d",
   "metadata": {},
   "outputs": [
    {
     "name": "stdout",
     "output_type": "stream",
     "text": [
      "Mean pull number of user1: 55.29\n",
      "95% HDI credible interval of user1: (0.7935, 87.05)\n",
      "Mean pull number of user2: 57.16\n",
      "95% HDI credible interval of user2: (31.23, 83.55)\n",
      "Mean pull number of user3: 55.71\n",
      "95% HDI credible interval of user3: (36.07, 74.77)\n"
     ]
    }
   ],
   "source": [
    "mu_samples = trace.posterior[\"mu\"]\n",
    "user1_mu = mu_samples[..., all_data[\"user\"] == \"user1\"]\n",
    "user2_mu = mu_samples[..., all_data[\"user\"] == \"user2\"]\n",
    "user3_mu = mu_samples[..., all_data[\"user\"] == \"user3\"]\n",
    "\n",
    "print(f\"Mean pull number of user1: {user1_mu.values.flatten().mean():.4}\")\n",
    "lwr1, upr1 = calc_hdi(user1_mu.values.flatten())\n",
    "print(f\"95% HDI credible interval of user1: ({lwr1:.4}, {upr1:.4})\")\n",
    "\n",
    "print(f\"Mean pull number of user2: {user2_mu.values.flatten().mean():.4}\")\n",
    "lwr2, upr2 = calc_hdi(user2_mu.values.flatten())\n",
    "print(f\"95% HDI credible interval of user2: ({lwr2:.4}, {upr2:.4})\")\n",
    "\n",
    "print(f\"Mean pull number of user3: {user3_mu.values.flatten().mean():.4}\")\n",
    "lwr3, upr3 = calc_hdi(user3_mu.values.flatten())\n",
    "print(f\"95% HDI credible interval of user3: ({lwr3:.4}, {upr3:.4})\")"
   ]
  },
  {
   "cell_type": "code",
   "execution_count": 400,
   "id": "83c7b74e",
   "metadata": {},
   "outputs": [
    {
     "name": "stderr",
     "output_type": "stream",
     "text": [
      "Initializing NUTS using jitter+adapt_diag...\n",
      "Multiprocess sampling (4 chains in 4 jobs)\n",
      "NUTS: [p, tau]\n"
     ]
    },
    {
     "data": {
      "application/vnd.jupyter.widget-view+json": {
       "model_id": "066826dbb58c4deeb3b412217705a69e",
       "version_major": 2,
       "version_minor": 0
      },
      "text/plain": [
       "Output()"
      ]
     },
     "metadata": {},
     "output_type": "display_data"
    },
    {
     "data": {
      "text/html": [
       "<pre style=\"white-space:pre;overflow-x:auto;line-height:normal;font-family:Menlo,'DejaVu Sans Mono',consolas,'Courier New',monospace\"></pre>\n"
      ],
      "text/plain": []
     },
     "metadata": {},
     "output_type": "display_data"
    },
    {
     "name": "stderr",
     "output_type": "stream",
     "text": [
      "Sampling 4 chains for 1_000 tune and 1_000 draw iterations (4_000 + 4_000 draws total) took 3 seconds.\n",
      "There were 2 divergences after tuning. Increase `target_accept` or reparameterize.\n",
      "The rhat statistic is larger than 1.01 for some parameters. This indicates problems during sampling. See https://arxiv.org/abs/1903.08008 for details\n",
      "The effective sample size per chain is smaller than 100 for some parameters.  A higher number is needed for reliable rhat and ess computation. See https://arxiv.org/abs/1903.08008 for details\n"
     ]
    }
   ],
   "source": [
    "# non-informative prior\n",
    "\n",
    "with pm.Model() as m_hier_student:\n",
    "    nu = 1  # degrees of freedom for Student's T\n",
    "\n",
    "    # Non-informative prior over user-specific success probabilities\n",
    "    p = pm.Beta(\"p\", alpha=1, beta=1, shape=len(user_labels))\n",
    "\n",
    "    # Convert p to expected value of geometric distribution (mean pulls to 5-star)\n",
    "    mu = pm.Deterministic(\"mu\", 1 / -pm.math.log(1 - p))\n",
    "\n",
    "    # Map mu to observed users\n",
    "    mu_obs = mu[user_idx]\n",
    "\n",
    "    # Hierarchical variance via Gamma hyperprior\n",
    "    tau = pm.Gamma(\"tau\", alpha=0.001, beta=0.001)\n",
    "    sigma = pm.Deterministic(\"sigma\", 1 / pm.math.sqrt(tau))\n",
    "\n",
    "    # Student's T likelihood over observed pulls\n",
    "    y = pm.StudentT(\"y\", mu=mu_obs, sigma=sigma, nu=nu, observed=pull_data)\n",
    "\n",
    "    trace = pm.sample(1000, tune=1000, return_inferencedata=True, idata_kwargs={\"log_likelihood\": True})"
   ]
  },
  {
   "cell_type": "code",
   "execution_count": 411,
   "id": "1d8196c0",
   "metadata": {},
   "outputs": [
    {
     "data": {
      "text/html": [
       "<div>\n",
       "<style scoped>\n",
       "    .dataframe tbody tr th:only-of-type {\n",
       "        vertical-align: middle;\n",
       "    }\n",
       "\n",
       "    .dataframe tbody tr th {\n",
       "        vertical-align: top;\n",
       "    }\n",
       "\n",
       "    .dataframe thead th {\n",
       "        text-align: right;\n",
       "    }\n",
       "</style>\n",
       "<table border=\"1\" class=\"dataframe\">\n",
       "  <thead>\n",
       "    <tr style=\"text-align: right;\">\n",
       "      <th></th>\n",
       "      <th>mean</th>\n",
       "      <th>sd</th>\n",
       "      <th>hdi_2.5%</th>\n",
       "      <th>hdi_97.5%</th>\n",
       "      <th>mcse_mean</th>\n",
       "      <th>mcse_sd</th>\n",
       "      <th>ess_bulk</th>\n",
       "      <th>ess_tail</th>\n",
       "      <th>r_hat</th>\n",
       "    </tr>\n",
       "  </thead>\n",
       "  <tbody>\n",
       "    <tr>\n",
       "      <th>p[0]</th>\n",
       "      <td>0.086</td>\n",
       "      <td>0.195</td>\n",
       "      <td>0.009</td>\n",
       "      <td>0.618</td>\n",
       "      <td>0.014</td>\n",
       "      <td>0.010</td>\n",
       "      <td>204.0</td>\n",
       "      <td>480.0</td>\n",
       "      <td>1.02</td>\n",
       "    </tr>\n",
       "    <tr>\n",
       "      <th>p[1]</th>\n",
       "      <td>0.014</td>\n",
       "      <td>0.009</td>\n",
       "      <td>0.011</td>\n",
       "      <td>0.018</td>\n",
       "      <td>0.001</td>\n",
       "      <td>0.000</td>\n",
       "      <td>349.0</td>\n",
       "      <td>159.0</td>\n",
       "      <td>1.01</td>\n",
       "    </tr>\n",
       "    <tr>\n",
       "      <th>p[2]</th>\n",
       "      <td>0.014</td>\n",
       "      <td>0.001</td>\n",
       "      <td>0.012</td>\n",
       "      <td>0.016</td>\n",
       "      <td>0.000</td>\n",
       "      <td>0.000</td>\n",
       "      <td>595.0</td>\n",
       "      <td>379.0</td>\n",
       "      <td>1.02</td>\n",
       "    </tr>\n",
       "    <tr>\n",
       "      <th>mu[0]</th>\n",
       "      <td>56.006</td>\n",
       "      <td>28.934</td>\n",
       "      <td>0.257</td>\n",
       "      <td>85.203</td>\n",
       "      <td>2.322</td>\n",
       "      <td>1.645</td>\n",
       "      <td>204.0</td>\n",
       "      <td>480.0</td>\n",
       "      <td>1.02</td>\n",
       "    </tr>\n",
       "    <tr>\n",
       "      <th>mu[1]</th>\n",
       "      <td>73.244</td>\n",
       "      <td>9.746</td>\n",
       "      <td>53.903</td>\n",
       "      <td>85.840</td>\n",
       "      <td>0.792</td>\n",
       "      <td>0.561</td>\n",
       "      <td>349.0</td>\n",
       "      <td>159.0</td>\n",
       "      <td>1.01</td>\n",
       "    </tr>\n",
       "    <tr>\n",
       "      <th>mu[2]</th>\n",
       "      <td>72.947</td>\n",
       "      <td>5.252</td>\n",
       "      <td>62.395</td>\n",
       "      <td>81.439</td>\n",
       "      <td>0.267</td>\n",
       "      <td>0.189</td>\n",
       "      <td>595.0</td>\n",
       "      <td>379.0</td>\n",
       "      <td>1.02</td>\n",
       "    </tr>\n",
       "  </tbody>\n",
       "</table>\n",
       "</div>"
      ],
      "text/plain": [
       "         mean      sd  hdi_2.5%  hdi_97.5%  mcse_mean  mcse_sd  ess_bulk  \\\n",
       "p[0]    0.086   0.195     0.009      0.618      0.014    0.010     204.0   \n",
       "p[1]    0.014   0.009     0.011      0.018      0.001    0.000     349.0   \n",
       "p[2]    0.014   0.001     0.012      0.016      0.000    0.000     595.0   \n",
       "mu[0]  56.006  28.934     0.257     85.203      2.322    1.645     204.0   \n",
       "mu[1]  73.244   9.746    53.903     85.840      0.792    0.561     349.0   \n",
       "mu[2]  72.947   5.252    62.395     81.439      0.267    0.189     595.0   \n",
       "\n",
       "       ess_tail  r_hat  \n",
       "p[0]      480.0   1.02  \n",
       "p[1]      159.0   1.01  \n",
       "p[2]      379.0   1.02  \n",
       "mu[0]     480.0   1.02  \n",
       "mu[1]     159.0   1.01  \n",
       "mu[2]     379.0   1.02  "
      ]
     },
     "execution_count": 411,
     "metadata": {},
     "output_type": "execute_result"
    }
   ],
   "source": [
    "az.summary(trace, var_names=[\"p\", \"mu\"], hdi_prob=0.95)"
   ]
  },
  {
   "cell_type": "code",
   "execution_count": null,
   "id": "0d89fd27",
   "metadata": {},
   "outputs": [],
   "source": []
  }
 ],
 "metadata": {
  "kernelspec": {
   "display_name": "pymc_env",
   "language": "python",
   "name": "pymc_env"
  },
  "language_info": {
   "codemirror_mode": {
    "name": "ipython",
    "version": 3
   },
   "file_extension": ".py",
   "mimetype": "text/x-python",
   "name": "python",
   "nbconvert_exporter": "python",
   "pygments_lexer": "ipython3",
   "version": "3.12.9"
  }
 },
 "nbformat": 4,
 "nbformat_minor": 5
}
